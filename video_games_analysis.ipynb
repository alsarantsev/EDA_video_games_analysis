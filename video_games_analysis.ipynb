{
 "cells": [
  {
   "cell_type": "code",
   "execution_count": 1,
   "metadata": {},
   "outputs": [
    {
     "name": "stdout",
     "output_type": "stream",
     "text": [
      "Requirement already satisfied: sidetable in c:\\users\\dell\\miniconda3\\lib\\site-packages (0.9.1)\n",
      "Requirement already satisfied: pandas>=1.0 in c:\\users\\dell\\miniconda3\\lib\\site-packages (from sidetable) (1.3.4)\n",
      "Requirement already satisfied: python-dateutil>=2.7.3 in c:\\users\\dell\\miniconda3\\lib\\site-packages (from pandas>=1.0->sidetable) (2.8.2)\n",
      "Requirement already satisfied: numpy>=1.17.3 in c:\\users\\dell\\miniconda3\\lib\\site-packages (from pandas>=1.0->sidetable) (1.21.4)\n",
      "Requirement already satisfied: pytz>=2017.3 in c:\\users\\dell\\miniconda3\\lib\\site-packages (from pandas>=1.0->sidetable) (2021.3)\n",
      "Requirement already satisfied: six>=1.5 in c:\\users\\dell\\miniconda3\\lib\\site-packages (from python-dateutil>=2.7.3->pandas>=1.0->sidetable) (1.16.0)\n"
     ]
    }
   ],
   "source": [
    "!pip install sidetable -U"
   ]
  },
  {
   "cell_type": "code",
   "execution_count": 2,
   "metadata": {},
   "outputs": [],
   "source": [
    "import pandas as pd\n",
    "import matplotlib.pyplot as plt\n",
    "import seaborn as sns\n",
    "import sidetable\n",
    "from scipy import stats as st"
   ]
  },
  {
   "cell_type": "markdown",
   "metadata": {},
   "source": [
    "# Project description\n",
    "We have to work with dataset from the online store Ice, which sells video games all over the world. User and expert reviews, genres, platforms (e.g. Xbox or PlayStation), and historical data on game sales are available from open sources. We need **to identify patterns that determine whether a game succeeds or not.** This will allow to online store to spot potential big winners and plan advertising campaigns.\n",
    "\n",
    "The dataset contains the abbreviation ESRB. The Entertainment Software Rating Board evaluates a game's content and assigns an age rating such as Teen or Mature.   \n",
    "\n",
    "Let's define to our probable steps and what we going do with data:   \n",
    "*1. Step 1 - Let's study our data in general, what we should work with.*   \n",
    "*2. Step 2 - We'll prepare the data and make changes, if it needed (working with missing values, incorrect data types, making necessary calculations)*    \n",
    "*3. Step 3 - Our probably one of the huge steps: analyze data. Dependences between platforms, sales regions and periods. Let's draw histograms, boxplots to work with distributions and dispersions.*   \n",
    "*4. Step 4 - Create different users for our further steps.*   \n",
    "*5. Step 5 - Test following hypotheses:*   \n",
    "- **Average user ratings of the Xbox One and PC platforms are the same.**   \n",
    "- **Average user ratings for the Action and Sports genres are different.**\n",
    "\n",
    "\n",
    "\n",
    "PS: and we'll try new library for us (sidetable) "
   ]
  },
  {
   "cell_type": "markdown",
   "metadata": {},
   "source": [
    "### Step 1. Take a look at general information\n",
    "Ok, we going to proceed to first step: "
   ]
  },
  {
   "cell_type": "code",
   "execution_count": 4,
   "metadata": {},
   "outputs": [],
   "source": [
    "try:\n",
    "    data = pd.read_csv(r\"C:\\Users\\Dell\\Documents\\tempPy\\myProjects\\ForGit\\Video games analysis_FirstIntegrated\\moved_games.csv\")\n",
    "except:\n",
    "    print('Try another database')"
   ]
  },
  {
   "cell_type": "code",
   "execution_count": 5,
   "metadata": {},
   "outputs": [
    {
     "data": {
      "text/html": [
       "<div>\n",
       "<style scoped>\n",
       "    .dataframe tbody tr th:only-of-type {\n",
       "        vertical-align: middle;\n",
       "    }\n",
       "\n",
       "    .dataframe tbody tr th {\n",
       "        vertical-align: top;\n",
       "    }\n",
       "\n",
       "    .dataframe thead th {\n",
       "        text-align: right;\n",
       "    }\n",
       "</style>\n",
       "<table border=\"1\" class=\"dataframe\">\n",
       "  <thead>\n",
       "    <tr style=\"text-align: right;\">\n",
       "      <th></th>\n",
       "      <th>Name</th>\n",
       "      <th>Platform</th>\n",
       "      <th>Year_of_Release</th>\n",
       "      <th>Genre</th>\n",
       "      <th>NA_sales</th>\n",
       "      <th>EU_sales</th>\n",
       "      <th>JP_sales</th>\n",
       "      <th>Other_sales</th>\n",
       "      <th>Critic_Score</th>\n",
       "      <th>User_Score</th>\n",
       "      <th>Rating</th>\n",
       "    </tr>\n",
       "  </thead>\n",
       "  <tbody>\n",
       "    <tr>\n",
       "      <th>0</th>\n",
       "      <td>Wii Sports</td>\n",
       "      <td>Wii</td>\n",
       "      <td>2006.0</td>\n",
       "      <td>Sports</td>\n",
       "      <td>41.36</td>\n",
       "      <td>28.96</td>\n",
       "      <td>3.77</td>\n",
       "      <td>8.45</td>\n",
       "      <td>76.0</td>\n",
       "      <td>8</td>\n",
       "      <td>E</td>\n",
       "    </tr>\n",
       "    <tr>\n",
       "      <th>1</th>\n",
       "      <td>Super Mario Bros.</td>\n",
       "      <td>NES</td>\n",
       "      <td>1985.0</td>\n",
       "      <td>Platform</td>\n",
       "      <td>29.08</td>\n",
       "      <td>3.58</td>\n",
       "      <td>6.81</td>\n",
       "      <td>0.77</td>\n",
       "      <td>NaN</td>\n",
       "      <td>NaN</td>\n",
       "      <td>NaN</td>\n",
       "    </tr>\n",
       "    <tr>\n",
       "      <th>2</th>\n",
       "      <td>Mario Kart Wii</td>\n",
       "      <td>Wii</td>\n",
       "      <td>2008.0</td>\n",
       "      <td>Racing</td>\n",
       "      <td>15.68</td>\n",
       "      <td>12.76</td>\n",
       "      <td>3.79</td>\n",
       "      <td>3.29</td>\n",
       "      <td>82.0</td>\n",
       "      <td>8.3</td>\n",
       "      <td>E</td>\n",
       "    </tr>\n",
       "    <tr>\n",
       "      <th>3</th>\n",
       "      <td>Wii Sports Resort</td>\n",
       "      <td>Wii</td>\n",
       "      <td>2009.0</td>\n",
       "      <td>Sports</td>\n",
       "      <td>15.61</td>\n",
       "      <td>10.93</td>\n",
       "      <td>3.28</td>\n",
       "      <td>2.95</td>\n",
       "      <td>80.0</td>\n",
       "      <td>8</td>\n",
       "      <td>E</td>\n",
       "    </tr>\n",
       "    <tr>\n",
       "      <th>4</th>\n",
       "      <td>Pokemon Red/Pokemon Blue</td>\n",
       "      <td>GB</td>\n",
       "      <td>1996.0</td>\n",
       "      <td>Role-Playing</td>\n",
       "      <td>11.27</td>\n",
       "      <td>8.89</td>\n",
       "      <td>10.22</td>\n",
       "      <td>1.00</td>\n",
       "      <td>NaN</td>\n",
       "      <td>NaN</td>\n",
       "      <td>NaN</td>\n",
       "    </tr>\n",
       "  </tbody>\n",
       "</table>\n",
       "</div>"
      ],
      "text/plain": [
       "                       Name Platform  Year_of_Release         Genre  NA_sales  \\\n",
       "0                Wii Sports      Wii           2006.0        Sports     41.36   \n",
       "1         Super Mario Bros.      NES           1985.0      Platform     29.08   \n",
       "2            Mario Kart Wii      Wii           2008.0        Racing     15.68   \n",
       "3         Wii Sports Resort      Wii           2009.0        Sports     15.61   \n",
       "4  Pokemon Red/Pokemon Blue       GB           1996.0  Role-Playing     11.27   \n",
       "\n",
       "   EU_sales  JP_sales  Other_sales  Critic_Score User_Score Rating  \n",
       "0     28.96      3.77         8.45          76.0          8      E  \n",
       "1      3.58      6.81         0.77           NaN        NaN    NaN  \n",
       "2     12.76      3.79         3.29          82.0        8.3      E  \n",
       "3     10.93      3.28         2.95          80.0          8      E  \n",
       "4      8.89     10.22         1.00           NaN        NaN    NaN  "
      ]
     },
     "execution_count": 5,
     "metadata": {},
     "output_type": "execute_result"
    }
   ],
   "source": [
    "data.head()"
   ]
  },
  {
   "cell_type": "code",
   "execution_count": 6,
   "metadata": {},
   "outputs": [
    {
     "data": {
      "text/html": [
       "<div>\n",
       "<style scoped>\n",
       "    .dataframe tbody tr th:only-of-type {\n",
       "        vertical-align: middle;\n",
       "    }\n",
       "\n",
       "    .dataframe tbody tr th {\n",
       "        vertical-align: top;\n",
       "    }\n",
       "\n",
       "    .dataframe thead th {\n",
       "        text-align: right;\n",
       "    }\n",
       "</style>\n",
       "<table border=\"1\" class=\"dataframe\">\n",
       "  <thead>\n",
       "    <tr style=\"text-align: right;\">\n",
       "      <th></th>\n",
       "      <th>Name</th>\n",
       "      <th>Platform</th>\n",
       "      <th>Year_of_Release</th>\n",
       "      <th>Genre</th>\n",
       "      <th>NA_sales</th>\n",
       "      <th>EU_sales</th>\n",
       "      <th>JP_sales</th>\n",
       "      <th>Other_sales</th>\n",
       "      <th>Critic_Score</th>\n",
       "      <th>User_Score</th>\n",
       "      <th>Rating</th>\n",
       "    </tr>\n",
       "  </thead>\n",
       "  <tbody>\n",
       "    <tr>\n",
       "      <th>16710</th>\n",
       "      <td>Samurai Warriors: Sanada Maru</td>\n",
       "      <td>PS3</td>\n",
       "      <td>2016.0</td>\n",
       "      <td>Action</td>\n",
       "      <td>0.00</td>\n",
       "      <td>0.00</td>\n",
       "      <td>0.01</td>\n",
       "      <td>0.0</td>\n",
       "      <td>NaN</td>\n",
       "      <td>NaN</td>\n",
       "      <td>NaN</td>\n",
       "    </tr>\n",
       "    <tr>\n",
       "      <th>16711</th>\n",
       "      <td>LMA Manager 2007</td>\n",
       "      <td>X360</td>\n",
       "      <td>2006.0</td>\n",
       "      <td>Sports</td>\n",
       "      <td>0.00</td>\n",
       "      <td>0.01</td>\n",
       "      <td>0.00</td>\n",
       "      <td>0.0</td>\n",
       "      <td>NaN</td>\n",
       "      <td>NaN</td>\n",
       "      <td>NaN</td>\n",
       "    </tr>\n",
       "    <tr>\n",
       "      <th>16712</th>\n",
       "      <td>Haitaka no Psychedelica</td>\n",
       "      <td>PSV</td>\n",
       "      <td>2016.0</td>\n",
       "      <td>Adventure</td>\n",
       "      <td>0.00</td>\n",
       "      <td>0.00</td>\n",
       "      <td>0.01</td>\n",
       "      <td>0.0</td>\n",
       "      <td>NaN</td>\n",
       "      <td>NaN</td>\n",
       "      <td>NaN</td>\n",
       "    </tr>\n",
       "    <tr>\n",
       "      <th>16713</th>\n",
       "      <td>Spirits &amp; Spells</td>\n",
       "      <td>GBA</td>\n",
       "      <td>2003.0</td>\n",
       "      <td>Platform</td>\n",
       "      <td>0.01</td>\n",
       "      <td>0.00</td>\n",
       "      <td>0.00</td>\n",
       "      <td>0.0</td>\n",
       "      <td>NaN</td>\n",
       "      <td>NaN</td>\n",
       "      <td>NaN</td>\n",
       "    </tr>\n",
       "    <tr>\n",
       "      <th>16714</th>\n",
       "      <td>Winning Post 8 2016</td>\n",
       "      <td>PSV</td>\n",
       "      <td>2016.0</td>\n",
       "      <td>Simulation</td>\n",
       "      <td>0.00</td>\n",
       "      <td>0.00</td>\n",
       "      <td>0.01</td>\n",
       "      <td>0.0</td>\n",
       "      <td>NaN</td>\n",
       "      <td>NaN</td>\n",
       "      <td>NaN</td>\n",
       "    </tr>\n",
       "  </tbody>\n",
       "</table>\n",
       "</div>"
      ],
      "text/plain": [
       "                                Name Platform  Year_of_Release       Genre  \\\n",
       "16710  Samurai Warriors: Sanada Maru      PS3           2016.0      Action   \n",
       "16711               LMA Manager 2007     X360           2006.0      Sports   \n",
       "16712        Haitaka no Psychedelica      PSV           2016.0   Adventure   \n",
       "16713               Spirits & Spells      GBA           2003.0    Platform   \n",
       "16714            Winning Post 8 2016      PSV           2016.0  Simulation   \n",
       "\n",
       "       NA_sales  EU_sales  JP_sales  Other_sales  Critic_Score User_Score  \\\n",
       "16710      0.00      0.00      0.01          0.0           NaN        NaN   \n",
       "16711      0.00      0.01      0.00          0.0           NaN        NaN   \n",
       "16712      0.00      0.00      0.01          0.0           NaN        NaN   \n",
       "16713      0.01      0.00      0.00          0.0           NaN        NaN   \n",
       "16714      0.00      0.00      0.01          0.0           NaN        NaN   \n",
       "\n",
       "      Rating  \n",
       "16710    NaN  \n",
       "16711    NaN  \n",
       "16712    NaN  \n",
       "16713    NaN  \n",
       "16714    NaN  "
      ]
     },
     "execution_count": 6,
     "metadata": {},
     "output_type": "execute_result"
    }
   ],
   "source": [
    "data.tail()"
   ]
  },
  {
   "cell_type": "code",
   "execution_count": 7,
   "metadata": {},
   "outputs": [
    {
     "data": {
      "text/html": [
       "<div>\n",
       "<style scoped>\n",
       "    .dataframe tbody tr th:only-of-type {\n",
       "        vertical-align: middle;\n",
       "    }\n",
       "\n",
       "    .dataframe tbody tr th {\n",
       "        vertical-align: top;\n",
       "    }\n",
       "\n",
       "    .dataframe thead th {\n",
       "        text-align: right;\n",
       "    }\n",
       "</style>\n",
       "<table border=\"1\" class=\"dataframe\">\n",
       "  <thead>\n",
       "    <tr style=\"text-align: right;\">\n",
       "      <th></th>\n",
       "      <th>Name</th>\n",
       "      <th>Platform</th>\n",
       "      <th>Year_of_Release</th>\n",
       "      <th>Genre</th>\n",
       "      <th>NA_sales</th>\n",
       "      <th>EU_sales</th>\n",
       "      <th>JP_sales</th>\n",
       "      <th>Other_sales</th>\n",
       "      <th>Critic_Score</th>\n",
       "      <th>User_Score</th>\n",
       "      <th>Rating</th>\n",
       "    </tr>\n",
       "  </thead>\n",
       "  <tbody>\n",
       "    <tr>\n",
       "      <th>8141</th>\n",
       "      <td>Pirates: Hunt For Blackbeard's Booty</td>\n",
       "      <td>Wii</td>\n",
       "      <td>2008.0</td>\n",
       "      <td>Adventure</td>\n",
       "      <td>0.08</td>\n",
       "      <td>0.08</td>\n",
       "      <td>0.00</td>\n",
       "      <td>0.02</td>\n",
       "      <td>NaN</td>\n",
       "      <td>tbd</td>\n",
       "      <td>E</td>\n",
       "    </tr>\n",
       "    <tr>\n",
       "      <th>14797</th>\n",
       "      <td>Cossacks: European Wars</td>\n",
       "      <td>PC</td>\n",
       "      <td>2001.0</td>\n",
       "      <td>Strategy</td>\n",
       "      <td>0.00</td>\n",
       "      <td>0.02</td>\n",
       "      <td>0.00</td>\n",
       "      <td>0.00</td>\n",
       "      <td>74.0</td>\n",
       "      <td>8.6</td>\n",
       "      <td>T</td>\n",
       "    </tr>\n",
       "    <tr>\n",
       "      <th>9445</th>\n",
       "      <td>Slime MoriMori Dragon Quest 3: Taikaizoku to S...</td>\n",
       "      <td>3DS</td>\n",
       "      <td>2011.0</td>\n",
       "      <td>Role-Playing</td>\n",
       "      <td>0.00</td>\n",
       "      <td>0.00</td>\n",
       "      <td>0.13</td>\n",
       "      <td>0.00</td>\n",
       "      <td>NaN</td>\n",
       "      <td>NaN</td>\n",
       "      <td>NaN</td>\n",
       "    </tr>\n",
       "    <tr>\n",
       "      <th>3070</th>\n",
       "      <td>Lollipop Chainsaw</td>\n",
       "      <td>PS3</td>\n",
       "      <td>2012.0</td>\n",
       "      <td>Action</td>\n",
       "      <td>0.27</td>\n",
       "      <td>0.20</td>\n",
       "      <td>0.11</td>\n",
       "      <td>0.08</td>\n",
       "      <td>67.0</td>\n",
       "      <td>7.1</td>\n",
       "      <td>M</td>\n",
       "    </tr>\n",
       "    <tr>\n",
       "      <th>8217</th>\n",
       "      <td>Warriors of Might and Magic</td>\n",
       "      <td>PS2</td>\n",
       "      <td>2001.0</td>\n",
       "      <td>Adventure</td>\n",
       "      <td>0.09</td>\n",
       "      <td>0.07</td>\n",
       "      <td>0.00</td>\n",
       "      <td>0.02</td>\n",
       "      <td>49.0</td>\n",
       "      <td>4.5</td>\n",
       "      <td>T</td>\n",
       "    </tr>\n",
       "    <tr>\n",
       "      <th>2764</th>\n",
       "      <td>The Lord of the Rings: The Two Towers</td>\n",
       "      <td>GBA</td>\n",
       "      <td>2002.0</td>\n",
       "      <td>Action</td>\n",
       "      <td>0.53</td>\n",
       "      <td>0.20</td>\n",
       "      <td>0.00</td>\n",
       "      <td>0.01</td>\n",
       "      <td>NaN</td>\n",
       "      <td>NaN</td>\n",
       "      <td>NaN</td>\n",
       "    </tr>\n",
       "    <tr>\n",
       "      <th>10458</th>\n",
       "      <td>Pro Evolution Soccer 2014</td>\n",
       "      <td>PC</td>\n",
       "      <td>2013.0</td>\n",
       "      <td>Action</td>\n",
       "      <td>0.00</td>\n",
       "      <td>0.10</td>\n",
       "      <td>0.00</td>\n",
       "      <td>0.01</td>\n",
       "      <td>74.0</td>\n",
       "      <td>4.4</td>\n",
       "      <td>E</td>\n",
       "    </tr>\n",
       "    <tr>\n",
       "      <th>1475</th>\n",
       "      <td>The Elder Scrolls V: Skyrim</td>\n",
       "      <td>PS4</td>\n",
       "      <td>2016.0</td>\n",
       "      <td>Role-Playing</td>\n",
       "      <td>0.48</td>\n",
       "      <td>0.59</td>\n",
       "      <td>0.04</td>\n",
       "      <td>0.21</td>\n",
       "      <td>NaN</td>\n",
       "      <td>NaN</td>\n",
       "      <td>NaN</td>\n",
       "    </tr>\n",
       "    <tr>\n",
       "      <th>7867</th>\n",
       "      <td>Phantasy Star Universe</td>\n",
       "      <td>PS2</td>\n",
       "      <td>2006.0</td>\n",
       "      <td>Role-Playing</td>\n",
       "      <td>0.00</td>\n",
       "      <td>0.00</td>\n",
       "      <td>0.19</td>\n",
       "      <td>0.00</td>\n",
       "      <td>68.0</td>\n",
       "      <td>8.5</td>\n",
       "      <td>T</td>\n",
       "    </tr>\n",
       "    <tr>\n",
       "      <th>4647</th>\n",
       "      <td>High Rollers Casino</td>\n",
       "      <td>PS2</td>\n",
       "      <td>2004.0</td>\n",
       "      <td>Misc</td>\n",
       "      <td>0.20</td>\n",
       "      <td>0.16</td>\n",
       "      <td>0.00</td>\n",
       "      <td>0.05</td>\n",
       "      <td>NaN</td>\n",
       "      <td>tbd</td>\n",
       "      <td>E</td>\n",
       "    </tr>\n",
       "  </tbody>\n",
       "</table>\n",
       "</div>"
      ],
      "text/plain": [
       "                                                    Name Platform  \\\n",
       "8141                Pirates: Hunt For Blackbeard's Booty      Wii   \n",
       "14797                            Cossacks: European Wars       PC   \n",
       "9445   Slime MoriMori Dragon Quest 3: Taikaizoku to S...      3DS   \n",
       "3070                                   Lollipop Chainsaw      PS3   \n",
       "8217                         Warriors of Might and Magic      PS2   \n",
       "2764               The Lord of the Rings: The Two Towers      GBA   \n",
       "10458                          Pro Evolution Soccer 2014       PC   \n",
       "1475                         The Elder Scrolls V: Skyrim      PS4   \n",
       "7867                              Phantasy Star Universe      PS2   \n",
       "4647                                 High Rollers Casino      PS2   \n",
       "\n",
       "       Year_of_Release         Genre  NA_sales  EU_sales  JP_sales  \\\n",
       "8141            2008.0     Adventure      0.08      0.08      0.00   \n",
       "14797           2001.0      Strategy      0.00      0.02      0.00   \n",
       "9445            2011.0  Role-Playing      0.00      0.00      0.13   \n",
       "3070            2012.0        Action      0.27      0.20      0.11   \n",
       "8217            2001.0     Adventure      0.09      0.07      0.00   \n",
       "2764            2002.0        Action      0.53      0.20      0.00   \n",
       "10458           2013.0        Action      0.00      0.10      0.00   \n",
       "1475            2016.0  Role-Playing      0.48      0.59      0.04   \n",
       "7867            2006.0  Role-Playing      0.00      0.00      0.19   \n",
       "4647            2004.0          Misc      0.20      0.16      0.00   \n",
       "\n",
       "       Other_sales  Critic_Score User_Score Rating  \n",
       "8141          0.02           NaN        tbd      E  \n",
       "14797         0.00          74.0        8.6      T  \n",
       "9445          0.00           NaN        NaN    NaN  \n",
       "3070          0.08          67.0        7.1      M  \n",
       "8217          0.02          49.0        4.5      T  \n",
       "2764          0.01           NaN        NaN    NaN  \n",
       "10458         0.01          74.0        4.4      E  \n",
       "1475          0.21           NaN        NaN    NaN  \n",
       "7867          0.00          68.0        8.5      T  \n",
       "4647          0.05           NaN        tbd      E  "
      ]
     },
     "execution_count": 7,
     "metadata": {},
     "output_type": "execute_result"
    }
   ],
   "source": [
    "data.sample(10)"
   ]
  },
  {
   "cell_type": "code",
   "execution_count": 8,
   "metadata": {},
   "outputs": [
    {
     "name": "stdout",
     "output_type": "stream",
     "text": [
      "<class 'pandas.core.frame.DataFrame'>\n",
      "RangeIndex: 16715 entries, 0 to 16714\n",
      "Data columns (total 11 columns):\n",
      " #   Column           Non-Null Count  Dtype  \n",
      "---  ------           --------------  -----  \n",
      " 0   Name             16713 non-null  object \n",
      " 1   Platform         16715 non-null  object \n",
      " 2   Year_of_Release  16446 non-null  float64\n",
      " 3   Genre            16713 non-null  object \n",
      " 4   NA_sales         16715 non-null  float64\n",
      " 5   EU_sales         16715 non-null  float64\n",
      " 6   JP_sales         16715 non-null  float64\n",
      " 7   Other_sales      16715 non-null  float64\n",
      " 8   Critic_Score     8137 non-null   float64\n",
      " 9   User_Score       10014 non-null  object \n",
      " 10  Rating           9949 non-null   object \n",
      "dtypes: float64(6), object(5)\n",
      "memory usage: 1.4+ MB\n"
     ]
    }
   ],
   "source": [
    "data.info()"
   ]
  },
  {
   "cell_type": "code",
   "execution_count": 9,
   "metadata": {},
   "outputs": [
    {
     "data": {
      "text/html": [
       "<style type=\"text/css\">\n",
       "</style>\n",
       "<table id=\"T_76dbf_\">\n",
       "  <thead>\n",
       "    <tr>\n",
       "      <th class=\"blank level0\" >&nbsp;</th>\n",
       "      <th class=\"col_heading level0 col0\" >missing</th>\n",
       "      <th class=\"col_heading level0 col1\" >total</th>\n",
       "      <th class=\"col_heading level0 col2\" >percent</th>\n",
       "    </tr>\n",
       "  </thead>\n",
       "  <tbody>\n",
       "    <tr>\n",
       "      <th id=\"T_76dbf_level0_row0\" class=\"row_heading level0 row0\" >Critic_Score</th>\n",
       "      <td id=\"T_76dbf_row0_col0\" class=\"data row0 col0\" >8,578</td>\n",
       "      <td id=\"T_76dbf_row0_col1\" class=\"data row0 col1\" >16,715</td>\n",
       "      <td id=\"T_76dbf_row0_col2\" class=\"data row0 col2\" >51.32%</td>\n",
       "    </tr>\n",
       "    <tr>\n",
       "      <th id=\"T_76dbf_level0_row1\" class=\"row_heading level0 row1\" >Rating</th>\n",
       "      <td id=\"T_76dbf_row1_col0\" class=\"data row1 col0\" >6,766</td>\n",
       "      <td id=\"T_76dbf_row1_col1\" class=\"data row1 col1\" >16,715</td>\n",
       "      <td id=\"T_76dbf_row1_col2\" class=\"data row1 col2\" >40.48%</td>\n",
       "    </tr>\n",
       "    <tr>\n",
       "      <th id=\"T_76dbf_level0_row2\" class=\"row_heading level0 row2\" >User_Score</th>\n",
       "      <td id=\"T_76dbf_row2_col0\" class=\"data row2 col0\" >6,701</td>\n",
       "      <td id=\"T_76dbf_row2_col1\" class=\"data row2 col1\" >16,715</td>\n",
       "      <td id=\"T_76dbf_row2_col2\" class=\"data row2 col2\" >40.09%</td>\n",
       "    </tr>\n",
       "    <tr>\n",
       "      <th id=\"T_76dbf_level0_row3\" class=\"row_heading level0 row3\" >Year_of_Release</th>\n",
       "      <td id=\"T_76dbf_row3_col0\" class=\"data row3 col0\" >269</td>\n",
       "      <td id=\"T_76dbf_row3_col1\" class=\"data row3 col1\" >16,715</td>\n",
       "      <td id=\"T_76dbf_row3_col2\" class=\"data row3 col2\" >1.61%</td>\n",
       "    </tr>\n",
       "    <tr>\n",
       "      <th id=\"T_76dbf_level0_row4\" class=\"row_heading level0 row4\" >Name</th>\n",
       "      <td id=\"T_76dbf_row4_col0\" class=\"data row4 col0\" >2</td>\n",
       "      <td id=\"T_76dbf_row4_col1\" class=\"data row4 col1\" >16,715</td>\n",
       "      <td id=\"T_76dbf_row4_col2\" class=\"data row4 col2\" >0.01%</td>\n",
       "    </tr>\n",
       "    <tr>\n",
       "      <th id=\"T_76dbf_level0_row5\" class=\"row_heading level0 row5\" >Genre</th>\n",
       "      <td id=\"T_76dbf_row5_col0\" class=\"data row5 col0\" >2</td>\n",
       "      <td id=\"T_76dbf_row5_col1\" class=\"data row5 col1\" >16,715</td>\n",
       "      <td id=\"T_76dbf_row5_col2\" class=\"data row5 col2\" >0.01%</td>\n",
       "    </tr>\n",
       "    <tr>\n",
       "      <th id=\"T_76dbf_level0_row6\" class=\"row_heading level0 row6\" >Platform</th>\n",
       "      <td id=\"T_76dbf_row6_col0\" class=\"data row6 col0\" >0</td>\n",
       "      <td id=\"T_76dbf_row6_col1\" class=\"data row6 col1\" >16,715</td>\n",
       "      <td id=\"T_76dbf_row6_col2\" class=\"data row6 col2\" >0.00%</td>\n",
       "    </tr>\n",
       "    <tr>\n",
       "      <th id=\"T_76dbf_level0_row7\" class=\"row_heading level0 row7\" >NA_sales</th>\n",
       "      <td id=\"T_76dbf_row7_col0\" class=\"data row7 col0\" >0</td>\n",
       "      <td id=\"T_76dbf_row7_col1\" class=\"data row7 col1\" >16,715</td>\n",
       "      <td id=\"T_76dbf_row7_col2\" class=\"data row7 col2\" >0.00%</td>\n",
       "    </tr>\n",
       "    <tr>\n",
       "      <th id=\"T_76dbf_level0_row8\" class=\"row_heading level0 row8\" >EU_sales</th>\n",
       "      <td id=\"T_76dbf_row8_col0\" class=\"data row8 col0\" >0</td>\n",
       "      <td id=\"T_76dbf_row8_col1\" class=\"data row8 col1\" >16,715</td>\n",
       "      <td id=\"T_76dbf_row8_col2\" class=\"data row8 col2\" >0.00%</td>\n",
       "    </tr>\n",
       "    <tr>\n",
       "      <th id=\"T_76dbf_level0_row9\" class=\"row_heading level0 row9\" >JP_sales</th>\n",
       "      <td id=\"T_76dbf_row9_col0\" class=\"data row9 col0\" >0</td>\n",
       "      <td id=\"T_76dbf_row9_col1\" class=\"data row9 col1\" >16,715</td>\n",
       "      <td id=\"T_76dbf_row9_col2\" class=\"data row9 col2\" >0.00%</td>\n",
       "    </tr>\n",
       "    <tr>\n",
       "      <th id=\"T_76dbf_level0_row10\" class=\"row_heading level0 row10\" >Other_sales</th>\n",
       "      <td id=\"T_76dbf_row10_col0\" class=\"data row10 col0\" >0</td>\n",
       "      <td id=\"T_76dbf_row10_col1\" class=\"data row10 col1\" >16,715</td>\n",
       "      <td id=\"T_76dbf_row10_col2\" class=\"data row10 col2\" >0.00%</td>\n",
       "    </tr>\n",
       "  </tbody>\n",
       "</table>\n"
      ],
      "text/plain": [
       "<pandas.io.formats.style.Styler at 0x1ab83884648>"
      ]
     },
     "execution_count": 9,
     "metadata": {},
     "output_type": "execute_result"
    }
   ],
   "source": [
    "data.stb.missing(style = True)"
   ]
  },
  {
   "cell_type": "code",
   "execution_count": 12,
   "metadata": {},
   "outputs": [
    {
     "data": {
      "text/html": [
       "<div>\n",
       "<style scoped>\n",
       "    .dataframe tbody tr th:only-of-type {\n",
       "        vertical-align: middle;\n",
       "    }\n",
       "\n",
       "    .dataframe tbody tr th {\n",
       "        vertical-align: top;\n",
       "    }\n",
       "\n",
       "    .dataframe thead th {\n",
       "        text-align: right;\n",
       "    }\n",
       "</style>\n",
       "<table border=\"1\" class=\"dataframe\">\n",
       "  <thead>\n",
       "    <tr style=\"text-align: right;\">\n",
       "      <th></th>\n",
       "      <th>Year_of_Release</th>\n",
       "      <th>NA_sales</th>\n",
       "      <th>EU_sales</th>\n",
       "      <th>JP_sales</th>\n",
       "      <th>Other_sales</th>\n",
       "      <th>Critic_Score</th>\n",
       "    </tr>\n",
       "  </thead>\n",
       "  <tbody>\n",
       "    <tr>\n",
       "      <th>count</th>\n",
       "      <td>16446.000000</td>\n",
       "      <td>16715.000000</td>\n",
       "      <td>16715.000000</td>\n",
       "      <td>16715.000000</td>\n",
       "      <td>16715.000000</td>\n",
       "      <td>8137.000000</td>\n",
       "    </tr>\n",
       "    <tr>\n",
       "      <th>mean</th>\n",
       "      <td>2006.484616</td>\n",
       "      <td>0.263377</td>\n",
       "      <td>0.145060</td>\n",
       "      <td>0.077617</td>\n",
       "      <td>0.047342</td>\n",
       "      <td>68.967679</td>\n",
       "    </tr>\n",
       "    <tr>\n",
       "      <th>std</th>\n",
       "      <td>5.877050</td>\n",
       "      <td>0.813604</td>\n",
       "      <td>0.503339</td>\n",
       "      <td>0.308853</td>\n",
       "      <td>0.186731</td>\n",
       "      <td>13.938165</td>\n",
       "    </tr>\n",
       "    <tr>\n",
       "      <th>min</th>\n",
       "      <td>1980.000000</td>\n",
       "      <td>0.000000</td>\n",
       "      <td>0.000000</td>\n",
       "      <td>0.000000</td>\n",
       "      <td>0.000000</td>\n",
       "      <td>13.000000</td>\n",
       "    </tr>\n",
       "    <tr>\n",
       "      <th>25%</th>\n",
       "      <td>2003.000000</td>\n",
       "      <td>0.000000</td>\n",
       "      <td>0.000000</td>\n",
       "      <td>0.000000</td>\n",
       "      <td>0.000000</td>\n",
       "      <td>60.000000</td>\n",
       "    </tr>\n",
       "    <tr>\n",
       "      <th>50%</th>\n",
       "      <td>2007.000000</td>\n",
       "      <td>0.080000</td>\n",
       "      <td>0.020000</td>\n",
       "      <td>0.000000</td>\n",
       "      <td>0.010000</td>\n",
       "      <td>71.000000</td>\n",
       "    </tr>\n",
       "    <tr>\n",
       "      <th>75%</th>\n",
       "      <td>2010.000000</td>\n",
       "      <td>0.240000</td>\n",
       "      <td>0.110000</td>\n",
       "      <td>0.040000</td>\n",
       "      <td>0.030000</td>\n",
       "      <td>79.000000</td>\n",
       "    </tr>\n",
       "    <tr>\n",
       "      <th>max</th>\n",
       "      <td>2016.000000</td>\n",
       "      <td>41.360000</td>\n",
       "      <td>28.960000</td>\n",
       "      <td>10.220000</td>\n",
       "      <td>10.570000</td>\n",
       "      <td>98.000000</td>\n",
       "    </tr>\n",
       "  </tbody>\n",
       "</table>\n",
       "</div>"
      ],
      "text/plain": [
       "       Year_of_Release      NA_sales      EU_sales      JP_sales  \\\n",
       "count     16446.000000  16715.000000  16715.000000  16715.000000   \n",
       "mean       2006.484616      0.263377      0.145060      0.077617   \n",
       "std           5.877050      0.813604      0.503339      0.308853   \n",
       "min        1980.000000      0.000000      0.000000      0.000000   \n",
       "25%        2003.000000      0.000000      0.000000      0.000000   \n",
       "50%        2007.000000      0.080000      0.020000      0.000000   \n",
       "75%        2010.000000      0.240000      0.110000      0.040000   \n",
       "max        2016.000000     41.360000     28.960000     10.220000   \n",
       "\n",
       "        Other_sales  Critic_Score  \n",
       "count  16715.000000   8137.000000  \n",
       "mean       0.047342     68.967679  \n",
       "std        0.186731     13.938165  \n",
       "min        0.000000     13.000000  \n",
       "25%        0.000000     60.000000  \n",
       "50%        0.010000     71.000000  \n",
       "75%        0.030000     79.000000  \n",
       "max       10.570000     98.000000  "
      ]
     },
     "execution_count": 12,
     "metadata": {},
     "output_type": "execute_result"
    }
   ],
   "source": [
    "data.describe()"
   ]
  },
  {
   "cell_type": "code",
   "execution_count": 11,
   "metadata": {},
   "outputs": [
    {
     "data": {
      "text/html": [
       "<div>\n",
       "<style scoped>\n",
       "    .dataframe tbody tr th:only-of-type {\n",
       "        vertical-align: middle;\n",
       "    }\n",
       "\n",
       "    .dataframe tbody tr th {\n",
       "        vertical-align: top;\n",
       "    }\n",
       "\n",
       "    .dataframe thead th {\n",
       "        text-align: right;\n",
       "    }\n",
       "</style>\n",
       "<table border=\"1\" class=\"dataframe\">\n",
       "  <thead>\n",
       "    <tr style=\"text-align: right;\">\n",
       "      <th></th>\n",
       "      <th>Name</th>\n",
       "      <th>Platform</th>\n",
       "      <th>Genre</th>\n",
       "      <th>User_Score</th>\n",
       "      <th>Rating</th>\n",
       "    </tr>\n",
       "  </thead>\n",
       "  <tbody>\n",
       "    <tr>\n",
       "      <th>count</th>\n",
       "      <td>16713</td>\n",
       "      <td>16715</td>\n",
       "      <td>16713</td>\n",
       "      <td>10014</td>\n",
       "      <td>9949</td>\n",
       "    </tr>\n",
       "    <tr>\n",
       "      <th>unique</th>\n",
       "      <td>11559</td>\n",
       "      <td>31</td>\n",
       "      <td>12</td>\n",
       "      <td>96</td>\n",
       "      <td>8</td>\n",
       "    </tr>\n",
       "    <tr>\n",
       "      <th>top</th>\n",
       "      <td>Need for Speed: Most Wanted</td>\n",
       "      <td>PS2</td>\n",
       "      <td>Action</td>\n",
       "      <td>tbd</td>\n",
       "      <td>E</td>\n",
       "    </tr>\n",
       "    <tr>\n",
       "      <th>freq</th>\n",
       "      <td>12</td>\n",
       "      <td>2161</td>\n",
       "      <td>3369</td>\n",
       "      <td>2424</td>\n",
       "      <td>3990</td>\n",
       "    </tr>\n",
       "  </tbody>\n",
       "</table>\n",
       "</div>"
      ],
      "text/plain": [
       "                               Name Platform   Genre User_Score Rating\n",
       "count                         16713    16715   16713      10014   9949\n",
       "unique                        11559       31      12         96      8\n",
       "top     Need for Speed: Most Wanted      PS2  Action        tbd      E\n",
       "freq                             12     2161    3369       2424   3990"
      ]
     },
     "execution_count": 11,
     "metadata": {},
     "output_type": "execute_result"
    }
   ],
   "source": [
    "data.describe(include = 'object')"
   ]
  },
  {
   "cell_type": "markdown",
   "metadata": {},
   "source": [
    "#### Conclusion Step 1:   \n",
    "\n",
    "So, as we see, in our dataset there are several issues that we have to deal with:   \n",
    "- names of columns start with upper letter   \n",
    "- the **'Year_of_Release'** column has float type, but should be integer.   \n",
    "- the **'User_Score'** column simultaneously consist values, that we define like *'float'* type and *'string'* type and apparently should be in the same scale with **'Critic_Score'**.   \n",
    "- there are 3 columns with small amount missing values and 3 ones where more than 40 % missing values.  "
   ]
  },
  {
   "cell_type": "markdown",
   "metadata": {},
   "source": [
    "### Step 2. Preparing date"
   ]
  },
  {
   "cell_type": "markdown",
   "metadata": {},
   "source": [
    "Ok, let's convert column names to lower case"
   ]
  },
  {
   "cell_type": "code",
   "execution_count": 13,
   "metadata": {},
   "outputs": [],
   "source": [
    "data.columns = data.columns.str.lower()"
   ]
  },
  {
   "cell_type": "code",
   "execution_count": 14,
   "metadata": {},
   "outputs": [
    {
     "data": {
      "text/html": [
       "<div>\n",
       "<style scoped>\n",
       "    .dataframe tbody tr th:only-of-type {\n",
       "        vertical-align: middle;\n",
       "    }\n",
       "\n",
       "    .dataframe tbody tr th {\n",
       "        vertical-align: top;\n",
       "    }\n",
       "\n",
       "    .dataframe thead th {\n",
       "        text-align: right;\n",
       "    }\n",
       "</style>\n",
       "<table border=\"1\" class=\"dataframe\">\n",
       "  <thead>\n",
       "    <tr style=\"text-align: right;\">\n",
       "      <th></th>\n",
       "      <th>name</th>\n",
       "      <th>platform</th>\n",
       "      <th>year_of_release</th>\n",
       "      <th>genre</th>\n",
       "      <th>na_sales</th>\n",
       "      <th>eu_sales</th>\n",
       "      <th>jp_sales</th>\n",
       "      <th>other_sales</th>\n",
       "      <th>critic_score</th>\n",
       "      <th>user_score</th>\n",
       "      <th>rating</th>\n",
       "    </tr>\n",
       "  </thead>\n",
       "  <tbody>\n",
       "    <tr>\n",
       "      <th>0</th>\n",
       "      <td>Wii Sports</td>\n",
       "      <td>Wii</td>\n",
       "      <td>2006.0</td>\n",
       "      <td>Sports</td>\n",
       "      <td>41.36</td>\n",
       "      <td>28.96</td>\n",
       "      <td>3.77</td>\n",
       "      <td>8.45</td>\n",
       "      <td>76.0</td>\n",
       "      <td>8</td>\n",
       "      <td>E</td>\n",
       "    </tr>\n",
       "    <tr>\n",
       "      <th>1</th>\n",
       "      <td>Super Mario Bros.</td>\n",
       "      <td>NES</td>\n",
       "      <td>1985.0</td>\n",
       "      <td>Platform</td>\n",
       "      <td>29.08</td>\n",
       "      <td>3.58</td>\n",
       "      <td>6.81</td>\n",
       "      <td>0.77</td>\n",
       "      <td>NaN</td>\n",
       "      <td>NaN</td>\n",
       "      <td>NaN</td>\n",
       "    </tr>\n",
       "    <tr>\n",
       "      <th>2</th>\n",
       "      <td>Mario Kart Wii</td>\n",
       "      <td>Wii</td>\n",
       "      <td>2008.0</td>\n",
       "      <td>Racing</td>\n",
       "      <td>15.68</td>\n",
       "      <td>12.76</td>\n",
       "      <td>3.79</td>\n",
       "      <td>3.29</td>\n",
       "      <td>82.0</td>\n",
       "      <td>8.3</td>\n",
       "      <td>E</td>\n",
       "    </tr>\n",
       "    <tr>\n",
       "      <th>3</th>\n",
       "      <td>Wii Sports Resort</td>\n",
       "      <td>Wii</td>\n",
       "      <td>2009.0</td>\n",
       "      <td>Sports</td>\n",
       "      <td>15.61</td>\n",
       "      <td>10.93</td>\n",
       "      <td>3.28</td>\n",
       "      <td>2.95</td>\n",
       "      <td>80.0</td>\n",
       "      <td>8</td>\n",
       "      <td>E</td>\n",
       "    </tr>\n",
       "    <tr>\n",
       "      <th>4</th>\n",
       "      <td>Pokemon Red/Pokemon Blue</td>\n",
       "      <td>GB</td>\n",
       "      <td>1996.0</td>\n",
       "      <td>Role-Playing</td>\n",
       "      <td>11.27</td>\n",
       "      <td>8.89</td>\n",
       "      <td>10.22</td>\n",
       "      <td>1.00</td>\n",
       "      <td>NaN</td>\n",
       "      <td>NaN</td>\n",
       "      <td>NaN</td>\n",
       "    </tr>\n",
       "    <tr>\n",
       "      <th>...</th>\n",
       "      <td>...</td>\n",
       "      <td>...</td>\n",
       "      <td>...</td>\n",
       "      <td>...</td>\n",
       "      <td>...</td>\n",
       "      <td>...</td>\n",
       "      <td>...</td>\n",
       "      <td>...</td>\n",
       "      <td>...</td>\n",
       "      <td>...</td>\n",
       "      <td>...</td>\n",
       "    </tr>\n",
       "    <tr>\n",
       "      <th>16710</th>\n",
       "      <td>Samurai Warriors: Sanada Maru</td>\n",
       "      <td>PS3</td>\n",
       "      <td>2016.0</td>\n",
       "      <td>Action</td>\n",
       "      <td>0.00</td>\n",
       "      <td>0.00</td>\n",
       "      <td>0.01</td>\n",
       "      <td>0.00</td>\n",
       "      <td>NaN</td>\n",
       "      <td>NaN</td>\n",
       "      <td>NaN</td>\n",
       "    </tr>\n",
       "    <tr>\n",
       "      <th>16711</th>\n",
       "      <td>LMA Manager 2007</td>\n",
       "      <td>X360</td>\n",
       "      <td>2006.0</td>\n",
       "      <td>Sports</td>\n",
       "      <td>0.00</td>\n",
       "      <td>0.01</td>\n",
       "      <td>0.00</td>\n",
       "      <td>0.00</td>\n",
       "      <td>NaN</td>\n",
       "      <td>NaN</td>\n",
       "      <td>NaN</td>\n",
       "    </tr>\n",
       "    <tr>\n",
       "      <th>16712</th>\n",
       "      <td>Haitaka no Psychedelica</td>\n",
       "      <td>PSV</td>\n",
       "      <td>2016.0</td>\n",
       "      <td>Adventure</td>\n",
       "      <td>0.00</td>\n",
       "      <td>0.00</td>\n",
       "      <td>0.01</td>\n",
       "      <td>0.00</td>\n",
       "      <td>NaN</td>\n",
       "      <td>NaN</td>\n",
       "      <td>NaN</td>\n",
       "    </tr>\n",
       "    <tr>\n",
       "      <th>16713</th>\n",
       "      <td>Spirits &amp; Spells</td>\n",
       "      <td>GBA</td>\n",
       "      <td>2003.0</td>\n",
       "      <td>Platform</td>\n",
       "      <td>0.01</td>\n",
       "      <td>0.00</td>\n",
       "      <td>0.00</td>\n",
       "      <td>0.00</td>\n",
       "      <td>NaN</td>\n",
       "      <td>NaN</td>\n",
       "      <td>NaN</td>\n",
       "    </tr>\n",
       "    <tr>\n",
       "      <th>16714</th>\n",
       "      <td>Winning Post 8 2016</td>\n",
       "      <td>PSV</td>\n",
       "      <td>2016.0</td>\n",
       "      <td>Simulation</td>\n",
       "      <td>0.00</td>\n",
       "      <td>0.00</td>\n",
       "      <td>0.01</td>\n",
       "      <td>0.00</td>\n",
       "      <td>NaN</td>\n",
       "      <td>NaN</td>\n",
       "      <td>NaN</td>\n",
       "    </tr>\n",
       "  </tbody>\n",
       "</table>\n",
       "<p>16715 rows × 11 columns</p>\n",
       "</div>"
      ],
      "text/plain": [
       "                                name platform  year_of_release         genre  \\\n",
       "0                         Wii Sports      Wii           2006.0        Sports   \n",
       "1                  Super Mario Bros.      NES           1985.0      Platform   \n",
       "2                     Mario Kart Wii      Wii           2008.0        Racing   \n",
       "3                  Wii Sports Resort      Wii           2009.0        Sports   \n",
       "4           Pokemon Red/Pokemon Blue       GB           1996.0  Role-Playing   \n",
       "...                              ...      ...              ...           ...   \n",
       "16710  Samurai Warriors: Sanada Maru      PS3           2016.0        Action   \n",
       "16711               LMA Manager 2007     X360           2006.0        Sports   \n",
       "16712        Haitaka no Psychedelica      PSV           2016.0     Adventure   \n",
       "16713               Spirits & Spells      GBA           2003.0      Platform   \n",
       "16714            Winning Post 8 2016      PSV           2016.0    Simulation   \n",
       "\n",
       "       na_sales  eu_sales  jp_sales  other_sales  critic_score user_score  \\\n",
       "0         41.36     28.96      3.77         8.45          76.0          8   \n",
       "1         29.08      3.58      6.81         0.77           NaN        NaN   \n",
       "2         15.68     12.76      3.79         3.29          82.0        8.3   \n",
       "3         15.61     10.93      3.28         2.95          80.0          8   \n",
       "4         11.27      8.89     10.22         1.00           NaN        NaN   \n",
       "...         ...       ...       ...          ...           ...        ...   \n",
       "16710      0.00      0.00      0.01         0.00           NaN        NaN   \n",
       "16711      0.00      0.01      0.00         0.00           NaN        NaN   \n",
       "16712      0.00      0.00      0.01         0.00           NaN        NaN   \n",
       "16713      0.01      0.00      0.00         0.00           NaN        NaN   \n",
       "16714      0.00      0.00      0.01         0.00           NaN        NaN   \n",
       "\n",
       "      rating  \n",
       "0          E  \n",
       "1        NaN  \n",
       "2          E  \n",
       "3          E  \n",
       "4        NaN  \n",
       "...      ...  \n",
       "16710    NaN  \n",
       "16711    NaN  \n",
       "16712    NaN  \n",
       "16713    NaN  \n",
       "16714    NaN  \n",
       "\n",
       "[16715 rows x 11 columns]"
      ]
     },
     "execution_count": 14,
     "metadata": {},
     "output_type": "execute_result"
    }
   ],
   "source": [
    "data"
   ]
  },
  {
   "cell_type": "markdown",
   "metadata": {},
   "source": [
    "Next one - missing values in column \"years_of_release\" isn't significant, so let's fill it up with just nulls, and let's convert to integer type"
   ]
  },
  {
   "cell_type": "code",
   "execution_count": 13,
   "metadata": {},
   "outputs": [],
   "source": [
    "data['year_of_release'] = data['year_of_release'].fillna(0).astype(int)"
   ]
  },
  {
   "cell_type": "code",
   "execution_count": 14,
   "metadata": {},
   "outputs": [
    {
     "data": {
      "text/plain": [
       "2008    1427\n",
       "2009    1426\n",
       "2010    1255\n",
       "2007    1197\n",
       "2011    1136\n",
       "2006    1006\n",
       "2005     939\n",
       "2002     829\n",
       "2003     775\n",
       "2004     762\n",
       "2012     653\n",
       "2015     606\n",
       "2014     581\n",
       "2013     544\n",
       "2016     502\n",
       "2001     482\n",
       "1998     379\n",
       "2000     350\n",
       "1999     338\n",
       "1997     289\n",
       "0        269\n",
       "1996     263\n",
       "1995     219\n",
       "1994     121\n",
       "1993      62\n",
       "1981      46\n",
       "1992      43\n",
       "1991      41\n",
       "1982      36\n",
       "1986      21\n",
       "1989      17\n",
       "1983      17\n",
       "1990      16\n",
       "1987      16\n",
       "1988      15\n",
       "1985      14\n",
       "1984      14\n",
       "1980       9\n",
       "Name: year_of_release, dtype: int64"
      ]
     },
     "execution_count": 14,
     "metadata": {},
     "output_type": "execute_result"
    }
   ],
   "source": [
    "data['year_of_release'].value_counts()"
   ]
  },
  {
   "cell_type": "markdown",
   "metadata": {},
   "source": [
    "The next one - how to deal with missing values. Uh, after several attempts to fill them up with median values, I've realized that it's a little bit wrong way, **despite further calculations**. Let's take a closer look why.   \n",
    "\n",
    "As the industry is developing there are a lot of games are publishing. The critics may just not make any conclusions on different games because of huge number of games. We can't find out which game was sent on review, and which one wasn't.   \n",
    "\n",
    "Also, we know, that critics estimate video games complexly: graphics, gameplay, plot and etc. Yes, we can assume that the same game might have the same level of critic or users score for different platforms. But as the gamers say, user experience is quite different for particular platform and it may have huge impact on scoring. If you've ever played once **\"Call of Duty\"** (in **\"shooter\" genre**) both on PC (with mouse and keyboard) and on Xbox (with joystick) you would definitely agree that it's little bit complicated to compare with each over: for some it's convenient on the PC, for others - on consoles.    \n",
    "The same situation with, for instance, kind of races (with weel controller) and sport games.   \n",
    "\n",
    "Another assumption could be to fill up with median values based on **dates, platforms and genres, but it's wrong as well.** For example, the same games may be published by different developers with different teams according franchise. We don't have in our data separately **developer's column,** so we can't state that game X in \"Action\" genre from developer1 should have the same score with game Y in this genre from developer2.  \n",
    "\n",
    "So, I'm going to work with filtered data and don't touch the initial data. Let's exclude missing values from **\"critic_score\"** column  "
   ]
  },
  {
   "cell_type": "code",
   "execution_count": 15,
   "metadata": {},
   "outputs": [
    {
     "data": {
      "text/html": [
       "<div>\n",
       "<style scoped>\n",
       "    .dataframe tbody tr th:only-of-type {\n",
       "        vertical-align: middle;\n",
       "    }\n",
       "\n",
       "    .dataframe tbody tr th {\n",
       "        vertical-align: top;\n",
       "    }\n",
       "\n",
       "    .dataframe thead th {\n",
       "        text-align: right;\n",
       "    }\n",
       "</style>\n",
       "<table border=\"1\" class=\"dataframe\">\n",
       "  <thead>\n",
       "    <tr style=\"text-align: right;\">\n",
       "      <th></th>\n",
       "      <th>name</th>\n",
       "      <th>platform</th>\n",
       "      <th>year_of_release</th>\n",
       "      <th>genre</th>\n",
       "      <th>na_sales</th>\n",
       "      <th>eu_sales</th>\n",
       "      <th>jp_sales</th>\n",
       "      <th>other_sales</th>\n",
       "      <th>critic_score</th>\n",
       "      <th>user_score</th>\n",
       "      <th>rating</th>\n",
       "    </tr>\n",
       "  </thead>\n",
       "  <tbody>\n",
       "    <tr>\n",
       "      <th>0</th>\n",
       "      <td>Wii Sports</td>\n",
       "      <td>Wii</td>\n",
       "      <td>2006</td>\n",
       "      <td>Sports</td>\n",
       "      <td>41.36</td>\n",
       "      <td>28.96</td>\n",
       "      <td>3.77</td>\n",
       "      <td>8.45</td>\n",
       "      <td>76.0</td>\n",
       "      <td>8</td>\n",
       "      <td>E</td>\n",
       "    </tr>\n",
       "    <tr>\n",
       "      <th>1</th>\n",
       "      <td>Mario Kart Wii</td>\n",
       "      <td>Wii</td>\n",
       "      <td>2008</td>\n",
       "      <td>Racing</td>\n",
       "      <td>15.68</td>\n",
       "      <td>12.76</td>\n",
       "      <td>3.79</td>\n",
       "      <td>3.29</td>\n",
       "      <td>82.0</td>\n",
       "      <td>8.3</td>\n",
       "      <td>E</td>\n",
       "    </tr>\n",
       "    <tr>\n",
       "      <th>2</th>\n",
       "      <td>Wii Sports Resort</td>\n",
       "      <td>Wii</td>\n",
       "      <td>2009</td>\n",
       "      <td>Sports</td>\n",
       "      <td>15.61</td>\n",
       "      <td>10.93</td>\n",
       "      <td>3.28</td>\n",
       "      <td>2.95</td>\n",
       "      <td>80.0</td>\n",
       "      <td>8</td>\n",
       "      <td>E</td>\n",
       "    </tr>\n",
       "    <tr>\n",
       "      <th>3</th>\n",
       "      <td>New Super Mario Bros.</td>\n",
       "      <td>DS</td>\n",
       "      <td>2006</td>\n",
       "      <td>Platform</td>\n",
       "      <td>11.28</td>\n",
       "      <td>9.14</td>\n",
       "      <td>6.50</td>\n",
       "      <td>2.88</td>\n",
       "      <td>89.0</td>\n",
       "      <td>8.5</td>\n",
       "      <td>E</td>\n",
       "    </tr>\n",
       "    <tr>\n",
       "      <th>4</th>\n",
       "      <td>Wii Play</td>\n",
       "      <td>Wii</td>\n",
       "      <td>2006</td>\n",
       "      <td>Misc</td>\n",
       "      <td>13.96</td>\n",
       "      <td>9.18</td>\n",
       "      <td>2.93</td>\n",
       "      <td>2.84</td>\n",
       "      <td>58.0</td>\n",
       "      <td>6.6</td>\n",
       "      <td>E</td>\n",
       "    </tr>\n",
       "    <tr>\n",
       "      <th>...</th>\n",
       "      <td>...</td>\n",
       "      <td>...</td>\n",
       "      <td>...</td>\n",
       "      <td>...</td>\n",
       "      <td>...</td>\n",
       "      <td>...</td>\n",
       "      <td>...</td>\n",
       "      <td>...</td>\n",
       "      <td>...</td>\n",
       "      <td>...</td>\n",
       "      <td>...</td>\n",
       "    </tr>\n",
       "    <tr>\n",
       "      <th>8132</th>\n",
       "      <td>Breach</td>\n",
       "      <td>PC</td>\n",
       "      <td>2011</td>\n",
       "      <td>Shooter</td>\n",
       "      <td>0.01</td>\n",
       "      <td>0.00</td>\n",
       "      <td>0.00</td>\n",
       "      <td>0.00</td>\n",
       "      <td>61.0</td>\n",
       "      <td>5.8</td>\n",
       "      <td>T</td>\n",
       "    </tr>\n",
       "    <tr>\n",
       "      <th>8133</th>\n",
       "      <td>Bust-A-Move 3000</td>\n",
       "      <td>GC</td>\n",
       "      <td>2003</td>\n",
       "      <td>Puzzle</td>\n",
       "      <td>0.01</td>\n",
       "      <td>0.00</td>\n",
       "      <td>0.00</td>\n",
       "      <td>0.00</td>\n",
       "      <td>53.0</td>\n",
       "      <td>tbd</td>\n",
       "      <td>E</td>\n",
       "    </tr>\n",
       "    <tr>\n",
       "      <th>8134</th>\n",
       "      <td>Mega Brain Boost</td>\n",
       "      <td>DS</td>\n",
       "      <td>2008</td>\n",
       "      <td>Puzzle</td>\n",
       "      <td>0.01</td>\n",
       "      <td>0.00</td>\n",
       "      <td>0.00</td>\n",
       "      <td>0.00</td>\n",
       "      <td>48.0</td>\n",
       "      <td>tbd</td>\n",
       "      <td>E</td>\n",
       "    </tr>\n",
       "    <tr>\n",
       "      <th>8135</th>\n",
       "      <td>STORM: Frontline Nation</td>\n",
       "      <td>PC</td>\n",
       "      <td>2011</td>\n",
       "      <td>Strategy</td>\n",
       "      <td>0.00</td>\n",
       "      <td>0.01</td>\n",
       "      <td>0.00</td>\n",
       "      <td>0.00</td>\n",
       "      <td>60.0</td>\n",
       "      <td>7.2</td>\n",
       "      <td>E10+</td>\n",
       "    </tr>\n",
       "    <tr>\n",
       "      <th>8136</th>\n",
       "      <td>15 Days</td>\n",
       "      <td>PC</td>\n",
       "      <td>2009</td>\n",
       "      <td>Adventure</td>\n",
       "      <td>0.00</td>\n",
       "      <td>0.01</td>\n",
       "      <td>0.00</td>\n",
       "      <td>0.00</td>\n",
       "      <td>63.0</td>\n",
       "      <td>5.8</td>\n",
       "      <td>NaN</td>\n",
       "    </tr>\n",
       "  </tbody>\n",
       "</table>\n",
       "<p>8137 rows × 11 columns</p>\n",
       "</div>"
      ],
      "text/plain": [
       "                         name platform  year_of_release      genre  na_sales  \\\n",
       "0                  Wii Sports      Wii             2006     Sports     41.36   \n",
       "1              Mario Kart Wii      Wii             2008     Racing     15.68   \n",
       "2           Wii Sports Resort      Wii             2009     Sports     15.61   \n",
       "3       New Super Mario Bros.       DS             2006   Platform     11.28   \n",
       "4                    Wii Play      Wii             2006       Misc     13.96   \n",
       "...                       ...      ...              ...        ...       ...   \n",
       "8132                   Breach       PC             2011    Shooter      0.01   \n",
       "8133         Bust-A-Move 3000       GC             2003     Puzzle      0.01   \n",
       "8134         Mega Brain Boost       DS             2008     Puzzle      0.01   \n",
       "8135  STORM: Frontline Nation       PC             2011   Strategy      0.00   \n",
       "8136                  15 Days       PC             2009  Adventure      0.00   \n",
       "\n",
       "      eu_sales  jp_sales  other_sales  critic_score user_score rating  \n",
       "0        28.96      3.77         8.45          76.0          8      E  \n",
       "1        12.76      3.79         3.29          82.0        8.3      E  \n",
       "2        10.93      3.28         2.95          80.0          8      E  \n",
       "3         9.14      6.50         2.88          89.0        8.5      E  \n",
       "4         9.18      2.93         2.84          58.0        6.6      E  \n",
       "...        ...       ...          ...           ...        ...    ...  \n",
       "8132      0.00      0.00         0.00          61.0        5.8      T  \n",
       "8133      0.00      0.00         0.00          53.0        tbd      E  \n",
       "8134      0.00      0.00         0.00          48.0        tbd      E  \n",
       "8135      0.01      0.00         0.00          60.0        7.2   E10+  \n",
       "8136      0.01      0.00         0.00          63.0        5.8    NaN  \n",
       "\n",
       "[8137 rows x 11 columns]"
      ]
     },
     "execution_count": 15,
     "metadata": {},
     "output_type": "execute_result"
    }
   ],
   "source": [
    "fil_data = data[data['critic_score'].notnull()].reset_index()\n",
    "fil_data.drop(\"index\", axis = 1, inplace = True)\n",
    "fil_data"
   ]
  },
  {
   "cell_type": "markdown",
   "metadata": {},
   "source": [
    "As we remember the most common value in **\"user_score\"** column is **\"tbd\"** that means **\"to be determined\"**. Usually, this abbreviation used to indicate that the time of something has not yet been decided and will be announced at a later time. It may correspond to year of release (for new games), m?    "
   ]
  },
  {
   "cell_type": "code",
   "execution_count": 16,
   "metadata": {},
   "outputs": [
    {
     "data": {
      "text/plain": [
       "2002    172\n",
       "2008    116\n",
       "2007    102\n",
       "2009     94\n",
       "2005     90\n",
       "2006     90\n",
       "2003     84\n",
       "2004     81\n",
       "2001     69\n",
       "2010     67\n",
       "2000     40\n",
       "2011     32\n",
       "0        26\n",
       "1999      6\n",
       "2016      5\n",
       "2014      4\n",
       "2015      2\n",
       "1997      1\n",
       "2013      1\n",
       "Name: year_of_release, dtype: int64"
      ]
     },
     "execution_count": 16,
     "metadata": {},
     "output_type": "execute_result"
    }
   ],
   "source": [
    "fil_data[fil_data.user_score == 'tbd']['year_of_release'].value_counts()"
   ]
  },
  {
   "cell_type": "markdown",
   "metadata": {},
   "source": [
    "But as we see, \"tbd\" status is being found in different sort of years. We won't be able to deal with him, so let's exclude him as well"
   ]
  },
  {
   "cell_type": "code",
   "execution_count": 17,
   "metadata": {},
   "outputs": [],
   "source": [
    "fil_data = fil_data.query('user_score != \"tbd\"').reset_index()"
   ]
  },
  {
   "cell_type": "code",
   "execution_count": 18,
   "metadata": {},
   "outputs": [
    {
     "data": {
      "text/html": [
       "<div>\n",
       "<style scoped>\n",
       "    .dataframe tbody tr th:only-of-type {\n",
       "        vertical-align: middle;\n",
       "    }\n",
       "\n",
       "    .dataframe tbody tr th {\n",
       "        vertical-align: top;\n",
       "    }\n",
       "\n",
       "    .dataframe thead th {\n",
       "        text-align: right;\n",
       "    }\n",
       "</style>\n",
       "<table border=\"1\" class=\"dataframe\">\n",
       "  <thead>\n",
       "    <tr style=\"text-align: right;\">\n",
       "      <th></th>\n",
       "      <th>name</th>\n",
       "      <th>platform</th>\n",
       "      <th>year_of_release</th>\n",
       "      <th>genre</th>\n",
       "      <th>na_sales</th>\n",
       "      <th>eu_sales</th>\n",
       "      <th>jp_sales</th>\n",
       "      <th>other_sales</th>\n",
       "      <th>critic_score</th>\n",
       "      <th>user_score</th>\n",
       "      <th>rating</th>\n",
       "    </tr>\n",
       "  </thead>\n",
       "  <tbody>\n",
       "    <tr>\n",
       "      <th>0</th>\n",
       "      <td>Wii Sports</td>\n",
       "      <td>Wii</td>\n",
       "      <td>2006</td>\n",
       "      <td>Sports</td>\n",
       "      <td>41.36</td>\n",
       "      <td>28.96</td>\n",
       "      <td>3.77</td>\n",
       "      <td>8.45</td>\n",
       "      <td>76.0</td>\n",
       "      <td>8</td>\n",
       "      <td>E</td>\n",
       "    </tr>\n",
       "    <tr>\n",
       "      <th>1</th>\n",
       "      <td>Mario Kart Wii</td>\n",
       "      <td>Wii</td>\n",
       "      <td>2008</td>\n",
       "      <td>Racing</td>\n",
       "      <td>15.68</td>\n",
       "      <td>12.76</td>\n",
       "      <td>3.79</td>\n",
       "      <td>3.29</td>\n",
       "      <td>82.0</td>\n",
       "      <td>8.3</td>\n",
       "      <td>E</td>\n",
       "    </tr>\n",
       "    <tr>\n",
       "      <th>2</th>\n",
       "      <td>Wii Sports Resort</td>\n",
       "      <td>Wii</td>\n",
       "      <td>2009</td>\n",
       "      <td>Sports</td>\n",
       "      <td>15.61</td>\n",
       "      <td>10.93</td>\n",
       "      <td>3.28</td>\n",
       "      <td>2.95</td>\n",
       "      <td>80.0</td>\n",
       "      <td>8</td>\n",
       "      <td>E</td>\n",
       "    </tr>\n",
       "    <tr>\n",
       "      <th>3</th>\n",
       "      <td>New Super Mario Bros.</td>\n",
       "      <td>DS</td>\n",
       "      <td>2006</td>\n",
       "      <td>Platform</td>\n",
       "      <td>11.28</td>\n",
       "      <td>9.14</td>\n",
       "      <td>6.50</td>\n",
       "      <td>2.88</td>\n",
       "      <td>89.0</td>\n",
       "      <td>8.5</td>\n",
       "      <td>E</td>\n",
       "    </tr>\n",
       "    <tr>\n",
       "      <th>4</th>\n",
       "      <td>Wii Play</td>\n",
       "      <td>Wii</td>\n",
       "      <td>2006</td>\n",
       "      <td>Misc</td>\n",
       "      <td>13.96</td>\n",
       "      <td>9.18</td>\n",
       "      <td>2.93</td>\n",
       "      <td>2.84</td>\n",
       "      <td>58.0</td>\n",
       "      <td>6.6</td>\n",
       "      <td>E</td>\n",
       "    </tr>\n",
       "    <tr>\n",
       "      <th>...</th>\n",
       "      <td>...</td>\n",
       "      <td>...</td>\n",
       "      <td>...</td>\n",
       "      <td>...</td>\n",
       "      <td>...</td>\n",
       "      <td>...</td>\n",
       "      <td>...</td>\n",
       "      <td>...</td>\n",
       "      <td>...</td>\n",
       "      <td>...</td>\n",
       "      <td>...</td>\n",
       "    </tr>\n",
       "    <tr>\n",
       "      <th>7050</th>\n",
       "      <td>Mortal Kombat: Deadly Alliance</td>\n",
       "      <td>GBA</td>\n",
       "      <td>2002</td>\n",
       "      <td>Fighting</td>\n",
       "      <td>0.01</td>\n",
       "      <td>0.00</td>\n",
       "      <td>0.00</td>\n",
       "      <td>0.00</td>\n",
       "      <td>81.0</td>\n",
       "      <td>8.8</td>\n",
       "      <td>M</td>\n",
       "    </tr>\n",
       "    <tr>\n",
       "      <th>7051</th>\n",
       "      <td>Metal Gear Solid V: Ground Zeroes</td>\n",
       "      <td>PC</td>\n",
       "      <td>2014</td>\n",
       "      <td>Action</td>\n",
       "      <td>0.00</td>\n",
       "      <td>0.01</td>\n",
       "      <td>0.00</td>\n",
       "      <td>0.00</td>\n",
       "      <td>80.0</td>\n",
       "      <td>7.6</td>\n",
       "      <td>M</td>\n",
       "    </tr>\n",
       "    <tr>\n",
       "      <th>7052</th>\n",
       "      <td>Breach</td>\n",
       "      <td>PC</td>\n",
       "      <td>2011</td>\n",
       "      <td>Shooter</td>\n",
       "      <td>0.01</td>\n",
       "      <td>0.00</td>\n",
       "      <td>0.00</td>\n",
       "      <td>0.00</td>\n",
       "      <td>61.0</td>\n",
       "      <td>5.8</td>\n",
       "      <td>T</td>\n",
       "    </tr>\n",
       "    <tr>\n",
       "      <th>7053</th>\n",
       "      <td>STORM: Frontline Nation</td>\n",
       "      <td>PC</td>\n",
       "      <td>2011</td>\n",
       "      <td>Strategy</td>\n",
       "      <td>0.00</td>\n",
       "      <td>0.01</td>\n",
       "      <td>0.00</td>\n",
       "      <td>0.00</td>\n",
       "      <td>60.0</td>\n",
       "      <td>7.2</td>\n",
       "      <td>E10+</td>\n",
       "    </tr>\n",
       "    <tr>\n",
       "      <th>7054</th>\n",
       "      <td>15 Days</td>\n",
       "      <td>PC</td>\n",
       "      <td>2009</td>\n",
       "      <td>Adventure</td>\n",
       "      <td>0.00</td>\n",
       "      <td>0.01</td>\n",
       "      <td>0.00</td>\n",
       "      <td>0.00</td>\n",
       "      <td>63.0</td>\n",
       "      <td>5.8</td>\n",
       "      <td>NaN</td>\n",
       "    </tr>\n",
       "  </tbody>\n",
       "</table>\n",
       "<p>7055 rows × 11 columns</p>\n",
       "</div>"
      ],
      "text/plain": [
       "                                   name platform  year_of_release      genre  \\\n",
       "0                            Wii Sports      Wii             2006     Sports   \n",
       "1                        Mario Kart Wii      Wii             2008     Racing   \n",
       "2                     Wii Sports Resort      Wii             2009     Sports   \n",
       "3                 New Super Mario Bros.       DS             2006   Platform   \n",
       "4                              Wii Play      Wii             2006       Misc   \n",
       "...                                 ...      ...              ...        ...   \n",
       "7050     Mortal Kombat: Deadly Alliance      GBA             2002   Fighting   \n",
       "7051  Metal Gear Solid V: Ground Zeroes       PC             2014     Action   \n",
       "7052                             Breach       PC             2011    Shooter   \n",
       "7053            STORM: Frontline Nation       PC             2011   Strategy   \n",
       "7054                            15 Days       PC             2009  Adventure   \n",
       "\n",
       "      na_sales  eu_sales  jp_sales  other_sales  critic_score user_score  \\\n",
       "0        41.36     28.96      3.77         8.45          76.0          8   \n",
       "1        15.68     12.76      3.79         3.29          82.0        8.3   \n",
       "2        15.61     10.93      3.28         2.95          80.0          8   \n",
       "3        11.28      9.14      6.50         2.88          89.0        8.5   \n",
       "4        13.96      9.18      2.93         2.84          58.0        6.6   \n",
       "...        ...       ...       ...          ...           ...        ...   \n",
       "7050      0.01      0.00      0.00         0.00          81.0        8.8   \n",
       "7051      0.00      0.01      0.00         0.00          80.0        7.6   \n",
       "7052      0.01      0.00      0.00         0.00          61.0        5.8   \n",
       "7053      0.00      0.01      0.00         0.00          60.0        7.2   \n",
       "7054      0.00      0.01      0.00         0.00          63.0        5.8   \n",
       "\n",
       "     rating  \n",
       "0         E  \n",
       "1         E  \n",
       "2         E  \n",
       "3         E  \n",
       "4         E  \n",
       "...     ...  \n",
       "7050      M  \n",
       "7051      M  \n",
       "7052      T  \n",
       "7053   E10+  \n",
       "7054    NaN  \n",
       "\n",
       "[7055 rows x 11 columns]"
      ]
     },
     "execution_count": 18,
     "metadata": {},
     "output_type": "execute_result"
    }
   ],
   "source": [
    "fil_data.drop(\"index\", axis = 1, inplace = True)\n",
    "fil_data"
   ]
  },
  {
   "cell_type": "markdown",
   "metadata": {},
   "source": [
    "The rest rows let's fill up with median values and convert in the same with **\"critic_score\"** scale"
   ]
  },
  {
   "cell_type": "code",
   "execution_count": 19,
   "metadata": {},
   "outputs": [],
   "source": [
    "fil_data['user_score'] = fil_data['user_score'].fillna(fil_data.groupby('genre')['user_score'].transform('median'))"
   ]
  },
  {
   "cell_type": "code",
   "execution_count": 20,
   "metadata": {},
   "outputs": [],
   "source": [
    "fil_data['user_score'] = fil_data['user_score'].astype(float)*10"
   ]
  },
  {
   "cell_type": "markdown",
   "metadata": {},
   "source": [
    "The next one - let's fill up the missing values in **\"rating\"** column with most common values for particular genre:"
   ]
  },
  {
   "cell_type": "code",
   "execution_count": 21,
   "metadata": {},
   "outputs": [],
   "source": [
    "fil_data['rating'] = fil_data.groupby('genre')['rating'].transform(lambda x: x.fillna(x.mode().max()))"
   ]
  },
  {
   "cell_type": "code",
   "execution_count": 22,
   "metadata": {},
   "outputs": [
    {
     "data": {
      "text/html": [
       "<style type=\"text/css\">\n",
       "</style>\n",
       "<table id=\"T_4db02_\">\n",
       "  <thead>\n",
       "    <tr>\n",
       "      <th class=\"blank level0\" >&nbsp;</th>\n",
       "      <th class=\"col_heading level0 col0\" >missing</th>\n",
       "      <th class=\"col_heading level0 col1\" >total</th>\n",
       "      <th class=\"col_heading level0 col2\" >percent</th>\n",
       "    </tr>\n",
       "  </thead>\n",
       "  <tbody>\n",
       "    <tr>\n",
       "      <th id=\"T_4db02_level0_row0\" class=\"row_heading level0 row0\" >name</th>\n",
       "      <td id=\"T_4db02_row0_col0\" class=\"data row0 col0\" >0</td>\n",
       "      <td id=\"T_4db02_row0_col1\" class=\"data row0 col1\" >7,055</td>\n",
       "      <td id=\"T_4db02_row0_col2\" class=\"data row0 col2\" >0.00%</td>\n",
       "    </tr>\n",
       "    <tr>\n",
       "      <th id=\"T_4db02_level0_row1\" class=\"row_heading level0 row1\" >platform</th>\n",
       "      <td id=\"T_4db02_row1_col0\" class=\"data row1 col0\" >0</td>\n",
       "      <td id=\"T_4db02_row1_col1\" class=\"data row1 col1\" >7,055</td>\n",
       "      <td id=\"T_4db02_row1_col2\" class=\"data row1 col2\" >0.00%</td>\n",
       "    </tr>\n",
       "    <tr>\n",
       "      <th id=\"T_4db02_level0_row2\" class=\"row_heading level0 row2\" >year_of_release</th>\n",
       "      <td id=\"T_4db02_row2_col0\" class=\"data row2 col0\" >0</td>\n",
       "      <td id=\"T_4db02_row2_col1\" class=\"data row2 col1\" >7,055</td>\n",
       "      <td id=\"T_4db02_row2_col2\" class=\"data row2 col2\" >0.00%</td>\n",
       "    </tr>\n",
       "    <tr>\n",
       "      <th id=\"T_4db02_level0_row3\" class=\"row_heading level0 row3\" >genre</th>\n",
       "      <td id=\"T_4db02_row3_col0\" class=\"data row3 col0\" >0</td>\n",
       "      <td id=\"T_4db02_row3_col1\" class=\"data row3 col1\" >7,055</td>\n",
       "      <td id=\"T_4db02_row3_col2\" class=\"data row3 col2\" >0.00%</td>\n",
       "    </tr>\n",
       "    <tr>\n",
       "      <th id=\"T_4db02_level0_row4\" class=\"row_heading level0 row4\" >na_sales</th>\n",
       "      <td id=\"T_4db02_row4_col0\" class=\"data row4 col0\" >0</td>\n",
       "      <td id=\"T_4db02_row4_col1\" class=\"data row4 col1\" >7,055</td>\n",
       "      <td id=\"T_4db02_row4_col2\" class=\"data row4 col2\" >0.00%</td>\n",
       "    </tr>\n",
       "    <tr>\n",
       "      <th id=\"T_4db02_level0_row5\" class=\"row_heading level0 row5\" >eu_sales</th>\n",
       "      <td id=\"T_4db02_row5_col0\" class=\"data row5 col0\" >0</td>\n",
       "      <td id=\"T_4db02_row5_col1\" class=\"data row5 col1\" >7,055</td>\n",
       "      <td id=\"T_4db02_row5_col2\" class=\"data row5 col2\" >0.00%</td>\n",
       "    </tr>\n",
       "    <tr>\n",
       "      <th id=\"T_4db02_level0_row6\" class=\"row_heading level0 row6\" >jp_sales</th>\n",
       "      <td id=\"T_4db02_row6_col0\" class=\"data row6 col0\" >0</td>\n",
       "      <td id=\"T_4db02_row6_col1\" class=\"data row6 col1\" >7,055</td>\n",
       "      <td id=\"T_4db02_row6_col2\" class=\"data row6 col2\" >0.00%</td>\n",
       "    </tr>\n",
       "    <tr>\n",
       "      <th id=\"T_4db02_level0_row7\" class=\"row_heading level0 row7\" >other_sales</th>\n",
       "      <td id=\"T_4db02_row7_col0\" class=\"data row7 col0\" >0</td>\n",
       "      <td id=\"T_4db02_row7_col1\" class=\"data row7 col1\" >7,055</td>\n",
       "      <td id=\"T_4db02_row7_col2\" class=\"data row7 col2\" >0.00%</td>\n",
       "    </tr>\n",
       "    <tr>\n",
       "      <th id=\"T_4db02_level0_row8\" class=\"row_heading level0 row8\" >critic_score</th>\n",
       "      <td id=\"T_4db02_row8_col0\" class=\"data row8 col0\" >0</td>\n",
       "      <td id=\"T_4db02_row8_col1\" class=\"data row8 col1\" >7,055</td>\n",
       "      <td id=\"T_4db02_row8_col2\" class=\"data row8 col2\" >0.00%</td>\n",
       "    </tr>\n",
       "    <tr>\n",
       "      <th id=\"T_4db02_level0_row9\" class=\"row_heading level0 row9\" >user_score</th>\n",
       "      <td id=\"T_4db02_row9_col0\" class=\"data row9 col0\" >0</td>\n",
       "      <td id=\"T_4db02_row9_col1\" class=\"data row9 col1\" >7,055</td>\n",
       "      <td id=\"T_4db02_row9_col2\" class=\"data row9 col2\" >0.00%</td>\n",
       "    </tr>\n",
       "    <tr>\n",
       "      <th id=\"T_4db02_level0_row10\" class=\"row_heading level0 row10\" >rating</th>\n",
       "      <td id=\"T_4db02_row10_col0\" class=\"data row10 col0\" >0</td>\n",
       "      <td id=\"T_4db02_row10_col1\" class=\"data row10 col1\" >7,055</td>\n",
       "      <td id=\"T_4db02_row10_col2\" class=\"data row10 col2\" >0.00%</td>\n",
       "    </tr>\n",
       "  </tbody>\n",
       "</table>\n"
      ],
      "text/plain": [
       "<pandas.io.formats.style.Styler at 0x7fd461248610>"
      ]
     },
     "execution_count": 22,
     "metadata": {},
     "output_type": "execute_result"
    }
   ],
   "source": [
    "fil_data.stb.missing(style=True)"
   ]
  },
  {
   "cell_type": "code",
   "execution_count": 23,
   "metadata": {},
   "outputs": [
    {
     "data": {
      "text/html": [
       "<div>\n",
       "<style scoped>\n",
       "    .dataframe tbody tr th:only-of-type {\n",
       "        vertical-align: middle;\n",
       "    }\n",
       "\n",
       "    .dataframe tbody tr th {\n",
       "        vertical-align: top;\n",
       "    }\n",
       "\n",
       "    .dataframe thead th {\n",
       "        text-align: right;\n",
       "    }\n",
       "</style>\n",
       "<table border=\"1\" class=\"dataframe\">\n",
       "  <thead>\n",
       "    <tr style=\"text-align: right;\">\n",
       "      <th></th>\n",
       "      <th>year_of_release</th>\n",
       "      <th>na_sales</th>\n",
       "      <th>eu_sales</th>\n",
       "      <th>jp_sales</th>\n",
       "      <th>other_sales</th>\n",
       "      <th>critic_score</th>\n",
       "      <th>user_score</th>\n",
       "    </tr>\n",
       "  </thead>\n",
       "  <tbody>\n",
       "    <tr>\n",
       "      <th>count</th>\n",
       "      <td>7055.000000</td>\n",
       "      <td>7055.000000</td>\n",
       "      <td>7055.000000</td>\n",
       "      <td>7055.000000</td>\n",
       "      <td>7055.000000</td>\n",
       "      <td>7055.000000</td>\n",
       "      <td>7055.000000</td>\n",
       "    </tr>\n",
       "    <tr>\n",
       "      <th>mean</th>\n",
       "      <td>1971.050461</td>\n",
       "      <td>0.388354</td>\n",
       "      <td>0.232668</td>\n",
       "      <td>0.062771</td>\n",
       "      <td>0.081202</td>\n",
       "      <td>70.233877</td>\n",
       "      <td>71.840539</td>\n",
       "    </tr>\n",
       "    <tr>\n",
       "      <th>std</th>\n",
       "      <td>267.987404</td>\n",
       "      <td>0.955386</td>\n",
       "      <td>0.678110</td>\n",
       "      <td>0.283520</td>\n",
       "      <td>0.265937</td>\n",
       "      <td>13.885728</td>\n",
       "      <td>14.375605</td>\n",
       "    </tr>\n",
       "    <tr>\n",
       "      <th>min</th>\n",
       "      <td>0.000000</td>\n",
       "      <td>0.000000</td>\n",
       "      <td>0.000000</td>\n",
       "      <td>0.000000</td>\n",
       "      <td>0.000000</td>\n",
       "      <td>13.000000</td>\n",
       "      <td>5.000000</td>\n",
       "    </tr>\n",
       "    <tr>\n",
       "      <th>25%</th>\n",
       "      <td>2004.000000</td>\n",
       "      <td>0.060000</td>\n",
       "      <td>0.020000</td>\n",
       "      <td>0.000000</td>\n",
       "      <td>0.010000</td>\n",
       "      <td>62.000000</td>\n",
       "      <td>65.000000</td>\n",
       "    </tr>\n",
       "    <tr>\n",
       "      <th>50%</th>\n",
       "      <td>2007.000000</td>\n",
       "      <td>0.150000</td>\n",
       "      <td>0.060000</td>\n",
       "      <td>0.000000</td>\n",
       "      <td>0.020000</td>\n",
       "      <td>72.000000</td>\n",
       "      <td>75.000000</td>\n",
       "    </tr>\n",
       "    <tr>\n",
       "      <th>75%</th>\n",
       "      <td>2011.000000</td>\n",
       "      <td>0.380000</td>\n",
       "      <td>0.200000</td>\n",
       "      <td>0.010000</td>\n",
       "      <td>0.070000</td>\n",
       "      <td>80.000000</td>\n",
       "      <td>82.000000</td>\n",
       "    </tr>\n",
       "    <tr>\n",
       "      <th>max</th>\n",
       "      <td>2016.000000</td>\n",
       "      <td>41.360000</td>\n",
       "      <td>28.960000</td>\n",
       "      <td>6.500000</td>\n",
       "      <td>10.570000</td>\n",
       "      <td>98.000000</td>\n",
       "      <td>96.000000</td>\n",
       "    </tr>\n",
       "  </tbody>\n",
       "</table>\n",
       "</div>"
      ],
      "text/plain": [
       "       year_of_release     na_sales     eu_sales     jp_sales  other_sales  \\\n",
       "count      7055.000000  7055.000000  7055.000000  7055.000000  7055.000000   \n",
       "mean       1971.050461     0.388354     0.232668     0.062771     0.081202   \n",
       "std         267.987404     0.955386     0.678110     0.283520     0.265937   \n",
       "min           0.000000     0.000000     0.000000     0.000000     0.000000   \n",
       "25%        2004.000000     0.060000     0.020000     0.000000     0.010000   \n",
       "50%        2007.000000     0.150000     0.060000     0.000000     0.020000   \n",
       "75%        2011.000000     0.380000     0.200000     0.010000     0.070000   \n",
       "max        2016.000000    41.360000    28.960000     6.500000    10.570000   \n",
       "\n",
       "       critic_score   user_score  \n",
       "count   7055.000000  7055.000000  \n",
       "mean      70.233877    71.840539  \n",
       "std       13.885728    14.375605  \n",
       "min       13.000000     5.000000  \n",
       "25%       62.000000    65.000000  \n",
       "50%       72.000000    75.000000  \n",
       "75%       80.000000    82.000000  \n",
       "max       98.000000    96.000000  "
      ]
     },
     "execution_count": 23,
     "metadata": {},
     "output_type": "execute_result"
    }
   ],
   "source": [
    "fil_data.describe()"
   ]
  },
  {
   "cell_type": "markdown",
   "metadata": {},
   "source": [
    "And the last one - let's calculate the total sales and put results into new column **'total_sales'**"
   ]
  },
  {
   "cell_type": "code",
   "execution_count": 24,
   "metadata": {},
   "outputs": [
    {
     "data": {
      "text/html": [
       "<div>\n",
       "<style scoped>\n",
       "    .dataframe tbody tr th:only-of-type {\n",
       "        vertical-align: middle;\n",
       "    }\n",
       "\n",
       "    .dataframe tbody tr th {\n",
       "        vertical-align: top;\n",
       "    }\n",
       "\n",
       "    .dataframe thead th {\n",
       "        text-align: right;\n",
       "    }\n",
       "</style>\n",
       "<table border=\"1\" class=\"dataframe\">\n",
       "  <thead>\n",
       "    <tr style=\"text-align: right;\">\n",
       "      <th></th>\n",
       "      <th>name</th>\n",
       "      <th>platform</th>\n",
       "      <th>year_of_release</th>\n",
       "      <th>genre</th>\n",
       "      <th>na_sales</th>\n",
       "      <th>eu_sales</th>\n",
       "      <th>jp_sales</th>\n",
       "      <th>other_sales</th>\n",
       "      <th>critic_score</th>\n",
       "      <th>user_score</th>\n",
       "      <th>rating</th>\n",
       "      <th>total_sales</th>\n",
       "    </tr>\n",
       "  </thead>\n",
       "  <tbody>\n",
       "    <tr>\n",
       "      <th>0</th>\n",
       "      <td>Wii Sports</td>\n",
       "      <td>Wii</td>\n",
       "      <td>2006</td>\n",
       "      <td>Sports</td>\n",
       "      <td>41.36</td>\n",
       "      <td>28.96</td>\n",
       "      <td>3.77</td>\n",
       "      <td>8.45</td>\n",
       "      <td>76.0</td>\n",
       "      <td>80.0</td>\n",
       "      <td>E</td>\n",
       "      <td>82.54</td>\n",
       "    </tr>\n",
       "    <tr>\n",
       "      <th>1</th>\n",
       "      <td>Mario Kart Wii</td>\n",
       "      <td>Wii</td>\n",
       "      <td>2008</td>\n",
       "      <td>Racing</td>\n",
       "      <td>15.68</td>\n",
       "      <td>12.76</td>\n",
       "      <td>3.79</td>\n",
       "      <td>3.29</td>\n",
       "      <td>82.0</td>\n",
       "      <td>83.0</td>\n",
       "      <td>E</td>\n",
       "      <td>35.52</td>\n",
       "    </tr>\n",
       "    <tr>\n",
       "      <th>2</th>\n",
       "      <td>Wii Sports Resort</td>\n",
       "      <td>Wii</td>\n",
       "      <td>2009</td>\n",
       "      <td>Sports</td>\n",
       "      <td>15.61</td>\n",
       "      <td>10.93</td>\n",
       "      <td>3.28</td>\n",
       "      <td>2.95</td>\n",
       "      <td>80.0</td>\n",
       "      <td>80.0</td>\n",
       "      <td>E</td>\n",
       "      <td>32.77</td>\n",
       "    </tr>\n",
       "    <tr>\n",
       "      <th>3</th>\n",
       "      <td>New Super Mario Bros.</td>\n",
       "      <td>DS</td>\n",
       "      <td>2006</td>\n",
       "      <td>Platform</td>\n",
       "      <td>11.28</td>\n",
       "      <td>9.14</td>\n",
       "      <td>6.50</td>\n",
       "      <td>2.88</td>\n",
       "      <td>89.0</td>\n",
       "      <td>85.0</td>\n",
       "      <td>E</td>\n",
       "      <td>29.80</td>\n",
       "    </tr>\n",
       "    <tr>\n",
       "      <th>4</th>\n",
       "      <td>Wii Play</td>\n",
       "      <td>Wii</td>\n",
       "      <td>2006</td>\n",
       "      <td>Misc</td>\n",
       "      <td>13.96</td>\n",
       "      <td>9.18</td>\n",
       "      <td>2.93</td>\n",
       "      <td>2.84</td>\n",
       "      <td>58.0</td>\n",
       "      <td>66.0</td>\n",
       "      <td>E</td>\n",
       "      <td>28.91</td>\n",
       "    </tr>\n",
       "    <tr>\n",
       "      <th>...</th>\n",
       "      <td>...</td>\n",
       "      <td>...</td>\n",
       "      <td>...</td>\n",
       "      <td>...</td>\n",
       "      <td>...</td>\n",
       "      <td>...</td>\n",
       "      <td>...</td>\n",
       "      <td>...</td>\n",
       "      <td>...</td>\n",
       "      <td>...</td>\n",
       "      <td>...</td>\n",
       "      <td>...</td>\n",
       "    </tr>\n",
       "    <tr>\n",
       "      <th>7050</th>\n",
       "      <td>Mortal Kombat: Deadly Alliance</td>\n",
       "      <td>GBA</td>\n",
       "      <td>2002</td>\n",
       "      <td>Fighting</td>\n",
       "      <td>0.01</td>\n",
       "      <td>0.00</td>\n",
       "      <td>0.00</td>\n",
       "      <td>0.00</td>\n",
       "      <td>81.0</td>\n",
       "      <td>88.0</td>\n",
       "      <td>M</td>\n",
       "      <td>0.01</td>\n",
       "    </tr>\n",
       "    <tr>\n",
       "      <th>7051</th>\n",
       "      <td>Metal Gear Solid V: Ground Zeroes</td>\n",
       "      <td>PC</td>\n",
       "      <td>2014</td>\n",
       "      <td>Action</td>\n",
       "      <td>0.00</td>\n",
       "      <td>0.01</td>\n",
       "      <td>0.00</td>\n",
       "      <td>0.00</td>\n",
       "      <td>80.0</td>\n",
       "      <td>76.0</td>\n",
       "      <td>M</td>\n",
       "      <td>0.01</td>\n",
       "    </tr>\n",
       "    <tr>\n",
       "      <th>7052</th>\n",
       "      <td>Breach</td>\n",
       "      <td>PC</td>\n",
       "      <td>2011</td>\n",
       "      <td>Shooter</td>\n",
       "      <td>0.01</td>\n",
       "      <td>0.00</td>\n",
       "      <td>0.00</td>\n",
       "      <td>0.00</td>\n",
       "      <td>61.0</td>\n",
       "      <td>58.0</td>\n",
       "      <td>T</td>\n",
       "      <td>0.01</td>\n",
       "    </tr>\n",
       "    <tr>\n",
       "      <th>7053</th>\n",
       "      <td>STORM: Frontline Nation</td>\n",
       "      <td>PC</td>\n",
       "      <td>2011</td>\n",
       "      <td>Strategy</td>\n",
       "      <td>0.00</td>\n",
       "      <td>0.01</td>\n",
       "      <td>0.00</td>\n",
       "      <td>0.00</td>\n",
       "      <td>60.0</td>\n",
       "      <td>72.0</td>\n",
       "      <td>E10+</td>\n",
       "      <td>0.01</td>\n",
       "    </tr>\n",
       "    <tr>\n",
       "      <th>7054</th>\n",
       "      <td>15 Days</td>\n",
       "      <td>PC</td>\n",
       "      <td>2009</td>\n",
       "      <td>Adventure</td>\n",
       "      <td>0.00</td>\n",
       "      <td>0.01</td>\n",
       "      <td>0.00</td>\n",
       "      <td>0.00</td>\n",
       "      <td>63.0</td>\n",
       "      <td>58.0</td>\n",
       "      <td>M</td>\n",
       "      <td>0.01</td>\n",
       "    </tr>\n",
       "  </tbody>\n",
       "</table>\n",
       "<p>7055 rows × 12 columns</p>\n",
       "</div>"
      ],
      "text/plain": [
       "                                   name platform  year_of_release      genre  \\\n",
       "0                            Wii Sports      Wii             2006     Sports   \n",
       "1                        Mario Kart Wii      Wii             2008     Racing   \n",
       "2                     Wii Sports Resort      Wii             2009     Sports   \n",
       "3                 New Super Mario Bros.       DS             2006   Platform   \n",
       "4                              Wii Play      Wii             2006       Misc   \n",
       "...                                 ...      ...              ...        ...   \n",
       "7050     Mortal Kombat: Deadly Alliance      GBA             2002   Fighting   \n",
       "7051  Metal Gear Solid V: Ground Zeroes       PC             2014     Action   \n",
       "7052                             Breach       PC             2011    Shooter   \n",
       "7053            STORM: Frontline Nation       PC             2011   Strategy   \n",
       "7054                            15 Days       PC             2009  Adventure   \n",
       "\n",
       "      na_sales  eu_sales  jp_sales  other_sales  critic_score  user_score  \\\n",
       "0        41.36     28.96      3.77         8.45          76.0        80.0   \n",
       "1        15.68     12.76      3.79         3.29          82.0        83.0   \n",
       "2        15.61     10.93      3.28         2.95          80.0        80.0   \n",
       "3        11.28      9.14      6.50         2.88          89.0        85.0   \n",
       "4        13.96      9.18      2.93         2.84          58.0        66.0   \n",
       "...        ...       ...       ...          ...           ...         ...   \n",
       "7050      0.01      0.00      0.00         0.00          81.0        88.0   \n",
       "7051      0.00      0.01      0.00         0.00          80.0        76.0   \n",
       "7052      0.01      0.00      0.00         0.00          61.0        58.0   \n",
       "7053      0.00      0.01      0.00         0.00          60.0        72.0   \n",
       "7054      0.00      0.01      0.00         0.00          63.0        58.0   \n",
       "\n",
       "     rating  total_sales  \n",
       "0         E        82.54  \n",
       "1         E        35.52  \n",
       "2         E        32.77  \n",
       "3         E        29.80  \n",
       "4         E        28.91  \n",
       "...     ...          ...  \n",
       "7050      M         0.01  \n",
       "7051      M         0.01  \n",
       "7052      T         0.01  \n",
       "7053   E10+         0.01  \n",
       "7054      M         0.01  \n",
       "\n",
       "[7055 rows x 12 columns]"
      ]
     },
     "execution_count": 24,
     "metadata": {},
     "output_type": "execute_result"
    }
   ],
   "source": [
    "fil_data['total_sales'] = fil_data[['na_sales','eu_sales','jp_sales','other_sales']].sum(axis = 1)\n",
    "fil_data"
   ]
  },
  {
   "cell_type": "markdown",
   "metadata": {},
   "source": [
    "### Step 3. Analysis date"
   ]
  },
  {
   "cell_type": "markdown",
   "metadata": {},
   "source": [
    "Ok, let's answer on questions what we were asked in description   \n",
    "*1. Look at how many games were released in different years. Is the data for every period significant?*   \n"
   ]
  },
  {
   "cell_type": "code",
   "execution_count": 25,
   "metadata": {},
   "outputs": [
    {
     "data": {
      "text/html": [
       "<div>\n",
       "<style scoped>\n",
       "    .dataframe tbody tr th:only-of-type {\n",
       "        vertical-align: middle;\n",
       "    }\n",
       "\n",
       "    .dataframe tbody tr th {\n",
       "        vertical-align: top;\n",
       "    }\n",
       "\n",
       "    .dataframe thead th {\n",
       "        text-align: right;\n",
       "    }\n",
       "</style>\n",
       "<table border=\"1\" class=\"dataframe\">\n",
       "  <thead>\n",
       "    <tr style=\"text-align: right;\">\n",
       "      <th></th>\n",
       "      <th>year_of_release</th>\n",
       "      <th>name</th>\n",
       "    </tr>\n",
       "  </thead>\n",
       "  <tbody>\n",
       "    <tr>\n",
       "      <th>1</th>\n",
       "      <td>1985</td>\n",
       "      <td>1</td>\n",
       "    </tr>\n",
       "    <tr>\n",
       "      <th>2</th>\n",
       "      <td>1988</td>\n",
       "      <td>1</td>\n",
       "    </tr>\n",
       "    <tr>\n",
       "      <th>3</th>\n",
       "      <td>1992</td>\n",
       "      <td>1</td>\n",
       "    </tr>\n",
       "    <tr>\n",
       "      <th>4</th>\n",
       "      <td>1994</td>\n",
       "      <td>1</td>\n",
       "    </tr>\n",
       "    <tr>\n",
       "      <th>5</th>\n",
       "      <td>1996</td>\n",
       "      <td>8</td>\n",
       "    </tr>\n",
       "    <tr>\n",
       "      <th>6</th>\n",
       "      <td>1997</td>\n",
       "      <td>16</td>\n",
       "    </tr>\n",
       "    <tr>\n",
       "      <th>7</th>\n",
       "      <td>1998</td>\n",
       "      <td>28</td>\n",
       "    </tr>\n",
       "    <tr>\n",
       "      <th>8</th>\n",
       "      <td>1999</td>\n",
       "      <td>33</td>\n",
       "    </tr>\n",
       "    <tr>\n",
       "      <th>9</th>\n",
       "      <td>2000</td>\n",
       "      <td>103</td>\n",
       "    </tr>\n",
       "    <tr>\n",
       "      <th>10</th>\n",
       "      <td>2001</td>\n",
       "      <td>257</td>\n",
       "    </tr>\n",
       "    <tr>\n",
       "      <th>11</th>\n",
       "      <td>2002</td>\n",
       "      <td>455</td>\n",
       "    </tr>\n",
       "    <tr>\n",
       "      <th>12</th>\n",
       "      <td>2003</td>\n",
       "      <td>501</td>\n",
       "    </tr>\n",
       "    <tr>\n",
       "      <th>13</th>\n",
       "      <td>2004</td>\n",
       "      <td>480</td>\n",
       "    </tr>\n",
       "    <tr>\n",
       "      <th>14</th>\n",
       "      <td>2005</td>\n",
       "      <td>565</td>\n",
       "    </tr>\n",
       "    <tr>\n",
       "      <th>15</th>\n",
       "      <td>2006</td>\n",
       "      <td>530</td>\n",
       "    </tr>\n",
       "    <tr>\n",
       "      <th>16</th>\n",
       "      <td>2007</td>\n",
       "      <td>590</td>\n",
       "    </tr>\n",
       "    <tr>\n",
       "      <th>17</th>\n",
       "      <td>2008</td>\n",
       "      <td>599</td>\n",
       "    </tr>\n",
       "    <tr>\n",
       "      <th>18</th>\n",
       "      <td>2009</td>\n",
       "      <td>557</td>\n",
       "    </tr>\n",
       "    <tr>\n",
       "      <th>19</th>\n",
       "      <td>2010</td>\n",
       "      <td>433</td>\n",
       "    </tr>\n",
       "    <tr>\n",
       "      <th>20</th>\n",
       "      <td>2011</td>\n",
       "      <td>468</td>\n",
       "    </tr>\n",
       "    <tr>\n",
       "      <th>21</th>\n",
       "      <td>2012</td>\n",
       "      <td>321</td>\n",
       "    </tr>\n",
       "    <tr>\n",
       "      <th>22</th>\n",
       "      <td>2013</td>\n",
       "      <td>272</td>\n",
       "    </tr>\n",
       "    <tr>\n",
       "      <th>23</th>\n",
       "      <td>2014</td>\n",
       "      <td>257</td>\n",
       "    </tr>\n",
       "    <tr>\n",
       "      <th>24</th>\n",
       "      <td>2015</td>\n",
       "      <td>223</td>\n",
       "    </tr>\n",
       "    <tr>\n",
       "      <th>25</th>\n",
       "      <td>2016</td>\n",
       "      <td>227</td>\n",
       "    </tr>\n",
       "  </tbody>\n",
       "</table>\n",
       "</div>"
      ],
      "text/plain": [
       "    year_of_release  name\n",
       "1              1985     1\n",
       "2              1988     1\n",
       "3              1992     1\n",
       "4              1994     1\n",
       "5              1996     8\n",
       "6              1997    16\n",
       "7              1998    28\n",
       "8              1999    33\n",
       "9              2000   103\n",
       "10             2001   257\n",
       "11             2002   455\n",
       "12             2003   501\n",
       "13             2004   480\n",
       "14             2005   565\n",
       "15             2006   530\n",
       "16             2007   590\n",
       "17             2008   599\n",
       "18             2009   557\n",
       "19             2010   433\n",
       "20             2011   468\n",
       "21             2012   321\n",
       "22             2013   272\n",
       "23             2014   257\n",
       "24             2015   223\n",
       "25             2016   227"
      ]
     },
     "execution_count": 25,
     "metadata": {},
     "output_type": "execute_result"
    }
   ],
   "source": [
    "years_games = fil_data.pivot_table(index = 'year_of_release', values = 'name', aggfunc = 'count').reset_index()\n",
    "years_games = years_games.query('year_of_release != 0')\n",
    "years_games"
   ]
  },
  {
   "cell_type": "code",
   "execution_count": 26,
   "metadata": {},
   "outputs": [
    {
     "data": {
      "image/png": "[encoded data removed]",
      "text/plain": [
       "<Figure size 936x576 with 1 Axes>"
      ]
     },
     "metadata": {
      "needs_background": "light"
     },
     "output_type": "display_data"
    }
   ],
   "source": [
    "years_games.plot(x = 'year_of_release', y = 'name', kind = 'bar', grid = True, figsize =(13, 8));\n",
    "plt.title('Number video games per year');\n",
    "plt.xlabel('year of release');\n",
    "plt.ylabel('number of games');"
   ]
  },
  {
   "cell_type": "markdown",
   "metadata": {},
   "source": [
    "***\n",
    "As we see we have kind of leap in 2001 year, after that the data tend to increase and from 2012 little bit decreasing to 2001 values.  "
   ]
  },
  {
   "cell_type": "markdown",
   "metadata": {},
   "source": [
    "*2. Look at how sales varied from platform to platform. Choose the platforms with the greatest total sales and build a distribution based on data for each year. Find platforms that used to be popular but now have zero sales. How long does it generally take for new platforms to appear and old ones to fade?*"
   ]
  },
  {
   "cell_type": "markdown",
   "metadata": {},
   "source": [
    "First, let's determine how sales veried: "
   ]
  },
  {
   "cell_type": "code",
   "execution_count": 27,
   "metadata": {},
   "outputs": [
    {
     "data": {
      "text/html": [
       "<div>\n",
       "<style scoped>\n",
       "    .dataframe tbody tr th:only-of-type {\n",
       "        vertical-align: middle;\n",
       "    }\n",
       "\n",
       "    .dataframe tbody tr th {\n",
       "        vertical-align: top;\n",
       "    }\n",
       "\n",
       "    .dataframe thead th {\n",
       "        text-align: right;\n",
       "    }\n",
       "</style>\n",
       "<table border=\"1\" class=\"dataframe\">\n",
       "  <thead>\n",
       "    <tr style=\"text-align: right;\">\n",
       "      <th></th>\n",
       "      <th>platform</th>\n",
       "      <th>total_sales</th>\n",
       "    </tr>\n",
       "  </thead>\n",
       "  <tbody>\n",
       "    <tr>\n",
       "      <th>0</th>\n",
       "      <td>PS2</td>\n",
       "      <td>962.42</td>\n",
       "    </tr>\n",
       "    <tr>\n",
       "      <th>1</th>\n",
       "      <td>X360</td>\n",
       "      <td>863.58</td>\n",
       "    </tr>\n",
       "    <tr>\n",
       "      <th>2</th>\n",
       "      <td>PS3</td>\n",
       "      <td>793.20</td>\n",
       "    </tr>\n",
       "    <tr>\n",
       "      <th>3</th>\n",
       "      <td>Wii</td>\n",
       "      <td>672.97</td>\n",
       "    </tr>\n",
       "    <tr>\n",
       "      <th>4</th>\n",
       "      <td>DS</td>\n",
       "      <td>384.14</td>\n",
       "    </tr>\n",
       "    <tr>\n",
       "      <th>5</th>\n",
       "      <td>PS4</td>\n",
       "      <td>244.44</td>\n",
       "    </tr>\n",
       "    <tr>\n",
       "      <th>6</th>\n",
       "      <td>PS</td>\n",
       "      <td>221.81</td>\n",
       "    </tr>\n",
       "    <tr>\n",
       "      <th>7</th>\n",
       "      <td>XB</td>\n",
       "      <td>218.12</td>\n",
       "    </tr>\n",
       "    <tr>\n",
       "      <th>8</th>\n",
       "      <td>PC</td>\n",
       "      <td>196.18</td>\n",
       "    </tr>\n",
       "    <tr>\n",
       "      <th>9</th>\n",
       "      <td>PSP</td>\n",
       "      <td>190.21</td>\n",
       "    </tr>\n",
       "    <tr>\n",
       "      <th>10</th>\n",
       "      <td>GC</td>\n",
       "      <td>160.60</td>\n",
       "    </tr>\n",
       "    <tr>\n",
       "      <th>11</th>\n",
       "      <td>GBA</td>\n",
       "      <td>133.42</td>\n",
       "    </tr>\n",
       "    <tr>\n",
       "      <th>12</th>\n",
       "      <td>XOne</td>\n",
       "      <td>130.24</td>\n",
       "    </tr>\n",
       "    <tr>\n",
       "      <th>13</th>\n",
       "      <td>3DS</td>\n",
       "      <td>123.99</td>\n",
       "    </tr>\n",
       "    <tr>\n",
       "      <th>14</th>\n",
       "      <td>WiiU</td>\n",
       "      <td>66.08</td>\n",
       "    </tr>\n",
       "    <tr>\n",
       "      <th>15</th>\n",
       "      <td>PSV</td>\n",
       "      <td>31.09</td>\n",
       "    </tr>\n",
       "    <tr>\n",
       "      <th>16</th>\n",
       "      <td>DC</td>\n",
       "      <td>4.55</td>\n",
       "    </tr>\n",
       "  </tbody>\n",
       "</table>\n",
       "</div>"
      ],
      "text/plain": [
       "   platform  total_sales\n",
       "0       PS2       962.42\n",
       "1      X360       863.58\n",
       "2       PS3       793.20\n",
       "3       Wii       672.97\n",
       "4        DS       384.14\n",
       "5       PS4       244.44\n",
       "6        PS       221.81\n",
       "7        XB       218.12\n",
       "8        PC       196.18\n",
       "9       PSP       190.21\n",
       "10       GC       160.60\n",
       "11      GBA       133.42\n",
       "12     XOne       130.24\n",
       "13      3DS       123.99\n",
       "14     WiiU        66.08\n",
       "15      PSV        31.09\n",
       "16       DC         4.55"
      ]
     },
     "execution_count": 27,
     "metadata": {},
     "output_type": "execute_result"
    }
   ],
   "source": [
    "sales_plat = fil_data[['platform','total_sales']].groupby('platform')['total_sales'].sum().sort_values(ascending = False).reset_index()\n",
    "sales_plat"
   ]
  },
  {
   "cell_type": "markdown",
   "metadata": {},
   "source": [
    "As was early mentioned on workshop we have weird distribution of sales by platforms, kind of gap between platforms. Let's work with 'z-score' or 'standard score'. To do so we create a new column with values according formula:   \n",
    "$$   \n",
    "z = \\frac{x - \\mu}{\\sigma} \\\\  \n",
    "$$ "
   ]
  },
  {
   "cell_type": "code",
   "execution_count": 28,
   "metadata": {},
   "outputs": [
    {
     "data": {
      "text/html": [
       "<div>\n",
       "<style scoped>\n",
       "    .dataframe tbody tr th:only-of-type {\n",
       "        vertical-align: middle;\n",
       "    }\n",
       "\n",
       "    .dataframe tbody tr th {\n",
       "        vertical-align: top;\n",
       "    }\n",
       "\n",
       "    .dataframe thead th {\n",
       "        text-align: right;\n",
       "    }\n",
       "</style>\n",
       "<table border=\"1\" class=\"dataframe\">\n",
       "  <thead>\n",
       "    <tr style=\"text-align: right;\">\n",
       "      <th></th>\n",
       "      <th>platform</th>\n",
       "      <th>total_sales</th>\n",
       "      <th>sales_z</th>\n",
       "    </tr>\n",
       "  </thead>\n",
       "  <tbody>\n",
       "    <tr>\n",
       "      <th>0</th>\n",
       "      <td>PS2</td>\n",
       "      <td>962.42</td>\n",
       "      <td>2.105895</td>\n",
       "    </tr>\n",
       "    <tr>\n",
       "      <th>1</th>\n",
       "      <td>X360</td>\n",
       "      <td>863.58</td>\n",
       "      <td>1.783160</td>\n",
       "    </tr>\n",
       "    <tr>\n",
       "      <th>2</th>\n",
       "      <td>PS3</td>\n",
       "      <td>793.20</td>\n",
       "      <td>1.553354</td>\n",
       "    </tr>\n",
       "    <tr>\n",
       "      <th>3</th>\n",
       "      <td>Wii</td>\n",
       "      <td>672.97</td>\n",
       "      <td>1.160776</td>\n",
       "    </tr>\n",
       "    <tr>\n",
       "      <th>4</th>\n",
       "      <td>DS</td>\n",
       "      <td>384.14</td>\n",
       "      <td>0.217683</td>\n",
       "    </tr>\n",
       "    <tr>\n",
       "      <th>5</th>\n",
       "      <td>PS4</td>\n",
       "      <td>244.44</td>\n",
       "      <td>-0.238469</td>\n",
       "    </tr>\n",
       "    <tr>\n",
       "      <th>6</th>\n",
       "      <td>PS</td>\n",
       "      <td>221.81</td>\n",
       "      <td>-0.312361</td>\n",
       "    </tr>\n",
       "    <tr>\n",
       "      <th>7</th>\n",
       "      <td>XB</td>\n",
       "      <td>218.12</td>\n",
       "      <td>-0.324409</td>\n",
       "    </tr>\n",
       "    <tr>\n",
       "      <th>8</th>\n",
       "      <td>PC</td>\n",
       "      <td>196.18</td>\n",
       "      <td>-0.396048</td>\n",
       "    </tr>\n",
       "    <tr>\n",
       "      <th>9</th>\n",
       "      <td>PSP</td>\n",
       "      <td>190.21</td>\n",
       "      <td>-0.415542</td>\n",
       "    </tr>\n",
       "    <tr>\n",
       "      <th>10</th>\n",
       "      <td>GC</td>\n",
       "      <td>160.60</td>\n",
       "      <td>-0.512225</td>\n",
       "    </tr>\n",
       "    <tr>\n",
       "      <th>11</th>\n",
       "      <td>GBA</td>\n",
       "      <td>133.42</td>\n",
       "      <td>-0.600974</td>\n",
       "    </tr>\n",
       "    <tr>\n",
       "      <th>12</th>\n",
       "      <td>XOne</td>\n",
       "      <td>130.24</td>\n",
       "      <td>-0.611357</td>\n",
       "    </tr>\n",
       "    <tr>\n",
       "      <th>13</th>\n",
       "      <td>3DS</td>\n",
       "      <td>123.99</td>\n",
       "      <td>-0.631765</td>\n",
       "    </tr>\n",
       "    <tr>\n",
       "      <th>14</th>\n",
       "      <td>WiiU</td>\n",
       "      <td>66.08</td>\n",
       "      <td>-0.820853</td>\n",
       "    </tr>\n",
       "    <tr>\n",
       "      <th>15</th>\n",
       "      <td>PSV</td>\n",
       "      <td>31.09</td>\n",
       "      <td>-0.935104</td>\n",
       "    </tr>\n",
       "    <tr>\n",
       "      <th>16</th>\n",
       "      <td>DC</td>\n",
       "      <td>4.55</td>\n",
       "      <td>-1.021763</td>\n",
       "    </tr>\n",
       "  </tbody>\n",
       "</table>\n",
       "</div>"
      ],
      "text/plain": [
       "   platform  total_sales   sales_z\n",
       "0       PS2       962.42  2.105895\n",
       "1      X360       863.58  1.783160\n",
       "2       PS3       793.20  1.553354\n",
       "3       Wii       672.97  1.160776\n",
       "4        DS       384.14  0.217683\n",
       "5       PS4       244.44 -0.238469\n",
       "6        PS       221.81 -0.312361\n",
       "7        XB       218.12 -0.324409\n",
       "8        PC       196.18 -0.396048\n",
       "9       PSP       190.21 -0.415542\n",
       "10       GC       160.60 -0.512225\n",
       "11      GBA       133.42 -0.600974\n",
       "12     XOne       130.24 -0.611357\n",
       "13      3DS       123.99 -0.631765\n",
       "14     WiiU        66.08 -0.820853\n",
       "15      PSV        31.09 -0.935104\n",
       "16       DC         4.55 -1.021763"
      ]
     },
     "execution_count": 28,
     "metadata": {},
     "output_type": "execute_result"
    }
   ],
   "source": [
    "sales_plat['sales_z'] = (sales_plat['total_sales'] - sales_plat['total_sales'].mean()) / sales_plat['total_sales'].std()\n",
    "sales_plat"
   ]
  },
  {
   "cell_type": "code",
   "execution_count": 29,
   "metadata": {},
   "outputs": [
    {
     "data": {
      "text/html": [
       "<div>\n",
       "<style scoped>\n",
       "    .dataframe tbody tr th:only-of-type {\n",
       "        vertical-align: middle;\n",
       "    }\n",
       "\n",
       "    .dataframe tbody tr th {\n",
       "        vertical-align: top;\n",
       "    }\n",
       "\n",
       "    .dataframe thead th {\n",
       "        text-align: right;\n",
       "    }\n",
       "</style>\n",
       "<table border=\"1\" class=\"dataframe\">\n",
       "  <thead>\n",
       "    <tr style=\"text-align: right;\">\n",
       "      <th></th>\n",
       "      <th>platform</th>\n",
       "      <th>total_sales</th>\n",
       "      <th>sales_z</th>\n",
       "      <th>color</th>\n",
       "    </tr>\n",
       "  </thead>\n",
       "  <tbody>\n",
       "    <tr>\n",
       "      <th>0</th>\n",
       "      <td>PS2</td>\n",
       "      <td>962.42</td>\n",
       "      <td>2.105895</td>\n",
       "      <td>green</td>\n",
       "    </tr>\n",
       "    <tr>\n",
       "      <th>1</th>\n",
       "      <td>X360</td>\n",
       "      <td>863.58</td>\n",
       "      <td>1.783160</td>\n",
       "      <td>green</td>\n",
       "    </tr>\n",
       "    <tr>\n",
       "      <th>2</th>\n",
       "      <td>PS3</td>\n",
       "      <td>793.20</td>\n",
       "      <td>1.553354</td>\n",
       "      <td>green</td>\n",
       "    </tr>\n",
       "    <tr>\n",
       "      <th>3</th>\n",
       "      <td>Wii</td>\n",
       "      <td>672.97</td>\n",
       "      <td>1.160776</td>\n",
       "      <td>green</td>\n",
       "    </tr>\n",
       "    <tr>\n",
       "      <th>4</th>\n",
       "      <td>DS</td>\n",
       "      <td>384.14</td>\n",
       "      <td>0.217683</td>\n",
       "      <td>green</td>\n",
       "    </tr>\n",
       "    <tr>\n",
       "      <th>5</th>\n",
       "      <td>PS4</td>\n",
       "      <td>244.44</td>\n",
       "      <td>-0.238469</td>\n",
       "      <td>red</td>\n",
       "    </tr>\n",
       "    <tr>\n",
       "      <th>6</th>\n",
       "      <td>PS</td>\n",
       "      <td>221.81</td>\n",
       "      <td>-0.312361</td>\n",
       "      <td>red</td>\n",
       "    </tr>\n",
       "    <tr>\n",
       "      <th>7</th>\n",
       "      <td>XB</td>\n",
       "      <td>218.12</td>\n",
       "      <td>-0.324409</td>\n",
       "      <td>red</td>\n",
       "    </tr>\n",
       "    <tr>\n",
       "      <th>8</th>\n",
       "      <td>PC</td>\n",
       "      <td>196.18</td>\n",
       "      <td>-0.396048</td>\n",
       "      <td>red</td>\n",
       "    </tr>\n",
       "    <tr>\n",
       "      <th>9</th>\n",
       "      <td>PSP</td>\n",
       "      <td>190.21</td>\n",
       "      <td>-0.415542</td>\n",
       "      <td>red</td>\n",
       "    </tr>\n",
       "    <tr>\n",
       "      <th>10</th>\n",
       "      <td>GC</td>\n",
       "      <td>160.60</td>\n",
       "      <td>-0.512225</td>\n",
       "      <td>red</td>\n",
       "    </tr>\n",
       "    <tr>\n",
       "      <th>11</th>\n",
       "      <td>GBA</td>\n",
       "      <td>133.42</td>\n",
       "      <td>-0.600974</td>\n",
       "      <td>red</td>\n",
       "    </tr>\n",
       "    <tr>\n",
       "      <th>12</th>\n",
       "      <td>XOne</td>\n",
       "      <td>130.24</td>\n",
       "      <td>-0.611357</td>\n",
       "      <td>red</td>\n",
       "    </tr>\n",
       "    <tr>\n",
       "      <th>13</th>\n",
       "      <td>3DS</td>\n",
       "      <td>123.99</td>\n",
       "      <td>-0.631765</td>\n",
       "      <td>red</td>\n",
       "    </tr>\n",
       "    <tr>\n",
       "      <th>14</th>\n",
       "      <td>WiiU</td>\n",
       "      <td>66.08</td>\n",
       "      <td>-0.820853</td>\n",
       "      <td>red</td>\n",
       "    </tr>\n",
       "    <tr>\n",
       "      <th>15</th>\n",
       "      <td>PSV</td>\n",
       "      <td>31.09</td>\n",
       "      <td>-0.935104</td>\n",
       "      <td>red</td>\n",
       "    </tr>\n",
       "    <tr>\n",
       "      <th>16</th>\n",
       "      <td>DC</td>\n",
       "      <td>4.55</td>\n",
       "      <td>-1.021763</td>\n",
       "      <td>red</td>\n",
       "    </tr>\n",
       "  </tbody>\n",
       "</table>\n",
       "</div>"
      ],
      "text/plain": [
       "   platform  total_sales   sales_z  color\n",
       "0       PS2       962.42  2.105895  green\n",
       "1      X360       863.58  1.783160  green\n",
       "2       PS3       793.20  1.553354  green\n",
       "3       Wii       672.97  1.160776  green\n",
       "4        DS       384.14  0.217683  green\n",
       "5       PS4       244.44 -0.238469    red\n",
       "6        PS       221.81 -0.312361    red\n",
       "7        XB       218.12 -0.324409    red\n",
       "8        PC       196.18 -0.396048    red\n",
       "9       PSP       190.21 -0.415542    red\n",
       "10       GC       160.60 -0.512225    red\n",
       "11      GBA       133.42 -0.600974    red\n",
       "12     XOne       130.24 -0.611357    red\n",
       "13      3DS       123.99 -0.631765    red\n",
       "14     WiiU        66.08 -0.820853    red\n",
       "15      PSV        31.09 -0.935104    red\n",
       "16       DC         4.55 -1.021763    red"
      ]
     },
     "execution_count": 29,
     "metadata": {},
     "output_type": "execute_result"
    }
   ],
   "source": [
    "sales_plat['color'] = ['red' if x < 0 else 'green' for x in sales_plat['sales_z']]\n",
    "sales_plat"
   ]
  },
  {
   "cell_type": "code",
   "execution_count": 30,
   "metadata": {},
   "outputs": [
    {
     "data": {
      "image/png": "[encoded data removed]",
      "text/plain": [
       "<Figure size 1008x720 with 1 Axes>"
      ]
     },
     "metadata": {
      "needs_background": "light"
     },
     "output_type": "display_data"
    }
   ],
   "source": [
    "plt.figure(figsize = (14, 10));\n",
    "plt.hlines(y = sales_plat.platform, xmax = sales_plat.sales_z, \n",
    "           xmin = 0, color = sales_plat.color, alpha = 0.5, linewidth = 10);"
   ]
  },
  {
   "cell_type": "markdown",
   "metadata": {},
   "source": [
    "Well, we can assume the platforms that above 'z-score', and they are:    \n",
    "- PS2   \n",
    "- X360   \n",
    "- PS3   \n",
    "- Wii   \n",
    "- DS\n",
    "\n",
    "Let's take a look what the distribution is, based on data for each year:"
   ]
  },
  {
   "cell_type": "code",
   "execution_count": 31,
   "metadata": {},
   "outputs": [
    {
     "data": {
      "text/html": [
       "<div>\n",
       "<style scoped>\n",
       "    .dataframe tbody tr th:only-of-type {\n",
       "        vertical-align: middle;\n",
       "    }\n",
       "\n",
       "    .dataframe tbody tr th {\n",
       "        vertical-align: top;\n",
       "    }\n",
       "\n",
       "    .dataframe thead th {\n",
       "        text-align: right;\n",
       "    }\n",
       "</style>\n",
       "<table border=\"1\" class=\"dataframe\">\n",
       "  <thead>\n",
       "    <tr style=\"text-align: right;\">\n",
       "      <th>platform</th>\n",
       "      <th>DS</th>\n",
       "      <th>PS2</th>\n",
       "      <th>PS3</th>\n",
       "      <th>Wii</th>\n",
       "      <th>X360</th>\n",
       "    </tr>\n",
       "    <tr>\n",
       "      <th>year_of_release</th>\n",
       "      <th></th>\n",
       "      <th></th>\n",
       "      <th></th>\n",
       "      <th></th>\n",
       "      <th></th>\n",
       "    </tr>\n",
       "  </thead>\n",
       "  <tbody>\n",
       "    <tr>\n",
       "      <th>2000</th>\n",
       "      <td>0.00</td>\n",
       "      <td>29.50</td>\n",
       "      <td>0.00</td>\n",
       "      <td>0.00</td>\n",
       "      <td>0.00</td>\n",
       "    </tr>\n",
       "    <tr>\n",
       "      <th>2001</th>\n",
       "      <td>0.00</td>\n",
       "      <td>145.96</td>\n",
       "      <td>0.00</td>\n",
       "      <td>0.00</td>\n",
       "      <td>0.00</td>\n",
       "    </tr>\n",
       "    <tr>\n",
       "      <th>2002</th>\n",
       "      <td>0.00</td>\n",
       "      <td>169.99</td>\n",
       "      <td>0.00</td>\n",
       "      <td>0.00</td>\n",
       "      <td>0.00</td>\n",
       "    </tr>\n",
       "    <tr>\n",
       "      <th>2003</th>\n",
       "      <td>0.00</td>\n",
       "      <td>144.27</td>\n",
       "      <td>0.00</td>\n",
       "      <td>0.00</td>\n",
       "      <td>0.00</td>\n",
       "    </tr>\n",
       "    <tr>\n",
       "      <th>2004</th>\n",
       "      <td>3.38</td>\n",
       "      <td>188.34</td>\n",
       "      <td>0.00</td>\n",
       "      <td>0.00</td>\n",
       "      <td>0.00</td>\n",
       "    </tr>\n",
       "    <tr>\n",
       "      <th>2005</th>\n",
       "      <td>96.20</td>\n",
       "      <td>117.70</td>\n",
       "      <td>0.00</td>\n",
       "      <td>0.00</td>\n",
       "      <td>7.64</td>\n",
       "    </tr>\n",
       "    <tr>\n",
       "      <th>2006</th>\n",
       "      <td>72.56</td>\n",
       "      <td>75.98</td>\n",
       "      <td>19.62</td>\n",
       "      <td>135.02</td>\n",
       "      <td>48.92</td>\n",
       "    </tr>\n",
       "    <tr>\n",
       "      <th>2007</th>\n",
       "      <td>77.47</td>\n",
       "      <td>48.08</td>\n",
       "      <td>68.52</td>\n",
       "      <td>127.31</td>\n",
       "      <td>89.39</td>\n",
       "    </tr>\n",
       "    <tr>\n",
       "      <th>2008</th>\n",
       "      <td>63.43</td>\n",
       "      <td>21.15</td>\n",
       "      <td>110.01</td>\n",
       "      <td>131.05</td>\n",
       "      <td>129.16</td>\n",
       "    </tr>\n",
       "    <tr>\n",
       "      <th>2009</th>\n",
       "      <td>39.42</td>\n",
       "      <td>4.45</td>\n",
       "      <td>118.50</td>\n",
       "      <td>151.07</td>\n",
       "      <td>110.68</td>\n",
       "    </tr>\n",
       "    <tr>\n",
       "      <th>2010</th>\n",
       "      <td>25.29</td>\n",
       "      <td>0.59</td>\n",
       "      <td>125.25</td>\n",
       "      <td>67.92</td>\n",
       "      <td>157.42</td>\n",
       "    </tr>\n",
       "    <tr>\n",
       "      <th>2011</th>\n",
       "      <td>4.36</td>\n",
       "      <td>0.00</td>\n",
       "      <td>135.18</td>\n",
       "      <td>33.75</td>\n",
       "      <td>129.63</td>\n",
       "    </tr>\n",
       "    <tr>\n",
       "      <th>2012</th>\n",
       "      <td>1.02</td>\n",
       "      <td>0.00</td>\n",
       "      <td>94.30</td>\n",
       "      <td>13.23</td>\n",
       "      <td>95.68</td>\n",
       "    </tr>\n",
       "    <tr>\n",
       "      <th>2013</th>\n",
       "      <td>0.00</td>\n",
       "      <td>0.00</td>\n",
       "      <td>102.70</td>\n",
       "      <td>0.00</td>\n",
       "      <td>75.17</td>\n",
       "    </tr>\n",
       "    <tr>\n",
       "      <th>2014</th>\n",
       "      <td>0.00</td>\n",
       "      <td>0.00</td>\n",
       "      <td>11.34</td>\n",
       "      <td>0.00</td>\n",
       "      <td>10.10</td>\n",
       "    </tr>\n",
       "    <tr>\n",
       "      <th>2015</th>\n",
       "      <td>0.00</td>\n",
       "      <td>0.00</td>\n",
       "      <td>0.02</td>\n",
       "      <td>0.00</td>\n",
       "      <td>0.00</td>\n",
       "    </tr>\n",
       "  </tbody>\n",
       "</table>\n",
       "</div>"
      ],
      "text/plain": [
       "platform            DS     PS2     PS3     Wii    X360\n",
       "year_of_release                                       \n",
       "2000              0.00   29.50    0.00    0.00    0.00\n",
       "2001              0.00  145.96    0.00    0.00    0.00\n",
       "2002              0.00  169.99    0.00    0.00    0.00\n",
       "2003              0.00  144.27    0.00    0.00    0.00\n",
       "2004              3.38  188.34    0.00    0.00    0.00\n",
       "2005             96.20  117.70    0.00    0.00    7.64\n",
       "2006             72.56   75.98   19.62  135.02   48.92\n",
       "2007             77.47   48.08   68.52  127.31   89.39\n",
       "2008             63.43   21.15  110.01  131.05  129.16\n",
       "2009             39.42    4.45  118.50  151.07  110.68\n",
       "2010             25.29    0.59  125.25   67.92  157.42\n",
       "2011              4.36    0.00  135.18   33.75  129.63\n",
       "2012              1.02    0.00   94.30   13.23   95.68\n",
       "2013              0.00    0.00  102.70    0.00   75.17\n",
       "2014              0.00    0.00   11.34    0.00   10.10\n",
       "2015              0.00    0.00    0.02    0.00    0.00"
      ]
     },
     "execution_count": 31,
     "metadata": {},
     "output_type": "execute_result"
    }
   ],
   "source": [
    "platforms = ['PS2', 'X360', 'PS3', 'Wii', 'DS']\n",
    "great_sales = fil_data.query('platform in @platforms and year_of_release != 0').pivot_table(index = 'year_of_release', \n",
    "                                                                                            columns = 'platform', \n",
    "                                                                                            values = 'total_sales', \n",
    "                                                                                            aggfunc = 'sum').fillna(0)\n",
    "great_sales "
   ]
  },
  {
   "cell_type": "code",
   "execution_count": 32,
   "metadata": {},
   "outputs": [
    {
     "data": {
      "image/png": "[encoded data removed]",
      "text/plain": [
       "<Figure size 936x576 with 1 Axes>"
      ]
     },
     "metadata": {
      "needs_background": "light"
     },
     "output_type": "display_data"
    }
   ],
   "source": [
    "fig, ax = plt.subplots(figsize = (13, 8));\n",
    "ax = sns.lineplot(data=great_sales);\n",
    "plt.title('Distribution by year'); \n",
    "plt.xlabel('Year');\n",
    "plt.ylabel('Total sales');"
   ]
  },
  {
   "cell_type": "markdown",
   "metadata": {},
   "source": [
    "***\n",
    "We can determine, that hole lifecycle takes 9-10 years, and it takes 6 years, then the new platform appears and the old ones fade absolutly.  \n",
    "\n",
    "Additionally, we can see that period with most high level of sales takes usually 3-5 years. So, let's define it like our **actual period** "
   ]
  },
  {
   "cell_type": "markdown",
   "metadata": {},
   "source": [
    "*3. Determine what period you should take data for. To do so, look at your answers to the previous questions. The data should allow you to build a prognosis for 2017.*    \n",
    "\n",
    "Accoding line plot above let's proceed with data where date of release later 2013 year"
   ]
  },
  {
   "cell_type": "markdown",
   "metadata": {},
   "source": [
    "*4. Work only with the data that you've decided is relevant. Disregard the data for previous years.*"
   ]
  },
  {
   "cell_type": "code",
   "execution_count": 33,
   "metadata": {},
   "outputs": [
    {
     "data": {
      "text/html": [
       "<div>\n",
       "<style scoped>\n",
       "    .dataframe tbody tr th:only-of-type {\n",
       "        vertical-align: middle;\n",
       "    }\n",
       "\n",
       "    .dataframe tbody tr th {\n",
       "        vertical-align: top;\n",
       "    }\n",
       "\n",
       "    .dataframe thead th {\n",
       "        text-align: right;\n",
       "    }\n",
       "</style>\n",
       "<table border=\"1\" class=\"dataframe\">\n",
       "  <thead>\n",
       "    <tr style=\"text-align: right;\">\n",
       "      <th></th>\n",
       "      <th>name</th>\n",
       "      <th>platform</th>\n",
       "      <th>year_of_release</th>\n",
       "      <th>genre</th>\n",
       "      <th>na_sales</th>\n",
       "      <th>eu_sales</th>\n",
       "      <th>jp_sales</th>\n",
       "      <th>other_sales</th>\n",
       "      <th>critic_score</th>\n",
       "      <th>user_score</th>\n",
       "      <th>rating</th>\n",
       "      <th>total_sales</th>\n",
       "    </tr>\n",
       "  </thead>\n",
       "  <tbody>\n",
       "    <tr>\n",
       "      <th>0</th>\n",
       "      <td>Grand Theft Auto V</td>\n",
       "      <td>PS3</td>\n",
       "      <td>2013</td>\n",
       "      <td>Action</td>\n",
       "      <td>7.02</td>\n",
       "      <td>9.09</td>\n",
       "      <td>0.98</td>\n",
       "      <td>3.96</td>\n",
       "      <td>97.0</td>\n",
       "      <td>82.0</td>\n",
       "      <td>M</td>\n",
       "      <td>21.05</td>\n",
       "    </tr>\n",
       "    <tr>\n",
       "      <th>1</th>\n",
       "      <td>Grand Theft Auto V</td>\n",
       "      <td>X360</td>\n",
       "      <td>2013</td>\n",
       "      <td>Action</td>\n",
       "      <td>9.66</td>\n",
       "      <td>5.14</td>\n",
       "      <td>0.06</td>\n",
       "      <td>1.41</td>\n",
       "      <td>97.0</td>\n",
       "      <td>81.0</td>\n",
       "      <td>M</td>\n",
       "      <td>16.27</td>\n",
       "    </tr>\n",
       "    <tr>\n",
       "      <th>2</th>\n",
       "      <td>Grand Theft Auto V</td>\n",
       "      <td>PS4</td>\n",
       "      <td>2014</td>\n",
       "      <td>Action</td>\n",
       "      <td>3.96</td>\n",
       "      <td>6.31</td>\n",
       "      <td>0.38</td>\n",
       "      <td>1.97</td>\n",
       "      <td>97.0</td>\n",
       "      <td>83.0</td>\n",
       "      <td>M</td>\n",
       "      <td>12.62</td>\n",
       "    </tr>\n",
       "    <tr>\n",
       "      <th>3</th>\n",
       "      <td>Call of Duty: Ghosts</td>\n",
       "      <td>X360</td>\n",
       "      <td>2013</td>\n",
       "      <td>Shooter</td>\n",
       "      <td>6.73</td>\n",
       "      <td>2.56</td>\n",
       "      <td>0.04</td>\n",
       "      <td>0.91</td>\n",
       "      <td>73.0</td>\n",
       "      <td>26.0</td>\n",
       "      <td>M</td>\n",
       "      <td>10.24</td>\n",
       "    </tr>\n",
       "    <tr>\n",
       "      <th>4</th>\n",
       "      <td>Call of Duty: Ghosts</td>\n",
       "      <td>PS3</td>\n",
       "      <td>2013</td>\n",
       "      <td>Shooter</td>\n",
       "      <td>4.10</td>\n",
       "      <td>3.63</td>\n",
       "      <td>0.38</td>\n",
       "      <td>1.25</td>\n",
       "      <td>71.0</td>\n",
       "      <td>26.0</td>\n",
       "      <td>M</td>\n",
       "      <td>9.36</td>\n",
       "    </tr>\n",
       "    <tr>\n",
       "      <th>...</th>\n",
       "      <td>...</td>\n",
       "      <td>...</td>\n",
       "      <td>...</td>\n",
       "      <td>...</td>\n",
       "      <td>...</td>\n",
       "      <td>...</td>\n",
       "      <td>...</td>\n",
       "      <td>...</td>\n",
       "      <td>...</td>\n",
       "      <td>...</td>\n",
       "      <td>...</td>\n",
       "      <td>...</td>\n",
       "    </tr>\n",
       "    <tr>\n",
       "      <th>974</th>\n",
       "      <td>Saints Row: Gat out of Hell</td>\n",
       "      <td>XOne</td>\n",
       "      <td>2015</td>\n",
       "      <td>Action</td>\n",
       "      <td>0.00</td>\n",
       "      <td>0.01</td>\n",
       "      <td>0.00</td>\n",
       "      <td>0.00</td>\n",
       "      <td>65.0</td>\n",
       "      <td>60.0</td>\n",
       "      <td>M</td>\n",
       "      <td>0.01</td>\n",
       "    </tr>\n",
       "    <tr>\n",
       "      <th>975</th>\n",
       "      <td>Sébastien Loeb Rally Evo</td>\n",
       "      <td>XOne</td>\n",
       "      <td>2016</td>\n",
       "      <td>Racing</td>\n",
       "      <td>0.00</td>\n",
       "      <td>0.01</td>\n",
       "      <td>0.00</td>\n",
       "      <td>0.00</td>\n",
       "      <td>63.0</td>\n",
       "      <td>82.0</td>\n",
       "      <td>E</td>\n",
       "      <td>0.01</td>\n",
       "    </tr>\n",
       "    <tr>\n",
       "      <th>976</th>\n",
       "      <td>Fast Racing Neo</td>\n",
       "      <td>WiiU</td>\n",
       "      <td>2016</td>\n",
       "      <td>Action</td>\n",
       "      <td>0.00</td>\n",
       "      <td>0.01</td>\n",
       "      <td>0.00</td>\n",
       "      <td>0.00</td>\n",
       "      <td>81.0</td>\n",
       "      <td>85.0</td>\n",
       "      <td>E</td>\n",
       "      <td>0.01</td>\n",
       "    </tr>\n",
       "    <tr>\n",
       "      <th>977</th>\n",
       "      <td>Prison Architect</td>\n",
       "      <td>XOne</td>\n",
       "      <td>2016</td>\n",
       "      <td>Action</td>\n",
       "      <td>0.01</td>\n",
       "      <td>0.00</td>\n",
       "      <td>0.00</td>\n",
       "      <td>0.00</td>\n",
       "      <td>74.0</td>\n",
       "      <td>67.0</td>\n",
       "      <td>T</td>\n",
       "      <td>0.01</td>\n",
       "    </tr>\n",
       "    <tr>\n",
       "      <th>978</th>\n",
       "      <td>Metal Gear Solid V: Ground Zeroes</td>\n",
       "      <td>PC</td>\n",
       "      <td>2014</td>\n",
       "      <td>Action</td>\n",
       "      <td>0.00</td>\n",
       "      <td>0.01</td>\n",
       "      <td>0.00</td>\n",
       "      <td>0.00</td>\n",
       "      <td>80.0</td>\n",
       "      <td>76.0</td>\n",
       "      <td>M</td>\n",
       "      <td>0.01</td>\n",
       "    </tr>\n",
       "  </tbody>\n",
       "</table>\n",
       "<p>979 rows × 12 columns</p>\n",
       "</div>"
      ],
      "text/plain": [
       "                                  name platform  year_of_release    genre  \\\n",
       "0                   Grand Theft Auto V      PS3             2013   Action   \n",
       "1                   Grand Theft Auto V     X360             2013   Action   \n",
       "2                   Grand Theft Auto V      PS4             2014   Action   \n",
       "3                 Call of Duty: Ghosts     X360             2013  Shooter   \n",
       "4                 Call of Duty: Ghosts      PS3             2013  Shooter   \n",
       "..                                 ...      ...              ...      ...   \n",
       "974        Saints Row: Gat out of Hell     XOne             2015   Action   \n",
       "975           Sébastien Loeb Rally Evo     XOne             2016   Racing   \n",
       "976                   Fast Racing Neo      WiiU             2016   Action   \n",
       "977                   Prison Architect     XOne             2016   Action   \n",
       "978  Metal Gear Solid V: Ground Zeroes       PC             2014   Action   \n",
       "\n",
       "     na_sales  eu_sales  jp_sales  other_sales  critic_score  user_score  \\\n",
       "0        7.02      9.09      0.98         3.96          97.0        82.0   \n",
       "1        9.66      5.14      0.06         1.41          97.0        81.0   \n",
       "2        3.96      6.31      0.38         1.97          97.0        83.0   \n",
       "3        6.73      2.56      0.04         0.91          73.0        26.0   \n",
       "4        4.10      3.63      0.38         1.25          71.0        26.0   \n",
       "..        ...       ...       ...          ...           ...         ...   \n",
       "974      0.00      0.01      0.00         0.00          65.0        60.0   \n",
       "975      0.00      0.01      0.00         0.00          63.0        82.0   \n",
       "976      0.00      0.01      0.00         0.00          81.0        85.0   \n",
       "977      0.01      0.00      0.00         0.00          74.0        67.0   \n",
       "978      0.00      0.01      0.00         0.00          80.0        76.0   \n",
       "\n",
       "    rating  total_sales  \n",
       "0        M        21.05  \n",
       "1        M        16.27  \n",
       "2        M        12.62  \n",
       "3        M        10.24  \n",
       "4        M         9.36  \n",
       "..     ...          ...  \n",
       "974      M         0.01  \n",
       "975      E         0.01  \n",
       "976      E         0.01  \n",
       "977      T         0.01  \n",
       "978      M         0.01  \n",
       "\n",
       "[979 rows x 12 columns]"
      ]
     },
     "execution_count": 33,
     "metadata": {},
     "output_type": "execute_result"
    }
   ],
   "source": [
    "actual_data = fil_data.query('year_of_release >= 2013').reset_index()\n",
    "actual_data.drop(\"index\", axis = 1, inplace = True)\n",
    "actual_data"
   ]
  },
  {
   "cell_type": "markdown",
   "metadata": {},
   "source": [
    "***\n",
    "In terms of determining \"actual\" period what we should work with we can consider period 3-4 years. I've noticed that each platform has kind of most profitable period in their lifecycle from appearing in market and it takes usually 3-5 years. And, if we consider future campaign for 2017 this period at least should include this year"
   ]
  },
  {
   "cell_type": "markdown",
   "metadata": {},
   "source": [
    "*5. Which platforms are leading in sales? Which ones are growing or shrinking? Select several potentially profitable platforms.*    \n",
    "\n",
    "To do so let's plot heatmap:"
   ]
  },
  {
   "cell_type": "code",
   "execution_count": 34,
   "metadata": {},
   "outputs": [
    {
     "data": {
      "text/html": [
       "<div>\n",
       "<style scoped>\n",
       "    .dataframe tbody tr th:only-of-type {\n",
       "        vertical-align: middle;\n",
       "    }\n",
       "\n",
       "    .dataframe tbody tr th {\n",
       "        vertical-align: top;\n",
       "    }\n",
       "\n",
       "    .dataframe thead th {\n",
       "        text-align: right;\n",
       "    }\n",
       "</style>\n",
       "<table border=\"1\" class=\"dataframe\">\n",
       "  <thead>\n",
       "    <tr style=\"text-align: right;\">\n",
       "      <th>platform</th>\n",
       "      <th>3DS</th>\n",
       "      <th>PC</th>\n",
       "      <th>PS3</th>\n",
       "      <th>PS4</th>\n",
       "      <th>PSP</th>\n",
       "      <th>PSV</th>\n",
       "      <th>WiiU</th>\n",
       "      <th>X360</th>\n",
       "      <th>XOne</th>\n",
       "    </tr>\n",
       "    <tr>\n",
       "      <th>year_of_release</th>\n",
       "      <th></th>\n",
       "      <th></th>\n",
       "      <th></th>\n",
       "      <th></th>\n",
       "      <th></th>\n",
       "      <th></th>\n",
       "      <th></th>\n",
       "      <th></th>\n",
       "      <th></th>\n",
       "    </tr>\n",
       "  </thead>\n",
       "  <tbody>\n",
       "    <tr>\n",
       "      <th>2013</th>\n",
       "      <td>15.89</td>\n",
       "      <td>10.98</td>\n",
       "      <td>102.70</td>\n",
       "      <td>25.07</td>\n",
       "      <td>0.15</td>\n",
       "      <td>5.96</td>\n",
       "      <td>17.40</td>\n",
       "      <td>75.17</td>\n",
       "      <td>14.92</td>\n",
       "    </tr>\n",
       "    <tr>\n",
       "      <th>2014</th>\n",
       "      <td>11.49</td>\n",
       "      <td>11.79</td>\n",
       "      <td>11.34</td>\n",
       "      <td>80.95</td>\n",
       "      <td>0.00</td>\n",
       "      <td>5.27</td>\n",
       "      <td>15.22</td>\n",
       "      <td>10.10</td>\n",
       "      <td>47.01</td>\n",
       "    </tr>\n",
       "    <tr>\n",
       "      <th>2015</th>\n",
       "      <td>10.55</td>\n",
       "      <td>7.18</td>\n",
       "      <td>0.02</td>\n",
       "      <td>81.07</td>\n",
       "      <td>0.00</td>\n",
       "      <td>1.72</td>\n",
       "      <td>15.35</td>\n",
       "      <td>0.00</td>\n",
       "      <td>44.61</td>\n",
       "    </tr>\n",
       "    <tr>\n",
       "      <th>2016</th>\n",
       "      <td>2.17</td>\n",
       "      <td>4.89</td>\n",
       "      <td>0.00</td>\n",
       "      <td>57.35</td>\n",
       "      <td>0.00</td>\n",
       "      <td>0.93</td>\n",
       "      <td>3.26</td>\n",
       "      <td>0.00</td>\n",
       "      <td>23.70</td>\n",
       "    </tr>\n",
       "  </tbody>\n",
       "</table>\n",
       "</div>"
      ],
      "text/plain": [
       "platform           3DS     PC     PS3    PS4   PSP   PSV   WiiU   X360   XOne\n",
       "year_of_release                                                              \n",
       "2013             15.89  10.98  102.70  25.07  0.15  5.96  17.40  75.17  14.92\n",
       "2014             11.49  11.79   11.34  80.95  0.00  5.27  15.22  10.10  47.01\n",
       "2015             10.55   7.18    0.02  81.07  0.00  1.72  15.35   0.00  44.61\n",
       "2016              2.17   4.89    0.00  57.35  0.00  0.93   3.26   0.00  23.70"
      ]
     },
     "execution_count": 34,
     "metadata": {},
     "output_type": "execute_result"
    }
   ],
   "source": [
    "actual_data_sales = actual_data.pivot_table(index = 'year_of_release', \n",
    "                                            columns ='platform', \n",
    "                                            values ='total_sales', \n",
    "                                            aggfunc = 'sum').fillna(0)\n",
    "actual_data_sales"
   ]
  },
  {
   "cell_type": "code",
   "execution_count": 35,
   "metadata": {},
   "outputs": [
    {
     "data": {
      "text/html": [
       "<div>\n",
       "<style scoped>\n",
       "    .dataframe tbody tr th:only-of-type {\n",
       "        vertical-align: middle;\n",
       "    }\n",
       "\n",
       "    .dataframe tbody tr th {\n",
       "        vertical-align: top;\n",
       "    }\n",
       "\n",
       "    .dataframe thead th {\n",
       "        text-align: right;\n",
       "    }\n",
       "</style>\n",
       "<table border=\"1\" class=\"dataframe\">\n",
       "  <thead>\n",
       "    <tr style=\"text-align: right;\">\n",
       "      <th>year_of_release</th>\n",
       "      <th>2013</th>\n",
       "      <th>2014</th>\n",
       "      <th>2015</th>\n",
       "      <th>2016</th>\n",
       "    </tr>\n",
       "    <tr>\n",
       "      <th>platform</th>\n",
       "      <th></th>\n",
       "      <th></th>\n",
       "      <th></th>\n",
       "      <th></th>\n",
       "    </tr>\n",
       "  </thead>\n",
       "  <tbody>\n",
       "    <tr>\n",
       "      <th>3DS</th>\n",
       "      <td>0.0</td>\n",
       "      <td>-4.40</td>\n",
       "      <td>-0.94</td>\n",
       "      <td>-8.38</td>\n",
       "    </tr>\n",
       "    <tr>\n",
       "      <th>PC</th>\n",
       "      <td>0.0</td>\n",
       "      <td>0.81</td>\n",
       "      <td>-4.61</td>\n",
       "      <td>-2.29</td>\n",
       "    </tr>\n",
       "    <tr>\n",
       "      <th>PS3</th>\n",
       "      <td>0.0</td>\n",
       "      <td>-91.36</td>\n",
       "      <td>-11.32</td>\n",
       "      <td>-0.02</td>\n",
       "    </tr>\n",
       "    <tr>\n",
       "      <th>PS4</th>\n",
       "      <td>0.0</td>\n",
       "      <td>55.88</td>\n",
       "      <td>0.12</td>\n",
       "      <td>-23.72</td>\n",
       "    </tr>\n",
       "    <tr>\n",
       "      <th>PSP</th>\n",
       "      <td>0.0</td>\n",
       "      <td>-0.15</td>\n",
       "      <td>0.00</td>\n",
       "      <td>0.00</td>\n",
       "    </tr>\n",
       "    <tr>\n",
       "      <th>PSV</th>\n",
       "      <td>0.0</td>\n",
       "      <td>-0.69</td>\n",
       "      <td>-3.55</td>\n",
       "      <td>-0.79</td>\n",
       "    </tr>\n",
       "    <tr>\n",
       "      <th>WiiU</th>\n",
       "      <td>0.0</td>\n",
       "      <td>-2.18</td>\n",
       "      <td>0.13</td>\n",
       "      <td>-12.09</td>\n",
       "    </tr>\n",
       "    <tr>\n",
       "      <th>X360</th>\n",
       "      <td>0.0</td>\n",
       "      <td>-65.07</td>\n",
       "      <td>-10.10</td>\n",
       "      <td>0.00</td>\n",
       "    </tr>\n",
       "    <tr>\n",
       "      <th>XOne</th>\n",
       "      <td>0.0</td>\n",
       "      <td>32.09</td>\n",
       "      <td>-2.40</td>\n",
       "      <td>-20.91</td>\n",
       "    </tr>\n",
       "  </tbody>\n",
       "</table>\n",
       "</div>"
      ],
      "text/plain": [
       "year_of_release  2013   2014   2015   2016\n",
       "platform                                  \n",
       "3DS               0.0  -4.40  -0.94  -8.38\n",
       "PC                0.0   0.81  -4.61  -2.29\n",
       "PS3               0.0 -91.36 -11.32  -0.02\n",
       "PS4               0.0  55.88   0.12 -23.72\n",
       "PSP               0.0  -0.15   0.00   0.00\n",
       "PSV               0.0  -0.69  -3.55  -0.79\n",
       "WiiU              0.0  -2.18   0.13 -12.09\n",
       "X360              0.0 -65.07 -10.10   0.00\n",
       "XOne              0.0  32.09  -2.40 -20.91"
      ]
     },
     "execution_count": 35,
     "metadata": {},
     "output_type": "execute_result"
    }
   ],
   "source": [
    "change = (actual_data_sales - actual_data_sales.shift(+1)).fillna(0).T\n",
    "change"
   ]
  },
  {
   "cell_type": "code",
   "execution_count": 36,
   "metadata": {},
   "outputs": [
    {
     "data": {
      "image/png": "[encoded data removed]",
      "text/plain": [
       "<Figure size 936x576 with 2 Axes>"
      ]
     },
     "metadata": {
      "needs_background": "light"
     },
     "output_type": "display_data"
    }
   ],
   "source": [
    "plt.figure(figsize = (13,8));\n",
    "sns.heatmap(change, cmap = 'RdBu_r');\n",
    "plt.title('Heatmap of platform per sales');\n",
    "plt.xlabel('Year of release');\n",
    "plt.ylabel('Platform');"
   ]
  },
  {
   "cell_type": "markdown",
   "metadata": {},
   "source": [
    "So, we may assume that **\"PS4\"** and **\"XOne\"** might be potentially profitable platforms, regardless of decreasing sales in 2016. These platforms have obvious peak of sales in 2014, and according the data that we've obtained before, they may have \"success\" in future."
   ]
  },
  {
   "cell_type": "markdown",
   "metadata": {},
   "source": [
    "*6. Build a box plot for the global sales of all games, broken down by platform. Are the differences in sales significant? What about average sales on various platforms? Describe your findings.*"
   ]
  },
  {
   "cell_type": "code",
   "execution_count": 37,
   "metadata": {},
   "outputs": [
    {
     "data": {
      "text/html": [
       "<div>\n",
       "<style scoped>\n",
       "    .dataframe tbody tr th:only-of-type {\n",
       "        vertical-align: middle;\n",
       "    }\n",
       "\n",
       "    .dataframe tbody tr th {\n",
       "        vertical-align: top;\n",
       "    }\n",
       "\n",
       "    .dataframe thead th {\n",
       "        text-align: right;\n",
       "    }\n",
       "</style>\n",
       "<table border=\"1\" class=\"dataframe\">\n",
       "  <thead>\n",
       "    <tr style=\"text-align: right;\">\n",
       "      <th></th>\n",
       "      <th>platform</th>\n",
       "      <th>name</th>\n",
       "      <th>total_sales</th>\n",
       "    </tr>\n",
       "  </thead>\n",
       "  <tbody>\n",
       "    <tr>\n",
       "      <th>0</th>\n",
       "      <td>3DS</td>\n",
       "      <td>7th Dragon III Code: VFD</td>\n",
       "      <td>0.16</td>\n",
       "    </tr>\n",
       "    <tr>\n",
       "      <th>1</th>\n",
       "      <td>3DS</td>\n",
       "      <td>Adventure Time: The Secret of the Nameless Kin...</td>\n",
       "      <td>0.07</td>\n",
       "    </tr>\n",
       "    <tr>\n",
       "      <th>2</th>\n",
       "      <td>3DS</td>\n",
       "      <td>Animal Crossing: Happy Home Designer</td>\n",
       "      <td>3.05</td>\n",
       "    </tr>\n",
       "    <tr>\n",
       "      <th>3</th>\n",
       "      <td>3DS</td>\n",
       "      <td>Attack on Titan: Humanity in Chains</td>\n",
       "      <td>0.42</td>\n",
       "    </tr>\n",
       "    <tr>\n",
       "      <th>4</th>\n",
       "      <td>3DS</td>\n",
       "      <td>Azure Striker Gunvolt</td>\n",
       "      <td>0.01</td>\n",
       "    </tr>\n",
       "    <tr>\n",
       "      <th>...</th>\n",
       "      <td>...</td>\n",
       "      <td>...</td>\n",
       "      <td>...</td>\n",
       "    </tr>\n",
       "    <tr>\n",
       "      <th>974</th>\n",
       "      <td>XOne</td>\n",
       "      <td>Wolfenstein: The Old Blood</td>\n",
       "      <td>0.15</td>\n",
       "    </tr>\n",
       "    <tr>\n",
       "      <th>975</th>\n",
       "      <td>XOne</td>\n",
       "      <td>Worms: WMD</td>\n",
       "      <td>0.01</td>\n",
       "    </tr>\n",
       "    <tr>\n",
       "      <th>976</th>\n",
       "      <td>XOne</td>\n",
       "      <td>XCOM 2</td>\n",
       "      <td>0.04</td>\n",
       "    </tr>\n",
       "    <tr>\n",
       "      <th>977</th>\n",
       "      <td>XOne</td>\n",
       "      <td>Zombie Army Trilogy</td>\n",
       "      <td>0.11</td>\n",
       "    </tr>\n",
       "    <tr>\n",
       "      <th>978</th>\n",
       "      <td>XOne</td>\n",
       "      <td>Zumba Fitness: World Party</td>\n",
       "      <td>0.24</td>\n",
       "    </tr>\n",
       "  </tbody>\n",
       "</table>\n",
       "<p>979 rows × 3 columns</p>\n",
       "</div>"
      ],
      "text/plain": [
       "    platform                                               name  total_sales\n",
       "0        3DS                           7th Dragon III Code: VFD         0.16\n",
       "1        3DS  Adventure Time: The Secret of the Nameless Kin...         0.07\n",
       "2        3DS               Animal Crossing: Happy Home Designer         3.05\n",
       "3        3DS                Attack on Titan: Humanity in Chains         0.42\n",
       "4        3DS                              Azure Striker Gunvolt         0.01\n",
       "..       ...                                                ...          ...\n",
       "974     XOne                         Wolfenstein: The Old Blood         0.15\n",
       "975     XOne                                         Worms: WMD         0.01\n",
       "976     XOne                                             XCOM 2         0.04\n",
       "977     XOne                                Zombie Army Trilogy         0.11\n",
       "978     XOne                         Zumba Fitness: World Party         0.24\n",
       "\n",
       "[979 rows x 3 columns]"
      ]
     },
     "execution_count": 37,
     "metadata": {},
     "output_type": "execute_result"
    }
   ],
   "source": [
    "box_data = actual_data.groupby(['platform','name'])['total_sales'].sum().reset_index()\n",
    "box_data"
   ]
  },
  {
   "cell_type": "code",
   "execution_count": 38,
   "metadata": {},
   "outputs": [
    {
     "data": {
      "text/html": [
       "<div>\n",
       "<style scoped>\n",
       "    .dataframe tbody tr th:only-of-type {\n",
       "        vertical-align: middle;\n",
       "    }\n",
       "\n",
       "    .dataframe tbody tr th {\n",
       "        vertical-align: top;\n",
       "    }\n",
       "\n",
       "    .dataframe thead th {\n",
       "        text-align: right;\n",
       "    }\n",
       "</style>\n",
       "<table border=\"1\" class=\"dataframe\">\n",
       "  <thead>\n",
       "    <tr style=\"text-align: right;\">\n",
       "      <th></th>\n",
       "      <th>platform</th>\n",
       "      <th>total_sales</th>\n",
       "    </tr>\n",
       "  </thead>\n",
       "  <tbody>\n",
       "    <tr>\n",
       "      <th>0</th>\n",
       "      <td>PS4</td>\n",
       "      <td>244.44</td>\n",
       "    </tr>\n",
       "    <tr>\n",
       "      <th>1</th>\n",
       "      <td>XOne</td>\n",
       "      <td>130.24</td>\n",
       "    </tr>\n",
       "    <tr>\n",
       "      <th>2</th>\n",
       "      <td>PS3</td>\n",
       "      <td>114.06</td>\n",
       "    </tr>\n",
       "    <tr>\n",
       "      <th>3</th>\n",
       "      <td>X360</td>\n",
       "      <td>85.27</td>\n",
       "    </tr>\n",
       "    <tr>\n",
       "      <th>4</th>\n",
       "      <td>WiiU</td>\n",
       "      <td>51.23</td>\n",
       "    </tr>\n",
       "    <tr>\n",
       "      <th>5</th>\n",
       "      <td>3DS</td>\n",
       "      <td>40.10</td>\n",
       "    </tr>\n",
       "    <tr>\n",
       "      <th>6</th>\n",
       "      <td>PC</td>\n",
       "      <td>34.84</td>\n",
       "    </tr>\n",
       "    <tr>\n",
       "      <th>7</th>\n",
       "      <td>PSV</td>\n",
       "      <td>13.88</td>\n",
       "    </tr>\n",
       "    <tr>\n",
       "      <th>8</th>\n",
       "      <td>PSP</td>\n",
       "      <td>0.15</td>\n",
       "    </tr>\n",
       "  </tbody>\n",
       "</table>\n",
       "</div>"
      ],
      "text/plain": [
       "  platform  total_sales\n",
       "0      PS4       244.44\n",
       "1     XOne       130.24\n",
       "2      PS3       114.06\n",
       "3     X360        85.27\n",
       "4     WiiU        51.23\n",
       "5      3DS        40.10\n",
       "6       PC        34.84\n",
       "7      PSV        13.88\n",
       "8      PSP         0.15"
      ]
     },
     "execution_count": 38,
     "metadata": {},
     "output_type": "execute_result"
    }
   ],
   "source": [
    "order = actual_data[['platform','total_sales']].groupby('platform')['total_sales'].sum().sort_values(ascending = False).reset_index()\n",
    "order"
   ]
  },
  {
   "cell_type": "code",
   "execution_count": 39,
   "metadata": {},
   "outputs": [
    {
     "data": {
      "image/png": "[encoded data removed]",
      "text/plain": [
       "<Figure size 1080x864 with 1 Axes>"
      ]
     },
     "metadata": {
      "needs_background": "light"
     },
     "output_type": "display_data"
    }
   ],
   "source": [
    "plt.figure(figsize = (15, 12));\n",
    "sns.boxplot(x='platform', y='total_sales', data = box_data, showfliers=False, order = order.platform);\n",
    "plt.title('Dispersion of total sales by platforms');\n",
    "plt.xlabel('Platform');\n",
    "plt.ylabel('Values of overall sales');"
   ]
  },
  {
   "cell_type": "markdown",
   "metadata": {},
   "source": [
    "***\n",
    "Ok, as we see first two platform have almost the same results: **PS4 and XOne** have same distributions. First five platforms have 'medians' between 0.3 and 0.4 million USD.  "
   ]
  },
  {
   "cell_type": "markdown",
   "metadata": {},
   "source": [
    "*7. Take a look at how user and professional reviews affect sales for one popular platform (you choose). Build a scatter plot and calculate the correlation between reviews and sales. Draw conclusions.*"
   ]
  },
  {
   "cell_type": "markdown",
   "metadata": {},
   "source": [
    "First, we'll obtain required dataset:"
   ]
  },
  {
   "cell_type": "code",
   "execution_count": 40,
   "metadata": {},
   "outputs": [
    {
     "data": {
      "text/html": [
       "<div>\n",
       "<style scoped>\n",
       "    .dataframe tbody tr th:only-of-type {\n",
       "        vertical-align: middle;\n",
       "    }\n",
       "\n",
       "    .dataframe tbody tr th {\n",
       "        vertical-align: top;\n",
       "    }\n",
       "\n",
       "    .dataframe thead th {\n",
       "        text-align: right;\n",
       "    }\n",
       "</style>\n",
       "<table border=\"1\" class=\"dataframe\">\n",
       "  <thead>\n",
       "    <tr style=\"text-align: right;\">\n",
       "      <th></th>\n",
       "      <th>name</th>\n",
       "      <th>platform</th>\n",
       "      <th>year_of_release</th>\n",
       "      <th>genre</th>\n",
       "      <th>na_sales</th>\n",
       "      <th>eu_sales</th>\n",
       "      <th>jp_sales</th>\n",
       "      <th>other_sales</th>\n",
       "      <th>critic_score</th>\n",
       "      <th>user_score</th>\n",
       "      <th>rating</th>\n",
       "      <th>total_sales</th>\n",
       "    </tr>\n",
       "  </thead>\n",
       "  <tbody>\n",
       "    <tr>\n",
       "      <th>2</th>\n",
       "      <td>Grand Theft Auto V</td>\n",
       "      <td>PS4</td>\n",
       "      <td>2014</td>\n",
       "      <td>Action</td>\n",
       "      <td>3.96</td>\n",
       "      <td>6.31</td>\n",
       "      <td>0.38</td>\n",
       "      <td>1.97</td>\n",
       "      <td>97.0</td>\n",
       "      <td>83.0</td>\n",
       "      <td>M</td>\n",
       "      <td>12.62</td>\n",
       "    </tr>\n",
       "    <tr>\n",
       "      <th>5</th>\n",
       "      <td>FIFA 16</td>\n",
       "      <td>PS4</td>\n",
       "      <td>2015</td>\n",
       "      <td>Sports</td>\n",
       "      <td>1.12</td>\n",
       "      <td>6.12</td>\n",
       "      <td>0.06</td>\n",
       "      <td>1.28</td>\n",
       "      <td>82.0</td>\n",
       "      <td>43.0</td>\n",
       "      <td>E</td>\n",
       "      <td>8.58</td>\n",
       "    </tr>\n",
       "    <tr>\n",
       "      <th>6</th>\n",
       "      <td>Call of Duty: Advanced Warfare</td>\n",
       "      <td>PS4</td>\n",
       "      <td>2014</td>\n",
       "      <td>Shooter</td>\n",
       "      <td>2.81</td>\n",
       "      <td>3.48</td>\n",
       "      <td>0.14</td>\n",
       "      <td>1.23</td>\n",
       "      <td>83.0</td>\n",
       "      <td>57.0</td>\n",
       "      <td>M</td>\n",
       "      <td>7.66</td>\n",
       "    </tr>\n",
       "    <tr>\n",
       "      <th>7</th>\n",
       "      <td>FIFA 17</td>\n",
       "      <td>PS4</td>\n",
       "      <td>2016</td>\n",
       "      <td>Sports</td>\n",
       "      <td>0.66</td>\n",
       "      <td>5.75</td>\n",
       "      <td>0.08</td>\n",
       "      <td>1.11</td>\n",
       "      <td>85.0</td>\n",
       "      <td>50.0</td>\n",
       "      <td>E</td>\n",
       "      <td>7.60</td>\n",
       "    </tr>\n",
       "    <tr>\n",
       "      <th>8</th>\n",
       "      <td>Fallout 4</td>\n",
       "      <td>PS4</td>\n",
       "      <td>2015</td>\n",
       "      <td>Role-Playing</td>\n",
       "      <td>2.53</td>\n",
       "      <td>3.27</td>\n",
       "      <td>0.24</td>\n",
       "      <td>1.13</td>\n",
       "      <td>87.0</td>\n",
       "      <td>65.0</td>\n",
       "      <td>M</td>\n",
       "      <td>7.17</td>\n",
       "    </tr>\n",
       "    <tr>\n",
       "      <th>...</th>\n",
       "      <td>...</td>\n",
       "      <td>...</td>\n",
       "      <td>...</td>\n",
       "      <td>...</td>\n",
       "      <td>...</td>\n",
       "      <td>...</td>\n",
       "      <td>...</td>\n",
       "      <td>...</td>\n",
       "      <td>...</td>\n",
       "      <td>...</td>\n",
       "      <td>...</td>\n",
       "      <td>...</td>\n",
       "    </tr>\n",
       "    <tr>\n",
       "      <th>967</th>\n",
       "      <td>Super Dungeon Bros</td>\n",
       "      <td>PS4</td>\n",
       "      <td>2016</td>\n",
       "      <td>Action</td>\n",
       "      <td>0.01</td>\n",
       "      <td>0.00</td>\n",
       "      <td>0.00</td>\n",
       "      <td>0.00</td>\n",
       "      <td>42.0</td>\n",
       "      <td>23.0</td>\n",
       "      <td>E10+</td>\n",
       "      <td>0.01</td>\n",
       "    </tr>\n",
       "    <tr>\n",
       "      <th>968</th>\n",
       "      <td>Sherlock Holmes: The Devil's Daughter</td>\n",
       "      <td>PS4</td>\n",
       "      <td>2016</td>\n",
       "      <td>Adventure</td>\n",
       "      <td>0.01</td>\n",
       "      <td>0.00</td>\n",
       "      <td>0.00</td>\n",
       "      <td>0.00</td>\n",
       "      <td>70.0</td>\n",
       "      <td>68.0</td>\n",
       "      <td>T</td>\n",
       "      <td>0.01</td>\n",
       "    </tr>\n",
       "    <tr>\n",
       "      <th>969</th>\n",
       "      <td>Root Letter</td>\n",
       "      <td>PS4</td>\n",
       "      <td>2016</td>\n",
       "      <td>Adventure</td>\n",
       "      <td>0.00</td>\n",
       "      <td>0.00</td>\n",
       "      <td>0.01</td>\n",
       "      <td>0.00</td>\n",
       "      <td>69.0</td>\n",
       "      <td>75.0</td>\n",
       "      <td>M</td>\n",
       "      <td>0.01</td>\n",
       "    </tr>\n",
       "    <tr>\n",
       "      <th>972</th>\n",
       "      <td>Dungeons 2</td>\n",
       "      <td>PS4</td>\n",
       "      <td>2016</td>\n",
       "      <td>Role-Playing</td>\n",
       "      <td>0.01</td>\n",
       "      <td>0.00</td>\n",
       "      <td>0.00</td>\n",
       "      <td>0.00</td>\n",
       "      <td>61.0</td>\n",
       "      <td>79.0</td>\n",
       "      <td>T</td>\n",
       "      <td>0.01</td>\n",
       "    </tr>\n",
       "    <tr>\n",
       "      <th>973</th>\n",
       "      <td>Carmageddon: Max Damage</td>\n",
       "      <td>PS4</td>\n",
       "      <td>2016</td>\n",
       "      <td>Action</td>\n",
       "      <td>0.01</td>\n",
       "      <td>0.00</td>\n",
       "      <td>0.00</td>\n",
       "      <td>0.00</td>\n",
       "      <td>51.0</td>\n",
       "      <td>55.0</td>\n",
       "      <td>M</td>\n",
       "      <td>0.01</td>\n",
       "    </tr>\n",
       "  </tbody>\n",
       "</table>\n",
       "<p>250 rows × 12 columns</p>\n",
       "</div>"
      ],
      "text/plain": [
       "                                      name platform  year_of_release  \\\n",
       "2                       Grand Theft Auto V      PS4             2014   \n",
       "5                                  FIFA 16      PS4             2015   \n",
       "6           Call of Duty: Advanced Warfare      PS4             2014   \n",
       "7                                  FIFA 17      PS4             2016   \n",
       "8                                Fallout 4      PS4             2015   \n",
       "..                                     ...      ...              ...   \n",
       "967                     Super Dungeon Bros      PS4             2016   \n",
       "968  Sherlock Holmes: The Devil's Daughter      PS4             2016   \n",
       "969                            Root Letter      PS4             2016   \n",
       "972                             Dungeons 2      PS4             2016   \n",
       "973                Carmageddon: Max Damage      PS4             2016   \n",
       "\n",
       "            genre  na_sales  eu_sales  jp_sales  other_sales  critic_score  \\\n",
       "2          Action      3.96      6.31      0.38         1.97          97.0   \n",
       "5          Sports      1.12      6.12      0.06         1.28          82.0   \n",
       "6         Shooter      2.81      3.48      0.14         1.23          83.0   \n",
       "7          Sports      0.66      5.75      0.08         1.11          85.0   \n",
       "8    Role-Playing      2.53      3.27      0.24         1.13          87.0   \n",
       "..            ...       ...       ...       ...          ...           ...   \n",
       "967        Action      0.01      0.00      0.00         0.00          42.0   \n",
       "968     Adventure      0.01      0.00      0.00         0.00          70.0   \n",
       "969     Adventure      0.00      0.00      0.01         0.00          69.0   \n",
       "972  Role-Playing      0.01      0.00      0.00         0.00          61.0   \n",
       "973        Action      0.01      0.00      0.00         0.00          51.0   \n",
       "\n",
       "     user_score rating  total_sales  \n",
       "2          83.0      M        12.62  \n",
       "5          43.0      E         8.58  \n",
       "6          57.0      M         7.66  \n",
       "7          50.0      E         7.60  \n",
       "8          65.0      M         7.17  \n",
       "..          ...    ...          ...  \n",
       "967        23.0   E10+         0.01  \n",
       "968        68.0      T         0.01  \n",
       "969        75.0      M         0.01  \n",
       "972        79.0      T         0.01  \n",
       "973        55.0      M         0.01  \n",
       "\n",
       "[250 rows x 12 columns]"
      ]
     },
     "execution_count": 40,
     "metadata": {},
     "output_type": "execute_result"
    }
   ],
   "source": [
    "ps4 = actual_data.query('platform == \"PS4\"')\n",
    "ps4 "
   ]
  },
  {
   "cell_type": "code",
   "execution_count": 41,
   "metadata": {},
   "outputs": [
    {
     "data": {
      "text/plain": [
       "0.4064685741971657"
      ]
     },
     "execution_count": 41,
     "metadata": {},
     "output_type": "execute_result"
    },
    {
     "data": {
      "image/png": "[encoded data removed]",
      "text/plain": [
       "<Figure size 936x576 with 1 Axes>"
      ]
     },
     "metadata": {
      "needs_background": "light"
     },
     "output_type": "display_data"
    }
   ],
   "source": [
    "fig, ax = plt.subplots(figsize = (13, 8));\n",
    "ax = sns.scatterplot(data=ps4, x=\"critic_score\", y=\"total_sales\");\n",
    "plt.title('Dispersion of sales by critics ratings');\n",
    "plt.xlabel('Critics score');\n",
    "plt.ylabel('Overall sales');\n",
    "ps4['total_sales'].corr(ps4['critic_score'])"
   ]
  },
  {
   "cell_type": "code",
   "execution_count": 42,
   "metadata": {},
   "outputs": [
    {
     "data": {
      "text/plain": [
       "-0.03447809382351739"
      ]
     },
     "execution_count": 42,
     "metadata": {},
     "output_type": "execute_result"
    },
    {
     "data": {
      "image/png": "[encoded data removed]",
      "text/plain": [
       "<Figure size 936x576 with 1 Axes>"
      ]
     },
     "metadata": {
      "needs_background": "light"
     },
     "output_type": "display_data"
    }
   ],
   "source": [
    "fig, ax = plt.subplots(figsize = (13, 8));\n",
    "ax = sns.scatterplot(data=ps4, x=\"user_score\", y=\"total_sales\");\n",
    "plt.title('Dispersion of sales by users ratings');\n",
    "plt.xlabel('Users score');\n",
    "plt.ylabel('Overall sales');\n",
    "ps4['total_sales'].corr(ps4['user_score'])"
   ]
  },
  {
   "cell_type": "markdown",
   "metadata": {},
   "source": [
    "***\n",
    "Ok, for correlation between critics score and level of sales we obtain positive correlation coefficient, that means while critics leave the positive comments and estimates, the total sales achieve quite high level. But the dependency isn't strong, it looks like critic's ratings didn't have huge impact on sales.   \n",
    "In other hand, correlation between users score and level of sales has negative correlation coefficient, and dependence very weak that means, user scores almost don't have impact on sales, as well.   "
   ]
  },
  {
   "cell_type": "markdown",
   "metadata": {},
   "source": [
    "*8. Keeping your conclusions in mind, compare the sales of the same games on other platforms.*"
   ]
  },
  {
   "cell_type": "markdown",
   "metadata": {},
   "source": [
    "Ok, let's get datasets... "
   ]
  },
  {
   "cell_type": "code",
   "execution_count": 43,
   "metadata": {},
   "outputs": [],
   "source": [
    "x360 = actual_data.query('platform == \"X360\"')\n",
    "ps3 = actual_data.query('platform == \"PS3\"')\n",
    "xone = actual_data.query('platform == \"XOne\"')"
   ]
  },
  {
   "cell_type": "markdown",
   "metadata": {},
   "source": [
    ".. And write small function..  "
   ]
  },
  {
   "cell_type": "code",
   "execution_count": 44,
   "metadata": {},
   "outputs": [],
   "source": [
    "def build_cor(plat):\n",
    "    fig, ax = plt.subplots(figsize = (13, 8));\n",
    "    ax = sns.scatterplot(data=plat, x=\"critic_score\", y='total_sales');\n",
    "    plt.title('Dispersion of sales by critics ratings');\n",
    "    plt.xlabel('Critics score');\n",
    "    plt.ylabel('Overall sales');\n",
    "    print(\"Correlation sales/critics score:\", plat.total_sales.corr(plat.critic_score))\n",
    "    \n",
    "    fig, ax = plt.subplots(figsize = (13, 8));\n",
    "    ax = sns.scatterplot(data=plat, x=\"user_score\", y='total_sales');\n",
    "    plt.title('Dispersion of sales by users ratings');\n",
    "    plt.xlabel('Users score');\n",
    "    plt.ylabel('Overall sales');\n",
    "    print(\"Correlation sales/users score:\", plat['total_sales'].corr(plat['user_score']))"
   ]
  },
  {
   "cell_type": "markdown",
   "metadata": {},
   "source": [
    "... And after call function for each dataset:"
   ]
  },
  {
   "cell_type": "code",
   "execution_count": 45,
   "metadata": {},
   "outputs": [
    {
     "name": "stdout",
     "output_type": "stream",
     "text": [
      "Correlation sales/critics score: 0.3503445460228664\n",
      "Correlation sales/users score: -0.006238179532306257\n"
     ]
    },
    {
     "data": {
      "image/png": "[encoded data removed]",
      "text/plain": [
       "<Figure size 936x576 with 1 Axes>"
      ]
     },
     "metadata": {
      "needs_background": "light"
     },
     "output_type": "display_data"
    },
    {
     "data": {
      "image/png": "[encoded data removed]",
      "text/plain": [
       "<Figure size 936x576 with 1 Axes>"
      ]
     },
     "metadata": {
      "needs_background": "light"
     },
     "output_type": "display_data"
    }
   ],
   "source": [
    "build_cor(x360)"
   ]
  },
  {
   "cell_type": "code",
   "execution_count": 46,
   "metadata": {},
   "outputs": [
    {
     "name": "stdout",
     "output_type": "stream",
     "text": [
      "Correlation sales/critics score: 0.3338066356506173\n",
      "Correlation sales/users score: 0.02269094327112415\n"
     ]
    },
    {
     "data": {
      "image/png": "[encoded data removed]",
      "text/plain": [
       "<Figure size 936x576 with 1 Axes>"
      ]
     },
     "metadata": {
      "needs_background": "light"
     },
     "output_type": "display_data"
    },
    {
     "data": {
      "image/png": "[encoded data removed]",
      "text/plain": [
       "<Figure size 936x576 with 1 Axes>"
      ]
     },
     "metadata": {
      "needs_background": "light"
     },
     "output_type": "display_data"
    }
   ],
   "source": [
    "build_cor(ps3)"
   ]
  },
  {
   "cell_type": "code",
   "execution_count": 47,
   "metadata": {},
   "outputs": [
    {
     "name": "stdout",
     "output_type": "stream",
     "text": [
      "Correlation sales/critics score: 0.41215586820316974\n",
      "Correlation sales/users score: -0.09656918068672911\n"
     ]
    },
    {
     "data": {
      "image/png": "[encoded data removed]",
      "text/plain": [
       "<Figure size 936x576 with 1 Axes>"
      ]
     },
     "metadata": {
      "needs_background": "light"
     },
     "output_type": "display_data"
    },
    {
     "data": {
      "image/png": "[encoded data removed]",
      "text/plain": [
       "<Figure size 936x576 with 1 Axes>"
      ]
     },
     "metadata": {
      "needs_background": "light"
     },
     "output_type": "display_data"
    }
   ],
   "source": [
    "build_cor(xone)"
   ]
  },
  {
   "cell_type": "markdown",
   "metadata": {},
   "source": [
    "OK, we obtain following results:\n",
    "\n",
    "| Platform | Correlation sales/critics score | Correlation sales/users score: |\n",
    "|----------|---------------------------------|--------------------------------|\n",
    "| X360     | 0.3364904547521794              | 0.052764910890861716           |\n",
    "| PS3      | 0.4064685741971657              | -0.03447809382351739           |\n",
    "| XOne     | 0.41215586820316974             | -0.09656918068672911           |\n",
    "\n",
    "***\n",
    "We can say that from platform-to-platform correlation coefficient between sales and critic scores still stay positive, but several platforms have stronger dependence and other ones weaker. In other hand correlation coefficient between sales and user's ratings are changing from positive to negative and varied more in terms of dependence. "
   ]
  },
  {
   "cell_type": "markdown",
   "metadata": {},
   "source": [
    "*9. Take a look at the general distribution of games by genre. What can we say about the most profitable genres? Can you generalize about genres with high and low sales?*"
   ]
  },
  {
   "cell_type": "markdown",
   "metadata": {},
   "source": [
    "Let's get the general dataset in terms of number of games and their overall sales:"
   ]
  },
  {
   "cell_type": "code",
   "execution_count": 48,
   "metadata": {},
   "outputs": [
    {
     "data": {
      "text/html": [
       "<div>\n",
       "<style scoped>\n",
       "    .dataframe tbody tr th:only-of-type {\n",
       "        vertical-align: middle;\n",
       "    }\n",
       "\n",
       "    .dataframe tbody tr th {\n",
       "        vertical-align: top;\n",
       "    }\n",
       "\n",
       "    .dataframe thead th {\n",
       "        text-align: right;\n",
       "    }\n",
       "</style>\n",
       "<table border=\"1\" class=\"dataframe\">\n",
       "  <thead>\n",
       "    <tr style=\"text-align: right;\">\n",
       "      <th></th>\n",
       "      <th>genre</th>\n",
       "      <th>total_sales</th>\n",
       "    </tr>\n",
       "  </thead>\n",
       "  <tbody>\n",
       "    <tr>\n",
       "      <th>5</th>\n",
       "      <td>Puzzle</td>\n",
       "      <td>2.24</td>\n",
       "    </tr>\n",
       "    <tr>\n",
       "      <th>11</th>\n",
       "      <td>Strategy</td>\n",
       "      <td>7.49</td>\n",
       "    </tr>\n",
       "    <tr>\n",
       "      <th>1</th>\n",
       "      <td>Adventure</td>\n",
       "      <td>10.03</td>\n",
       "    </tr>\n",
       "    <tr>\n",
       "      <th>9</th>\n",
       "      <td>Simulation</td>\n",
       "      <td>12.07</td>\n",
       "    </tr>\n",
       "    <tr>\n",
       "      <th>2</th>\n",
       "      <td>Fighting</td>\n",
       "      <td>17.79</td>\n",
       "    </tr>\n",
       "    <tr>\n",
       "      <th>3</th>\n",
       "      <td>Misc</td>\n",
       "      <td>19.39</td>\n",
       "    </tr>\n",
       "    <tr>\n",
       "      <th>4</th>\n",
       "      <td>Platform</td>\n",
       "      <td>31.98</td>\n",
       "    </tr>\n",
       "    <tr>\n",
       "      <th>6</th>\n",
       "      <td>Racing</td>\n",
       "      <td>34.29</td>\n",
       "    </tr>\n",
       "    <tr>\n",
       "      <th>7</th>\n",
       "      <td>Role-Playing</td>\n",
       "      <td>61.21</td>\n",
       "    </tr>\n",
       "    <tr>\n",
       "      <th>10</th>\n",
       "      <td>Sports</td>\n",
       "      <td>115.06</td>\n",
       "    </tr>\n",
       "    <tr>\n",
       "      <th>8</th>\n",
       "      <td>Shooter</td>\n",
       "      <td>170.99</td>\n",
       "    </tr>\n",
       "    <tr>\n",
       "      <th>0</th>\n",
       "      <td>Action</td>\n",
       "      <td>231.67</td>\n",
       "    </tr>\n",
       "  </tbody>\n",
       "</table>\n",
       "</div>"
      ],
      "text/plain": [
       "           genre  total_sales\n",
       "5         Puzzle         2.24\n",
       "11      Strategy         7.49\n",
       "1      Adventure        10.03\n",
       "9     Simulation        12.07\n",
       "2       Fighting        17.79\n",
       "3           Misc        19.39\n",
       "4       Platform        31.98\n",
       "6         Racing        34.29\n",
       "7   Role-Playing        61.21\n",
       "10        Sports       115.06\n",
       "8        Shooter       170.99\n",
       "0         Action       231.67"
      ]
     },
     "execution_count": 48,
     "metadata": {},
     "output_type": "execute_result"
    }
   ],
   "source": [
    "sales_by_genre = actual_data.pivot_table(index = 'genre', \n",
    "                                         values ='total_sales', \n",
    "                                         aggfunc = 'sum').reset_index().sort_values(by='total_sales')\n",
    "sales_by_genre"
   ]
  },
  {
   "cell_type": "code",
   "execution_count": 49,
   "metadata": {},
   "outputs": [
    {
     "data": {
      "text/html": [
       "<div>\n",
       "<style scoped>\n",
       "    .dataframe tbody tr th:only-of-type {\n",
       "        vertical-align: middle;\n",
       "    }\n",
       "\n",
       "    .dataframe tbody tr th {\n",
       "        vertical-align: top;\n",
       "    }\n",
       "\n",
       "    .dataframe thead th {\n",
       "        text-align: right;\n",
       "    }\n",
       "</style>\n",
       "<table border=\"1\" class=\"dataframe\">\n",
       "  <thead>\n",
       "    <tr style=\"text-align: right;\">\n",
       "      <th></th>\n",
       "      <th>genre</th>\n",
       "      <th>total_sales</th>\n",
       "    </tr>\n",
       "  </thead>\n",
       "  <tbody>\n",
       "    <tr>\n",
       "      <th>1</th>\n",
       "      <td>Adventure</td>\n",
       "      <td>0.218043</td>\n",
       "    </tr>\n",
       "    <tr>\n",
       "      <th>11</th>\n",
       "      <td>Strategy</td>\n",
       "      <td>0.288077</td>\n",
       "    </tr>\n",
       "    <tr>\n",
       "      <th>5</th>\n",
       "      <td>Puzzle</td>\n",
       "      <td>0.320000</td>\n",
       "    </tr>\n",
       "    <tr>\n",
       "      <th>2</th>\n",
       "      <td>Fighting</td>\n",
       "      <td>0.423571</td>\n",
       "    </tr>\n",
       "    <tr>\n",
       "      <th>3</th>\n",
       "      <td>Misc</td>\n",
       "      <td>0.461667</td>\n",
       "    </tr>\n",
       "    <tr>\n",
       "      <th>9</th>\n",
       "      <td>Simulation</td>\n",
       "      <td>0.464231</td>\n",
       "    </tr>\n",
       "    <tr>\n",
       "      <th>7</th>\n",
       "      <td>Role-Playing</td>\n",
       "      <td>0.481969</td>\n",
       "    </tr>\n",
       "    <tr>\n",
       "      <th>6</th>\n",
       "      <td>Racing</td>\n",
       "      <td>0.562131</td>\n",
       "    </tr>\n",
       "    <tr>\n",
       "      <th>4</th>\n",
       "      <td>Platform</td>\n",
       "      <td>0.639600</td>\n",
       "    </tr>\n",
       "    <tr>\n",
       "      <th>0</th>\n",
       "      <td>Action</td>\n",
       "      <td>0.747323</td>\n",
       "    </tr>\n",
       "    <tr>\n",
       "      <th>10</th>\n",
       "      <td>Sports</td>\n",
       "      <td>1.046000</td>\n",
       "    </tr>\n",
       "    <tr>\n",
       "      <th>8</th>\n",
       "      <td>Shooter</td>\n",
       "      <td>1.295379</td>\n",
       "    </tr>\n",
       "  </tbody>\n",
       "</table>\n",
       "</div>"
      ],
      "text/plain": [
       "           genre  total_sales\n",
       "1      Adventure     0.218043\n",
       "11      Strategy     0.288077\n",
       "5         Puzzle     0.320000\n",
       "2       Fighting     0.423571\n",
       "3           Misc     0.461667\n",
       "9     Simulation     0.464231\n",
       "7   Role-Playing     0.481969\n",
       "6         Racing     0.562131\n",
       "4       Platform     0.639600\n",
       "0         Action     0.747323\n",
       "10        Sports     1.046000\n",
       "8        Shooter     1.295379"
      ]
     },
     "execution_count": 49,
     "metadata": {},
     "output_type": "execute_result"
    }
   ],
   "source": [
    "avr_sales_by_genre = actual_data.pivot_table(index = 'genre', \n",
    "                                         values ='total_sales', \n",
    "                                         aggfunc = 'mean').reset_index().sort_values(by='total_sales')\n",
    "avr_sales_by_genre"
   ]
  },
  {
   "cell_type": "code",
   "execution_count": 50,
   "metadata": {},
   "outputs": [
    {
     "data": {
      "text/html": [
       "<div>\n",
       "<style scoped>\n",
       "    .dataframe tbody tr th:only-of-type {\n",
       "        vertical-align: middle;\n",
       "    }\n",
       "\n",
       "    .dataframe tbody tr th {\n",
       "        vertical-align: top;\n",
       "    }\n",
       "\n",
       "    .dataframe thead th {\n",
       "        text-align: right;\n",
       "    }\n",
       "</style>\n",
       "<table border=\"1\" class=\"dataframe\">\n",
       "  <thead>\n",
       "    <tr style=\"text-align: right;\">\n",
       "      <th></th>\n",
       "      <th>genre</th>\n",
       "      <th>name</th>\n",
       "    </tr>\n",
       "  </thead>\n",
       "  <tbody>\n",
       "    <tr>\n",
       "      <th>5</th>\n",
       "      <td>Puzzle</td>\n",
       "      <td>7</td>\n",
       "    </tr>\n",
       "    <tr>\n",
       "      <th>9</th>\n",
       "      <td>Simulation</td>\n",
       "      <td>26</td>\n",
       "    </tr>\n",
       "    <tr>\n",
       "      <th>11</th>\n",
       "      <td>Strategy</td>\n",
       "      <td>26</td>\n",
       "    </tr>\n",
       "    <tr>\n",
       "      <th>2</th>\n",
       "      <td>Fighting</td>\n",
       "      <td>42</td>\n",
       "    </tr>\n",
       "    <tr>\n",
       "      <th>3</th>\n",
       "      <td>Misc</td>\n",
       "      <td>42</td>\n",
       "    </tr>\n",
       "    <tr>\n",
       "      <th>1</th>\n",
       "      <td>Adventure</td>\n",
       "      <td>46</td>\n",
       "    </tr>\n",
       "    <tr>\n",
       "      <th>4</th>\n",
       "      <td>Platform</td>\n",
       "      <td>50</td>\n",
       "    </tr>\n",
       "    <tr>\n",
       "      <th>6</th>\n",
       "      <td>Racing</td>\n",
       "      <td>61</td>\n",
       "    </tr>\n",
       "    <tr>\n",
       "      <th>10</th>\n",
       "      <td>Sports</td>\n",
       "      <td>110</td>\n",
       "    </tr>\n",
       "    <tr>\n",
       "      <th>7</th>\n",
       "      <td>Role-Playing</td>\n",
       "      <td>127</td>\n",
       "    </tr>\n",
       "    <tr>\n",
       "      <th>8</th>\n",
       "      <td>Shooter</td>\n",
       "      <td>132</td>\n",
       "    </tr>\n",
       "    <tr>\n",
       "      <th>0</th>\n",
       "      <td>Action</td>\n",
       "      <td>310</td>\n",
       "    </tr>\n",
       "  </tbody>\n",
       "</table>\n",
       "</div>"
      ],
      "text/plain": [
       "           genre  name\n",
       "5         Puzzle     7\n",
       "9     Simulation    26\n",
       "11      Strategy    26\n",
       "2       Fighting    42\n",
       "3           Misc    42\n",
       "1      Adventure    46\n",
       "4       Platform    50\n",
       "6         Racing    61\n",
       "10        Sports   110\n",
       "7   Role-Playing   127\n",
       "8        Shooter   132\n",
       "0         Action   310"
      ]
     },
     "execution_count": 50,
     "metadata": {},
     "output_type": "execute_result"
    }
   ],
   "source": [
    "games_by_genre = actual_data.pivot_table(index = 'genre', \n",
    "                                         values ='name', \n",
    "                                         aggfunc = 'count').reset_index().sort_values(by='name')\n",
    "games_by_genre"
   ]
  },
  {
   "cell_type": "code",
   "execution_count": 51,
   "metadata": {},
   "outputs": [
    {
     "data": {
      "text/html": [
       "<div>\n",
       "<style scoped>\n",
       "    .dataframe tbody tr th:only-of-type {\n",
       "        vertical-align: middle;\n",
       "    }\n",
       "\n",
       "    .dataframe tbody tr th {\n",
       "        vertical-align: top;\n",
       "    }\n",
       "\n",
       "    .dataframe thead th {\n",
       "        text-align: right;\n",
       "    }\n",
       "</style>\n",
       "<table border=\"1\" class=\"dataframe\">\n",
       "  <thead>\n",
       "    <tr style=\"text-align: right;\">\n",
       "      <th></th>\n",
       "      <th>genre</th>\n",
       "      <th>total_sales</th>\n",
       "      <th>name</th>\n",
       "    </tr>\n",
       "  </thead>\n",
       "  <tbody>\n",
       "    <tr>\n",
       "      <th>0</th>\n",
       "      <td>Puzzle</td>\n",
       "      <td>2.24</td>\n",
       "      <td>7</td>\n",
       "    </tr>\n",
       "    <tr>\n",
       "      <th>1</th>\n",
       "      <td>Strategy</td>\n",
       "      <td>7.49</td>\n",
       "      <td>26</td>\n",
       "    </tr>\n",
       "    <tr>\n",
       "      <th>2</th>\n",
       "      <td>Adventure</td>\n",
       "      <td>10.03</td>\n",
       "      <td>46</td>\n",
       "    </tr>\n",
       "    <tr>\n",
       "      <th>3</th>\n",
       "      <td>Simulation</td>\n",
       "      <td>12.07</td>\n",
       "      <td>26</td>\n",
       "    </tr>\n",
       "    <tr>\n",
       "      <th>4</th>\n",
       "      <td>Fighting</td>\n",
       "      <td>17.79</td>\n",
       "      <td>42</td>\n",
       "    </tr>\n",
       "    <tr>\n",
       "      <th>5</th>\n",
       "      <td>Misc</td>\n",
       "      <td>19.39</td>\n",
       "      <td>42</td>\n",
       "    </tr>\n",
       "    <tr>\n",
       "      <th>6</th>\n",
       "      <td>Platform</td>\n",
       "      <td>31.98</td>\n",
       "      <td>50</td>\n",
       "    </tr>\n",
       "    <tr>\n",
       "      <th>7</th>\n",
       "      <td>Racing</td>\n",
       "      <td>34.29</td>\n",
       "      <td>61</td>\n",
       "    </tr>\n",
       "    <tr>\n",
       "      <th>8</th>\n",
       "      <td>Role-Playing</td>\n",
       "      <td>61.21</td>\n",
       "      <td>127</td>\n",
       "    </tr>\n",
       "    <tr>\n",
       "      <th>9</th>\n",
       "      <td>Sports</td>\n",
       "      <td>115.06</td>\n",
       "      <td>110</td>\n",
       "    </tr>\n",
       "    <tr>\n",
       "      <th>10</th>\n",
       "      <td>Shooter</td>\n",
       "      <td>170.99</td>\n",
       "      <td>132</td>\n",
       "    </tr>\n",
       "    <tr>\n",
       "      <th>11</th>\n",
       "      <td>Action</td>\n",
       "      <td>231.67</td>\n",
       "      <td>310</td>\n",
       "    </tr>\n",
       "  </tbody>\n",
       "</table>\n",
       "</div>"
      ],
      "text/plain": [
       "           genre  total_sales  name\n",
       "0         Puzzle         2.24     7\n",
       "1       Strategy         7.49    26\n",
       "2      Adventure        10.03    46\n",
       "3     Simulation        12.07    26\n",
       "4       Fighting        17.79    42\n",
       "5           Misc        19.39    42\n",
       "6       Platform        31.98    50\n",
       "7         Racing        34.29    61\n",
       "8   Role-Playing        61.21   127\n",
       "9         Sports       115.06   110\n",
       "10       Shooter       170.99   132\n",
       "11        Action       231.67   310"
      ]
     },
     "execution_count": 51,
     "metadata": {},
     "output_type": "execute_result"
    }
   ],
   "source": [
    "by_genre = pd.merge(left = sales_by_genre, right = games_by_genre, how='inner',on='genre')\n",
    "by_genre"
   ]
  },
  {
   "cell_type": "code",
   "execution_count": 52,
   "metadata": {},
   "outputs": [
    {
     "data": {
      "image/png": "[encoded data removed]",
      "text/plain": [
       "<Figure size 936x576 with 1 Axes>"
      ]
     },
     "metadata": {
      "needs_background": "light"
     },
     "output_type": "display_data"
    }
   ],
   "source": [
    "by_genre.plot(x = 'genre', y = 'name', kind = 'bar', grid = True, figsize =(13, 8));\n",
    "plt.title('Number video games per genre');\n",
    "plt.xlabel('Genre');\n",
    "plt.ylabel('Number of games');"
   ]
  },
  {
   "cell_type": "code",
   "execution_count": 53,
   "metadata": {},
   "outputs": [
    {
     "data": {
      "image/png": "[encoded data removed]",
      "text/plain": [
       "<Figure size 936x576 with 1 Axes>"
      ]
     },
     "metadata": {
      "needs_background": "light"
     },
     "output_type": "display_data"
    }
   ],
   "source": [
    "by_genre.plot(x = 'genre', y = 'total_sales', kind = 'bar', grid = True, figsize =(13, 8));\n",
    "plt.title('Sales of video games by genre');\n",
    "plt.xlabel('Genre');\n",
    "plt.ylabel('Total sales');"
   ]
  },
  {
   "cell_type": "code",
   "execution_count": 54,
   "metadata": {},
   "outputs": [
    {
     "data": {
      "image/png": "[encoded data removed]",
      "text/plain": [
       "<Figure size 936x576 with 1 Axes>"
      ]
     },
     "metadata": {
      "needs_background": "light"
     },
     "output_type": "display_data"
    }
   ],
   "source": [
    "avr_sales_by_genre.plot(x = 'genre', y = 'total_sales', kind = 'bar', grid = True, figsize =(13, 8));\n",
    "plt.title('Average sales of video games by genre');\n",
    "plt.xlabel('Genre');\n",
    "plt.ylabel('Mean sales');"
   ]
  },
  {
   "cell_type": "markdown",
   "metadata": {},
   "source": [
    "***\n",
    "As we see the same genres are distribute respectively: **\"Action\"** has highest number of games and they get the highest level of revenue. The same picture for other type of genres. But if we consider average sales for each genre we will obtain another leader - **\"Shooters\" and \"Sports\"** take first places.    "
   ]
  },
  {
   "cell_type": "markdown",
   "metadata": {},
   "source": [
    "### Step 4. Create a user profile for each region"
   ]
  },
  {
   "cell_type": "markdown",
   "metadata": {},
   "source": [
    "For each region (NA, EU, JP), determine:"
   ]
  },
  {
   "cell_type": "markdown",
   "metadata": {},
   "source": [
    "The top five platforms are"
   ]
  },
  {
   "cell_type": "code",
   "execution_count": 55,
   "metadata": {},
   "outputs": [
    {
     "data": {
      "text/html": [
       "<div>\n",
       "<style scoped>\n",
       "    .dataframe tbody tr th:only-of-type {\n",
       "        vertical-align: middle;\n",
       "    }\n",
       "\n",
       "    .dataframe tbody tr th {\n",
       "        vertical-align: top;\n",
       "    }\n",
       "\n",
       "    .dataframe thead th {\n",
       "        text-align: right;\n",
       "    }\n",
       "</style>\n",
       "<table border=\"1\" class=\"dataframe\">\n",
       "  <thead>\n",
       "    <tr style=\"text-align: right;\">\n",
       "      <th></th>\n",
       "      <th>platform</th>\n",
       "      <th>na_sales</th>\n",
       "    </tr>\n",
       "  </thead>\n",
       "  <tbody>\n",
       "    <tr>\n",
       "      <th>3</th>\n",
       "      <td>PS4</td>\n",
       "      <td>84.46</td>\n",
       "    </tr>\n",
       "    <tr>\n",
       "      <th>8</th>\n",
       "      <td>XOne</td>\n",
       "      <td>76.03</td>\n",
       "    </tr>\n",
       "    <tr>\n",
       "      <th>7</th>\n",
       "      <td>X360</td>\n",
       "      <td>50.85</td>\n",
       "    </tr>\n",
       "    <tr>\n",
       "      <th>2</th>\n",
       "      <td>PS3</td>\n",
       "      <td>42.13</td>\n",
       "    </tr>\n",
       "    <tr>\n",
       "      <th>6</th>\n",
       "      <td>WiiU</td>\n",
       "      <td>23.04</td>\n",
       "    </tr>\n",
       "  </tbody>\n",
       "</table>\n",
       "</div>"
      ],
      "text/plain": [
       "  platform  na_sales\n",
       "3      PS4     84.46\n",
       "8     XOne     76.03\n",
       "7     X360     50.85\n",
       "2      PS3     42.13\n",
       "6     WiiU     23.04"
      ]
     },
     "execution_count": 55,
     "metadata": {},
     "output_type": "execute_result"
    }
   ],
   "source": [
    "na_platform = actual_data.groupby('platform')['na_sales'].sum().reset_index().sort_values(by='na_sales', \n",
    "                                                                                          ascending = False).head()\n",
    "na_platform"
   ]
  },
  {
   "cell_type": "code",
   "execution_count": 56,
   "metadata": {},
   "outputs": [
    {
     "data": {
      "text/html": [
       "<div>\n",
       "<style scoped>\n",
       "    .dataframe tbody tr th:only-of-type {\n",
       "        vertical-align: middle;\n",
       "    }\n",
       "\n",
       "    .dataframe tbody tr th {\n",
       "        vertical-align: top;\n",
       "    }\n",
       "\n",
       "    .dataframe thead th {\n",
       "        text-align: right;\n",
       "    }\n",
       "</style>\n",
       "<table border=\"1\" class=\"dataframe\">\n",
       "  <thead>\n",
       "    <tr style=\"text-align: right;\">\n",
       "      <th></th>\n",
       "      <th>platform</th>\n",
       "      <th>eu_sales</th>\n",
       "    </tr>\n",
       "  </thead>\n",
       "  <tbody>\n",
       "    <tr>\n",
       "      <th>3</th>\n",
       "      <td>PS4</td>\n",
       "      <td>112.56</td>\n",
       "    </tr>\n",
       "    <tr>\n",
       "      <th>2</th>\n",
       "      <td>PS3</td>\n",
       "      <td>43.29</td>\n",
       "    </tr>\n",
       "    <tr>\n",
       "      <th>8</th>\n",
       "      <td>XOne</td>\n",
       "      <td>42.26</td>\n",
       "    </tr>\n",
       "    <tr>\n",
       "      <th>7</th>\n",
       "      <td>X360</td>\n",
       "      <td>26.54</td>\n",
       "    </tr>\n",
       "    <tr>\n",
       "      <th>1</th>\n",
       "      <td>PC</td>\n",
       "      <td>21.98</td>\n",
       "    </tr>\n",
       "  </tbody>\n",
       "</table>\n",
       "</div>"
      ],
      "text/plain": [
       "  platform  eu_sales\n",
       "3      PS4    112.56\n",
       "2      PS3     43.29\n",
       "8     XOne     42.26\n",
       "7     X360     26.54\n",
       "1       PC     21.98"
      ]
     },
     "execution_count": 56,
     "metadata": {},
     "output_type": "execute_result"
    }
   ],
   "source": [
    "eu_platform = actual_data.groupby('platform')['eu_sales'].sum().reset_index().sort_values(by='eu_sales', \n",
    "                                                                                          ascending = False).head()\n",
    "eu_platform"
   ]
  },
  {
   "cell_type": "code",
   "execution_count": 57,
   "metadata": {},
   "outputs": [
    {
     "data": {
      "text/html": [
       "<div>\n",
       "<style scoped>\n",
       "    .dataframe tbody tr th:only-of-type {\n",
       "        vertical-align: middle;\n",
       "    }\n",
       "\n",
       "    .dataframe tbody tr th {\n",
       "        vertical-align: top;\n",
       "    }\n",
       "\n",
       "    .dataframe thead th {\n",
       "        text-align: right;\n",
       "    }\n",
       "</style>\n",
       "<table border=\"1\" class=\"dataframe\">\n",
       "  <thead>\n",
       "    <tr style=\"text-align: right;\">\n",
       "      <th></th>\n",
       "      <th>platform</th>\n",
       "      <th>jp_sales</th>\n",
       "    </tr>\n",
       "  </thead>\n",
       "  <tbody>\n",
       "    <tr>\n",
       "      <th>0</th>\n",
       "      <td>3DS</td>\n",
       "      <td>14.16</td>\n",
       "    </tr>\n",
       "    <tr>\n",
       "      <th>2</th>\n",
       "      <td>PS3</td>\n",
       "      <td>10.99</td>\n",
       "    </tr>\n",
       "    <tr>\n",
       "      <th>3</th>\n",
       "      <td>PS4</td>\n",
       "      <td>9.46</td>\n",
       "    </tr>\n",
       "    <tr>\n",
       "      <th>6</th>\n",
       "      <td>WiiU</td>\n",
       "      <td>8.36</td>\n",
       "    </tr>\n",
       "    <tr>\n",
       "      <th>5</th>\n",
       "      <td>PSV</td>\n",
       "      <td>5.71</td>\n",
       "    </tr>\n",
       "  </tbody>\n",
       "</table>\n",
       "</div>"
      ],
      "text/plain": [
       "  platform  jp_sales\n",
       "0      3DS     14.16\n",
       "2      PS3     10.99\n",
       "3      PS4      9.46\n",
       "6     WiiU      8.36\n",
       "5      PSV      5.71"
      ]
     },
     "execution_count": 57,
     "metadata": {},
     "output_type": "execute_result"
    }
   ],
   "source": [
    "jp_platform = actual_data.groupby('platform')['jp_sales'].sum().reset_index().sort_values(by = 'jp_sales', \n",
    "                                                                                          ascending = False).head()\n",
    "jp_platform"
   ]
  },
  {
   "cell_type": "markdown",
   "metadata": {},
   "source": [
    "*** \n",
    "Ok, in terms of revenue, if we consider \"actual period\" that we have choose before, PS4 leads in North America and Europe markets. Also, the same platforms get almost same places: XOne is second in NA, and third in EU, X360 - third in NA and forth in EU, PS3 forth in NA and second in EU.   \n",
    "In Japan people prefer their own platform 3DS made by Nintendo.  \n",
    "All three regions have different distribution: more smooth in NA and JP, and \"explicit leader\" in EU.  "
   ]
  },
  {
   "cell_type": "markdown",
   "metadata": {},
   "source": [
    "The top five genres are:"
   ]
  },
  {
   "cell_type": "code",
   "execution_count": 58,
   "metadata": {},
   "outputs": [
    {
     "data": {
      "text/html": [
       "<div>\n",
       "<style scoped>\n",
       "    .dataframe tbody tr th:only-of-type {\n",
       "        vertical-align: middle;\n",
       "    }\n",
       "\n",
       "    .dataframe tbody tr th {\n",
       "        vertical-align: top;\n",
       "    }\n",
       "\n",
       "    .dataframe thead th {\n",
       "        text-align: right;\n",
       "    }\n",
       "</style>\n",
       "<table border=\"1\" class=\"dataframe\">\n",
       "  <thead>\n",
       "    <tr style=\"text-align: right;\">\n",
       "      <th></th>\n",
       "      <th>genre</th>\n",
       "      <th>na_sales</th>\n",
       "    </tr>\n",
       "  </thead>\n",
       "  <tbody>\n",
       "    <tr>\n",
       "      <th>0</th>\n",
       "      <td>Action</td>\n",
       "      <td>97.06</td>\n",
       "    </tr>\n",
       "    <tr>\n",
       "      <th>8</th>\n",
       "      <td>Shooter</td>\n",
       "      <td>81.03</td>\n",
       "    </tr>\n",
       "    <tr>\n",
       "      <th>10</th>\n",
       "      <td>Sports</td>\n",
       "      <td>51.16</td>\n",
       "    </tr>\n",
       "    <tr>\n",
       "      <th>7</th>\n",
       "      <td>Role-Playing</td>\n",
       "      <td>23.08</td>\n",
       "    </tr>\n",
       "    <tr>\n",
       "      <th>4</th>\n",
       "      <td>Platform</td>\n",
       "      <td>13.75</td>\n",
       "    </tr>\n",
       "  </tbody>\n",
       "</table>\n",
       "</div>"
      ],
      "text/plain": [
       "           genre  na_sales\n",
       "0         Action     97.06\n",
       "8        Shooter     81.03\n",
       "10        Sports     51.16\n",
       "7   Role-Playing     23.08\n",
       "4       Platform     13.75"
      ]
     },
     "execution_count": 58,
     "metadata": {},
     "output_type": "execute_result"
    }
   ],
   "source": [
    "na_genre = actual_data.groupby('genre')['na_sales'].sum().reset_index().sort_values(by='na_sales', \n",
    "                                                                                    ascending = False).head()\n",
    "na_genre"
   ]
  },
  {
   "cell_type": "code",
   "execution_count": 59,
   "metadata": {},
   "outputs": [
    {
     "data": {
      "text/html": [
       "<div>\n",
       "<style scoped>\n",
       "    .dataframe tbody tr th:only-of-type {\n",
       "        vertical-align: middle;\n",
       "    }\n",
       "\n",
       "    .dataframe tbody tr th {\n",
       "        vertical-align: top;\n",
       "    }\n",
       "\n",
       "    .dataframe thead th {\n",
       "        text-align: right;\n",
       "    }\n",
       "</style>\n",
       "<table border=\"1\" class=\"dataframe\">\n",
       "  <thead>\n",
       "    <tr style=\"text-align: right;\">\n",
       "      <th></th>\n",
       "      <th>genre</th>\n",
       "      <th>eu_sales</th>\n",
       "    </tr>\n",
       "  </thead>\n",
       "  <tbody>\n",
       "    <tr>\n",
       "      <th>0</th>\n",
       "      <td>Action</td>\n",
       "      <td>91.05</td>\n",
       "    </tr>\n",
       "    <tr>\n",
       "      <th>8</th>\n",
       "      <td>Shooter</td>\n",
       "      <td>64.04</td>\n",
       "    </tr>\n",
       "    <tr>\n",
       "      <th>10</th>\n",
       "      <td>Sports</td>\n",
       "      <td>46.96</td>\n",
       "    </tr>\n",
       "    <tr>\n",
       "      <th>7</th>\n",
       "      <td>Role-Playing</td>\n",
       "      <td>19.28</td>\n",
       "    </tr>\n",
       "    <tr>\n",
       "      <th>6</th>\n",
       "      <td>Racing</td>\n",
       "      <td>17.05</td>\n",
       "    </tr>\n",
       "  </tbody>\n",
       "</table>\n",
       "</div>"
      ],
      "text/plain": [
       "           genre  eu_sales\n",
       "0         Action     91.05\n",
       "8        Shooter     64.04\n",
       "10        Sports     46.96\n",
       "7   Role-Playing     19.28\n",
       "6         Racing     17.05"
      ]
     },
     "execution_count": 59,
     "metadata": {},
     "output_type": "execute_result"
    }
   ],
   "source": [
    "eu_genre = actual_data.groupby('genre')['eu_sales'].sum().reset_index().sort_values(by='eu_sales', \n",
    "                                                                                    ascending = False).head()\n",
    "eu_genre"
   ]
  },
  {
   "cell_type": "code",
   "execution_count": 60,
   "metadata": {},
   "outputs": [
    {
     "data": {
      "text/html": [
       "<div>\n",
       "<style scoped>\n",
       "    .dataframe tbody tr th:only-of-type {\n",
       "        vertical-align: middle;\n",
       "    }\n",
       "\n",
       "    .dataframe tbody tr th {\n",
       "        vertical-align: top;\n",
       "    }\n",
       "\n",
       "    .dataframe thead th {\n",
       "        text-align: right;\n",
       "    }\n",
       "</style>\n",
       "<table border=\"1\" class=\"dataframe\">\n",
       "  <thead>\n",
       "    <tr style=\"text-align: right;\">\n",
       "      <th></th>\n",
       "      <th>genre</th>\n",
       "      <th>jp_sales</th>\n",
       "    </tr>\n",
       "  </thead>\n",
       "  <tbody>\n",
       "    <tr>\n",
       "      <th>0</th>\n",
       "      <td>Action</td>\n",
       "      <td>14.61</td>\n",
       "    </tr>\n",
       "    <tr>\n",
       "      <th>7</th>\n",
       "      <td>Role-Playing</td>\n",
       "      <td>12.44</td>\n",
       "    </tr>\n",
       "    <tr>\n",
       "      <th>8</th>\n",
       "      <td>Shooter</td>\n",
       "      <td>5.28</td>\n",
       "    </tr>\n",
       "    <tr>\n",
       "      <th>4</th>\n",
       "      <td>Platform</td>\n",
       "      <td>4.16</td>\n",
       "    </tr>\n",
       "    <tr>\n",
       "      <th>3</th>\n",
       "      <td>Misc</td>\n",
       "      <td>3.12</td>\n",
       "    </tr>\n",
       "  </tbody>\n",
       "</table>\n",
       "</div>"
      ],
      "text/plain": [
       "          genre  jp_sales\n",
       "0        Action     14.61\n",
       "7  Role-Playing     12.44\n",
       "8       Shooter      5.28\n",
       "4      Platform      4.16\n",
       "3          Misc      3.12"
      ]
     },
     "execution_count": 60,
     "metadata": {},
     "output_type": "execute_result"
    }
   ],
   "source": [
    "jp_genre = actual_data.groupby('genre')['jp_sales'].sum().reset_index().sort_values(by = 'jp_sales', \n",
    "                                                                                    ascending = False).head()\n",
    "jp_genre"
   ]
  },
  {
   "cell_type": "markdown",
   "metadata": {},
   "source": [
    "In terms of genres **Action** is №1 in all regions. In North America and Europe have identical picture: top 4 genres have same market share. And in Japan users prefer similar platforms but with different market share: **Action, Shooter, Role-Playing, Misc** genres"
   ]
  },
  {
   "cell_type": "markdown",
   "metadata": {},
   "source": [
    "For plotting correlation between rating and sales for each region let's correlate each type of rarting with numeric value. As we know, ESRB rating scale has just 5 types: \n",
    "\n",
    "**E - for everyone, for all ages   \n",
    "E10+ - for everyone 10+, means ages 10 and up    \n",
    "T - for teens, means ages 13 and up   \n",
    "M - for mature 17+, means ages 17 and up   \n",
    "A - for adults only 18+, means ages 18 and up**      \n",
    "\n",
    "Let's create small function"
   ]
  },
  {
   "cell_type": "code",
   "execution_count": 61,
   "metadata": {},
   "outputs": [],
   "source": [
    "def numeric_rating(row):\n",
    "    if row == 'E':\n",
    "        return 1\n",
    "    elif row == 'E10+':\n",
    "        return 2\n",
    "    elif row == 'T':\n",
    "        return 3\n",
    "    elif row == 'M':\n",
    "        return 4\n",
    "    elif row == 'A':\n",
    "        return 5\n",
    "    else:\n",
    "        return 'err'"
   ]
  },
  {
   "cell_type": "code",
   "execution_count": 62,
   "metadata": {},
   "outputs": [
    {
     "data": {
      "text/html": [
       "<div>\n",
       "<style scoped>\n",
       "    .dataframe tbody tr th:only-of-type {\n",
       "        vertical-align: middle;\n",
       "    }\n",
       "\n",
       "    .dataframe tbody tr th {\n",
       "        vertical-align: top;\n",
       "    }\n",
       "\n",
       "    .dataframe thead th {\n",
       "        text-align: right;\n",
       "    }\n",
       "</style>\n",
       "<table border=\"1\" class=\"dataframe\">\n",
       "  <thead>\n",
       "    <tr style=\"text-align: right;\">\n",
       "      <th></th>\n",
       "      <th>name</th>\n",
       "      <th>platform</th>\n",
       "      <th>year_of_release</th>\n",
       "      <th>genre</th>\n",
       "      <th>na_sales</th>\n",
       "      <th>eu_sales</th>\n",
       "      <th>jp_sales</th>\n",
       "      <th>other_sales</th>\n",
       "      <th>critic_score</th>\n",
       "      <th>user_score</th>\n",
       "      <th>rating</th>\n",
       "      <th>total_sales</th>\n",
       "      <th>num_rating</th>\n",
       "    </tr>\n",
       "  </thead>\n",
       "  <tbody>\n",
       "    <tr>\n",
       "      <th>0</th>\n",
       "      <td>Grand Theft Auto V</td>\n",
       "      <td>PS3</td>\n",
       "      <td>2013</td>\n",
       "      <td>Action</td>\n",
       "      <td>7.02</td>\n",
       "      <td>9.09</td>\n",
       "      <td>0.98</td>\n",
       "      <td>3.96</td>\n",
       "      <td>97.0</td>\n",
       "      <td>82.0</td>\n",
       "      <td>M</td>\n",
       "      <td>21.05</td>\n",
       "      <td>4</td>\n",
       "    </tr>\n",
       "    <tr>\n",
       "      <th>1</th>\n",
       "      <td>Grand Theft Auto V</td>\n",
       "      <td>X360</td>\n",
       "      <td>2013</td>\n",
       "      <td>Action</td>\n",
       "      <td>9.66</td>\n",
       "      <td>5.14</td>\n",
       "      <td>0.06</td>\n",
       "      <td>1.41</td>\n",
       "      <td>97.0</td>\n",
       "      <td>81.0</td>\n",
       "      <td>M</td>\n",
       "      <td>16.27</td>\n",
       "      <td>4</td>\n",
       "    </tr>\n",
       "    <tr>\n",
       "      <th>2</th>\n",
       "      <td>Grand Theft Auto V</td>\n",
       "      <td>PS4</td>\n",
       "      <td>2014</td>\n",
       "      <td>Action</td>\n",
       "      <td>3.96</td>\n",
       "      <td>6.31</td>\n",
       "      <td>0.38</td>\n",
       "      <td>1.97</td>\n",
       "      <td>97.0</td>\n",
       "      <td>83.0</td>\n",
       "      <td>M</td>\n",
       "      <td>12.62</td>\n",
       "      <td>4</td>\n",
       "    </tr>\n",
       "    <tr>\n",
       "      <th>3</th>\n",
       "      <td>Call of Duty: Ghosts</td>\n",
       "      <td>X360</td>\n",
       "      <td>2013</td>\n",
       "      <td>Shooter</td>\n",
       "      <td>6.73</td>\n",
       "      <td>2.56</td>\n",
       "      <td>0.04</td>\n",
       "      <td>0.91</td>\n",
       "      <td>73.0</td>\n",
       "      <td>26.0</td>\n",
       "      <td>M</td>\n",
       "      <td>10.24</td>\n",
       "      <td>4</td>\n",
       "    </tr>\n",
       "    <tr>\n",
       "      <th>4</th>\n",
       "      <td>Call of Duty: Ghosts</td>\n",
       "      <td>PS3</td>\n",
       "      <td>2013</td>\n",
       "      <td>Shooter</td>\n",
       "      <td>4.10</td>\n",
       "      <td>3.63</td>\n",
       "      <td>0.38</td>\n",
       "      <td>1.25</td>\n",
       "      <td>71.0</td>\n",
       "      <td>26.0</td>\n",
       "      <td>M</td>\n",
       "      <td>9.36</td>\n",
       "      <td>4</td>\n",
       "    </tr>\n",
       "    <tr>\n",
       "      <th>...</th>\n",
       "      <td>...</td>\n",
       "      <td>...</td>\n",
       "      <td>...</td>\n",
       "      <td>...</td>\n",
       "      <td>...</td>\n",
       "      <td>...</td>\n",
       "      <td>...</td>\n",
       "      <td>...</td>\n",
       "      <td>...</td>\n",
       "      <td>...</td>\n",
       "      <td>...</td>\n",
       "      <td>...</td>\n",
       "      <td>...</td>\n",
       "    </tr>\n",
       "    <tr>\n",
       "      <th>974</th>\n",
       "      <td>Saints Row: Gat out of Hell</td>\n",
       "      <td>XOne</td>\n",
       "      <td>2015</td>\n",
       "      <td>Action</td>\n",
       "      <td>0.00</td>\n",
       "      <td>0.01</td>\n",
       "      <td>0.00</td>\n",
       "      <td>0.00</td>\n",
       "      <td>65.0</td>\n",
       "      <td>60.0</td>\n",
       "      <td>M</td>\n",
       "      <td>0.01</td>\n",
       "      <td>4</td>\n",
       "    </tr>\n",
       "    <tr>\n",
       "      <th>975</th>\n",
       "      <td>Sébastien Loeb Rally Evo</td>\n",
       "      <td>XOne</td>\n",
       "      <td>2016</td>\n",
       "      <td>Racing</td>\n",
       "      <td>0.00</td>\n",
       "      <td>0.01</td>\n",
       "      <td>0.00</td>\n",
       "      <td>0.00</td>\n",
       "      <td>63.0</td>\n",
       "      <td>82.0</td>\n",
       "      <td>E</td>\n",
       "      <td>0.01</td>\n",
       "      <td>1</td>\n",
       "    </tr>\n",
       "    <tr>\n",
       "      <th>976</th>\n",
       "      <td>Fast Racing Neo</td>\n",
       "      <td>WiiU</td>\n",
       "      <td>2016</td>\n",
       "      <td>Action</td>\n",
       "      <td>0.00</td>\n",
       "      <td>0.01</td>\n",
       "      <td>0.00</td>\n",
       "      <td>0.00</td>\n",
       "      <td>81.0</td>\n",
       "      <td>85.0</td>\n",
       "      <td>E</td>\n",
       "      <td>0.01</td>\n",
       "      <td>1</td>\n",
       "    </tr>\n",
       "    <tr>\n",
       "      <th>977</th>\n",
       "      <td>Prison Architect</td>\n",
       "      <td>XOne</td>\n",
       "      <td>2016</td>\n",
       "      <td>Action</td>\n",
       "      <td>0.01</td>\n",
       "      <td>0.00</td>\n",
       "      <td>0.00</td>\n",
       "      <td>0.00</td>\n",
       "      <td>74.0</td>\n",
       "      <td>67.0</td>\n",
       "      <td>T</td>\n",
       "      <td>0.01</td>\n",
       "      <td>3</td>\n",
       "    </tr>\n",
       "    <tr>\n",
       "      <th>978</th>\n",
       "      <td>Metal Gear Solid V: Ground Zeroes</td>\n",
       "      <td>PC</td>\n",
       "      <td>2014</td>\n",
       "      <td>Action</td>\n",
       "      <td>0.00</td>\n",
       "      <td>0.01</td>\n",
       "      <td>0.00</td>\n",
       "      <td>0.00</td>\n",
       "      <td>80.0</td>\n",
       "      <td>76.0</td>\n",
       "      <td>M</td>\n",
       "      <td>0.01</td>\n",
       "      <td>4</td>\n",
       "    </tr>\n",
       "  </tbody>\n",
       "</table>\n",
       "<p>979 rows × 13 columns</p>\n",
       "</div>"
      ],
      "text/plain": [
       "                                  name platform  year_of_release    genre  \\\n",
       "0                   Grand Theft Auto V      PS3             2013   Action   \n",
       "1                   Grand Theft Auto V     X360             2013   Action   \n",
       "2                   Grand Theft Auto V      PS4             2014   Action   \n",
       "3                 Call of Duty: Ghosts     X360             2013  Shooter   \n",
       "4                 Call of Duty: Ghosts      PS3             2013  Shooter   \n",
       "..                                 ...      ...              ...      ...   \n",
       "974        Saints Row: Gat out of Hell     XOne             2015   Action   \n",
       "975           Sébastien Loeb Rally Evo     XOne             2016   Racing   \n",
       "976                   Fast Racing Neo      WiiU             2016   Action   \n",
       "977                   Prison Architect     XOne             2016   Action   \n",
       "978  Metal Gear Solid V: Ground Zeroes       PC             2014   Action   \n",
       "\n",
       "     na_sales  eu_sales  jp_sales  other_sales  critic_score  user_score  \\\n",
       "0        7.02      9.09      0.98         3.96          97.0        82.0   \n",
       "1        9.66      5.14      0.06         1.41          97.0        81.0   \n",
       "2        3.96      6.31      0.38         1.97          97.0        83.0   \n",
       "3        6.73      2.56      0.04         0.91          73.0        26.0   \n",
       "4        4.10      3.63      0.38         1.25          71.0        26.0   \n",
       "..        ...       ...       ...          ...           ...         ...   \n",
       "974      0.00      0.01      0.00         0.00          65.0        60.0   \n",
       "975      0.00      0.01      0.00         0.00          63.0        82.0   \n",
       "976      0.00      0.01      0.00         0.00          81.0        85.0   \n",
       "977      0.01      0.00      0.00         0.00          74.0        67.0   \n",
       "978      0.00      0.01      0.00         0.00          80.0        76.0   \n",
       "\n",
       "    rating  total_sales  num_rating  \n",
       "0        M        21.05           4  \n",
       "1        M        16.27           4  \n",
       "2        M        12.62           4  \n",
       "3        M        10.24           4  \n",
       "4        M         9.36           4  \n",
       "..     ...          ...         ...  \n",
       "974      M         0.01           4  \n",
       "975      E         0.01           1  \n",
       "976      E         0.01           1  \n",
       "977      T         0.01           3  \n",
       "978      M         0.01           4  \n",
       "\n",
       "[979 rows x 13 columns]"
      ]
     },
     "execution_count": 62,
     "metadata": {},
     "output_type": "execute_result"
    }
   ],
   "source": [
    "actual_data['num_rating'] = actual_data['rating'].apply(numeric_rating)\n",
    "actual_data"
   ]
  },
  {
   "cell_type": "markdown",
   "metadata": {},
   "source": [
    "For North America: "
   ]
  },
  {
   "cell_type": "code",
   "execution_count": 63,
   "metadata": {},
   "outputs": [
    {
     "data": {
      "text/plain": [
       "0.07804023405306271"
      ]
     },
     "execution_count": 63,
     "metadata": {},
     "output_type": "execute_result"
    },
    {
     "data": {
      "image/png": "[encoded data removed]",
      "text/plain": [
       "<Figure size 936x576 with 1 Axes>"
      ]
     },
     "metadata": {
      "needs_background": "light"
     },
     "output_type": "display_data"
    }
   ],
   "source": [
    "fig, ax = plt.subplots(figsize = (13, 8));\n",
    "ax = sns.barplot(data=actual_data, x=\"num_rating\", y=\"na_sales\");\n",
    "plt.title('Dispersion of NA sales by ratings');\n",
    "plt.xlabel('Ratings');\n",
    "plt.ylabel('NA sales');\n",
    "actual_data['na_sales'].corr(actual_data['num_rating'])"
   ]
  },
  {
   "cell_type": "markdown",
   "metadata": {},
   "source": [
    "For Europe:"
   ]
  },
  {
   "cell_type": "code",
   "execution_count": 64,
   "metadata": {},
   "outputs": [
    {
     "data": {
      "text/plain": [
       "0.046810145855342"
      ]
     },
     "execution_count": 64,
     "metadata": {},
     "output_type": "execute_result"
    },
    {
     "data": {
      "image/png": "[encoded data removed]",
      "text/plain": [
       "<Figure size 936x576 with 1 Axes>"
      ]
     },
     "metadata": {
      "needs_background": "light"
     },
     "output_type": "display_data"
    }
   ],
   "source": [
    "fig, ax = plt.subplots(figsize = (13, 8));\n",
    "ax = sns.barplot(data=actual_data, x=\"num_rating\", y=\"eu_sales\");\n",
    "plt.title('Dispersion of EU sales by ratings');\n",
    "plt.xlabel('Ratings');\n",
    "plt.ylabel('EU sales');\n",
    "actual_data['eu_sales'].corr(actual_data['num_rating'])"
   ]
  },
  {
   "cell_type": "markdown",
   "metadata": {},
   "source": [
    "For Japan:"
   ]
  },
  {
   "cell_type": "code",
   "execution_count": 65,
   "metadata": {},
   "outputs": [
    {
     "data": {
      "text/plain": [
       "-0.05378710439606278"
      ]
     },
     "execution_count": 65,
     "metadata": {},
     "output_type": "execute_result"
    },
    {
     "data": {
      "image/png": "[encoded data removed]",
      "text/plain": [
       "<Figure size 936x576 with 1 Axes>"
      ]
     },
     "metadata": {
      "needs_background": "light"
     },
     "output_type": "display_data"
    }
   ],
   "source": [
    "fig, ax = plt.subplots(figsize = (13, 8));\n",
    "ax = sns.barplot(data=actual_data, x=\"num_rating\", y=\"jp_sales\");\n",
    "plt.title('Dispersion of JP sales by ratings');\n",
    "plt.xlabel('Ratings');\n",
    "plt.ylabel('JP sales');\n",
    "actual_data['jp_sales'].corr(actual_data['num_rating'])"
   ]
  },
  {
   "cell_type": "markdown",
   "metadata": {},
   "source": [
    "***\n",
    "Ok, we've figured out that for NA and EU correlation coefficient is positive, but dependence is weak, if rating increase from child to adult - sales increase as well, but not strong.   \n",
    "In Japan, correlation coefficient is negative, dependence is weak, so almost no any dependence: if rating increase, sales decrease. "
   ]
  },
  {
   "cell_type": "markdown",
   "metadata": {},
   "source": [
    "### Step 5.  Test the following hypotheses:"
   ]
  },
  {
   "cell_type": "markdown",
   "metadata": {},
   "source": [
    "**_The first one will be: Average user ratings of the Xbox One and PC platforms are the same_**   \n",
    "\n",
    "According the first rule of Null hypothesis, it states with **equal sign**, but we have to formulate null hypothesis like a kind of opposite of our main question. In other words, if we're investigating whether there's a similarity between populations, the null hypothesis will be, **\"No, there's no similarity, and the parameters in question are different.\"**   \n",
    "Therefore, the alternative hypothesis will be: **\"Yes, the similarity exists and the parameters in question are equal\"**"
   ]
  },
  {
   "cell_type": "code",
   "execution_count": 66,
   "metadata": {},
   "outputs": [],
   "source": [
    "hyp_plat = ['XOne', 'PC']"
   ]
  },
  {
   "cell_type": "code",
   "execution_count": 67,
   "metadata": {},
   "outputs": [
    {
     "data": {
      "text/html": [
       "<div>\n",
       "<style scoped>\n",
       "    .dataframe tbody tr th:only-of-type {\n",
       "        vertical-align: middle;\n",
       "    }\n",
       "\n",
       "    .dataframe tbody tr th {\n",
       "        vertical-align: top;\n",
       "    }\n",
       "\n",
       "    .dataframe thead th {\n",
       "        text-align: right;\n",
       "    }\n",
       "</style>\n",
       "<table border=\"1\" class=\"dataframe\">\n",
       "  <thead>\n",
       "    <tr style=\"text-align: right;\">\n",
       "      <th></th>\n",
       "      <th>name</th>\n",
       "      <th>platform</th>\n",
       "      <th>year_of_release</th>\n",
       "      <th>genre</th>\n",
       "      <th>na_sales</th>\n",
       "      <th>eu_sales</th>\n",
       "      <th>jp_sales</th>\n",
       "      <th>other_sales</th>\n",
       "      <th>critic_score</th>\n",
       "      <th>user_score</th>\n",
       "      <th>rating</th>\n",
       "      <th>total_sales</th>\n",
       "      <th>num_rating</th>\n",
       "    </tr>\n",
       "  </thead>\n",
       "  <tbody>\n",
       "    <tr>\n",
       "      <th>0</th>\n",
       "      <td>Grand Theft Auto V</td>\n",
       "      <td>XOne</td>\n",
       "      <td>2014</td>\n",
       "      <td>Action</td>\n",
       "      <td>2.81</td>\n",
       "      <td>2.19</td>\n",
       "      <td>0.00</td>\n",
       "      <td>0.47</td>\n",
       "      <td>97.0</td>\n",
       "      <td>79.0</td>\n",
       "      <td>M</td>\n",
       "      <td>5.47</td>\n",
       "      <td>4</td>\n",
       "    </tr>\n",
       "    <tr>\n",
       "      <th>1</th>\n",
       "      <td>Call of Duty: Advanced Warfare</td>\n",
       "      <td>XOne</td>\n",
       "      <td>2014</td>\n",
       "      <td>Shooter</td>\n",
       "      <td>3.22</td>\n",
       "      <td>1.55</td>\n",
       "      <td>0.01</td>\n",
       "      <td>0.48</td>\n",
       "      <td>81.0</td>\n",
       "      <td>54.0</td>\n",
       "      <td>M</td>\n",
       "      <td>5.26</td>\n",
       "      <td>4</td>\n",
       "    </tr>\n",
       "    <tr>\n",
       "      <th>2</th>\n",
       "      <td>Halo 5: Guardians</td>\n",
       "      <td>XOne</td>\n",
       "      <td>2015</td>\n",
       "      <td>Shooter</td>\n",
       "      <td>2.78</td>\n",
       "      <td>1.27</td>\n",
       "      <td>0.03</td>\n",
       "      <td>0.41</td>\n",
       "      <td>84.0</td>\n",
       "      <td>64.0</td>\n",
       "      <td>T</td>\n",
       "      <td>4.49</td>\n",
       "      <td>3</td>\n",
       "    </tr>\n",
       "    <tr>\n",
       "      <th>3</th>\n",
       "      <td>Fallout 4</td>\n",
       "      <td>XOne</td>\n",
       "      <td>2015</td>\n",
       "      <td>Role-Playing</td>\n",
       "      <td>2.51</td>\n",
       "      <td>1.32</td>\n",
       "      <td>0.01</td>\n",
       "      <td>0.38</td>\n",
       "      <td>88.0</td>\n",
       "      <td>62.0</td>\n",
       "      <td>M</td>\n",
       "      <td>4.22</td>\n",
       "      <td>4</td>\n",
       "    </tr>\n",
       "    <tr>\n",
       "      <th>4</th>\n",
       "      <td>Assassin's Creed: Unity</td>\n",
       "      <td>XOne</td>\n",
       "      <td>2014</td>\n",
       "      <td>Action</td>\n",
       "      <td>2.27</td>\n",
       "      <td>0.90</td>\n",
       "      <td>0.00</td>\n",
       "      <td>0.33</td>\n",
       "      <td>72.0</td>\n",
       "      <td>41.0</td>\n",
       "      <td>M</td>\n",
       "      <td>3.50</td>\n",
       "      <td>4</td>\n",
       "    </tr>\n",
       "    <tr>\n",
       "      <th>...</th>\n",
       "      <td>...</td>\n",
       "      <td>...</td>\n",
       "      <td>...</td>\n",
       "      <td>...</td>\n",
       "      <td>...</td>\n",
       "      <td>...</td>\n",
       "      <td>...</td>\n",
       "      <td>...</td>\n",
       "      <td>...</td>\n",
       "      <td>...</td>\n",
       "      <td>...</td>\n",
       "      <td>...</td>\n",
       "      <td>...</td>\n",
       "    </tr>\n",
       "    <tr>\n",
       "      <th>310</th>\n",
       "      <td>Ride 2</td>\n",
       "      <td>PC</td>\n",
       "      <td>2016</td>\n",
       "      <td>Racing</td>\n",
       "      <td>0.00</td>\n",
       "      <td>0.01</td>\n",
       "      <td>0.00</td>\n",
       "      <td>0.00</td>\n",
       "      <td>78.0</td>\n",
       "      <td>79.0</td>\n",
       "      <td>E</td>\n",
       "      <td>0.01</td>\n",
       "      <td>1</td>\n",
       "    </tr>\n",
       "    <tr>\n",
       "      <th>311</th>\n",
       "      <td>Saints Row: Gat out of Hell</td>\n",
       "      <td>XOne</td>\n",
       "      <td>2015</td>\n",
       "      <td>Action</td>\n",
       "      <td>0.00</td>\n",
       "      <td>0.01</td>\n",
       "      <td>0.00</td>\n",
       "      <td>0.00</td>\n",
       "      <td>65.0</td>\n",
       "      <td>60.0</td>\n",
       "      <td>M</td>\n",
       "      <td>0.01</td>\n",
       "      <td>4</td>\n",
       "    </tr>\n",
       "    <tr>\n",
       "      <th>312</th>\n",
       "      <td>Sébastien Loeb Rally Evo</td>\n",
       "      <td>XOne</td>\n",
       "      <td>2016</td>\n",
       "      <td>Racing</td>\n",
       "      <td>0.00</td>\n",
       "      <td>0.01</td>\n",
       "      <td>0.00</td>\n",
       "      <td>0.00</td>\n",
       "      <td>63.0</td>\n",
       "      <td>82.0</td>\n",
       "      <td>E</td>\n",
       "      <td>0.01</td>\n",
       "      <td>1</td>\n",
       "    </tr>\n",
       "    <tr>\n",
       "      <th>313</th>\n",
       "      <td>Prison Architect</td>\n",
       "      <td>XOne</td>\n",
       "      <td>2016</td>\n",
       "      <td>Action</td>\n",
       "      <td>0.01</td>\n",
       "      <td>0.00</td>\n",
       "      <td>0.00</td>\n",
       "      <td>0.00</td>\n",
       "      <td>74.0</td>\n",
       "      <td>67.0</td>\n",
       "      <td>T</td>\n",
       "      <td>0.01</td>\n",
       "      <td>3</td>\n",
       "    </tr>\n",
       "    <tr>\n",
       "      <th>314</th>\n",
       "      <td>Metal Gear Solid V: Ground Zeroes</td>\n",
       "      <td>PC</td>\n",
       "      <td>2014</td>\n",
       "      <td>Action</td>\n",
       "      <td>0.00</td>\n",
       "      <td>0.01</td>\n",
       "      <td>0.00</td>\n",
       "      <td>0.00</td>\n",
       "      <td>80.0</td>\n",
       "      <td>76.0</td>\n",
       "      <td>M</td>\n",
       "      <td>0.01</td>\n",
       "      <td>4</td>\n",
       "    </tr>\n",
       "  </tbody>\n",
       "</table>\n",
       "<p>315 rows × 13 columns</p>\n",
       "</div>"
      ],
      "text/plain": [
       "                                  name platform  year_of_release  \\\n",
       "0                   Grand Theft Auto V     XOne             2014   \n",
       "1       Call of Duty: Advanced Warfare     XOne             2014   \n",
       "2                    Halo 5: Guardians     XOne             2015   \n",
       "3                            Fallout 4     XOne             2015   \n",
       "4              Assassin's Creed: Unity     XOne             2014   \n",
       "..                                 ...      ...              ...   \n",
       "310                             Ride 2       PC             2016   \n",
       "311        Saints Row: Gat out of Hell     XOne             2015   \n",
       "312           Sébastien Loeb Rally Evo     XOne             2016   \n",
       "313                   Prison Architect     XOne             2016   \n",
       "314  Metal Gear Solid V: Ground Zeroes       PC             2014   \n",
       "\n",
       "            genre  na_sales  eu_sales  jp_sales  other_sales  critic_score  \\\n",
       "0          Action      2.81      2.19      0.00         0.47          97.0   \n",
       "1         Shooter      3.22      1.55      0.01         0.48          81.0   \n",
       "2         Shooter      2.78      1.27      0.03         0.41          84.0   \n",
       "3    Role-Playing      2.51      1.32      0.01         0.38          88.0   \n",
       "4          Action      2.27      0.90      0.00         0.33          72.0   \n",
       "..            ...       ...       ...       ...          ...           ...   \n",
       "310        Racing      0.00      0.01      0.00         0.00          78.0   \n",
       "311        Action      0.00      0.01      0.00         0.00          65.0   \n",
       "312        Racing      0.00      0.01      0.00         0.00          63.0   \n",
       "313        Action      0.01      0.00      0.00         0.00          74.0   \n",
       "314        Action      0.00      0.01      0.00         0.00          80.0   \n",
       "\n",
       "     user_score rating  total_sales  num_rating  \n",
       "0          79.0      M         5.47           4  \n",
       "1          54.0      M         5.26           4  \n",
       "2          64.0      T         4.49           3  \n",
       "3          62.0      M         4.22           4  \n",
       "4          41.0      M         3.50           4  \n",
       "..          ...    ...          ...         ...  \n",
       "310        79.0      E         0.01           1  \n",
       "311        60.0      M         0.01           4  \n",
       "312        82.0      E         0.01           1  \n",
       "313        67.0      T         0.01           3  \n",
       "314        76.0      M         0.01           4  \n",
       "\n",
       "[315 rows x 13 columns]"
      ]
     },
     "execution_count": 67,
     "metadata": {},
     "output_type": "execute_result"
    }
   ],
   "source": [
    "hyp_data = actual_data.query('platform in @hyp_plat').reset_index()\n",
    "hyp_data.drop(\"index\", axis = 1, inplace = True)\n",
    "hyp_data"
   ]
  },
  {
   "cell_type": "code",
   "execution_count": 68,
   "metadata": {},
   "outputs": [
    {
     "data": {
      "text/plain": [
       "platform\n",
       "PC      63.093960\n",
       "XOne    65.433735\n",
       "Name: user_score, dtype: float64"
      ]
     },
     "execution_count": 68,
     "metadata": {},
     "output_type": "execute_result"
    }
   ],
   "source": [
    "hyp_data.groupby('platform')['user_score'].mean()"
   ]
  },
  {
   "cell_type": "code",
   "execution_count": 69,
   "metadata": {},
   "outputs": [],
   "source": [
    "pc1 = actual_data.query('platform == \"PC\"')['user_score']\n",
    "xone1 = actual_data.query('platform == \"XOne\"')['user_score']"
   ]
  },
  {
   "cell_type": "code",
   "execution_count": 70,
   "metadata": {},
   "outputs": [],
   "source": [
    "def t_test(sample1, sample2):\n",
    "    alpha = 0.05\n",
    "    p_value = st.ttest_ind(sample1, sample2, equal_var = False).pvalue\n",
    "    print('P_value is:', p_value)\n",
    "    if p_value < alpha: \n",
    "        print('We reject the null hypothesis')\n",
    "    else:\n",
    "        print(\"We can't reject the null hypothesis\")"
   ]
  },
  {
   "cell_type": "code",
   "execution_count": 71,
   "metadata": {},
   "outputs": [
    {
     "name": "stdout",
     "output_type": "stream",
     "text": [
      "P_value is: 0.18059382044628625\n",
      "We can't reject the null hypothesis\n"
     ]
    }
   ],
   "source": [
    "t_test(pc1, xone1)"
   ]
  },
  {
   "cell_type": "markdown",
   "metadata": {},
   "source": [
    "So, we've figure out that we can't reject our null hypothesis, and average of sample1 isn't equal to average of sample 2. So we might consider that the difference exists. "
   ]
  },
  {
   "cell_type": "markdown",
   "metadata": {},
   "source": [
    " **_Let's take a look on second hypotesis: Average user ratings for the Action and Sports genres are different._**    \n",
    "\n",
    "Our null hypothesis will be **\"No, there are no difference in and the parameters in question are equal.\"**. And the alternative hypothesis is: **\"The parameters in question aren't equal.\"**   "
   ]
  },
  {
   "cell_type": "code",
   "execution_count": 72,
   "metadata": {},
   "outputs": [],
   "source": [
    "action1 = actual_data.query('genre == \"Action\"')['user_score']\n",
    "sports1 = actual_data.query('genre == \"Sports\"')['user_score']"
   ]
  },
  {
   "cell_type": "code",
   "execution_count": 73,
   "metadata": {},
   "outputs": [
    {
     "name": "stdout",
     "output_type": "stream",
     "text": [
      "P_value is: 9.701474292981394e-14\n",
      "We reject the null hypothesis\n"
     ]
    }
   ],
   "source": [
    "t_test(action1, sports1)"
   ]
  },
  {
   "cell_type": "markdown",
   "metadata": {},
   "source": [
    "And for second hypothesis we get rejection. That means we might assume difference of average user ratings for the Action and Sports genres"
   ]
  },
  {
   "cell_type": "markdown",
   "metadata": {},
   "source": [
    "### General conclusion   \n",
    "   \n",
    "1. For Europe and North America markets:   \n",
    "\n",
    "I highly recommend to pay more attention for games in genres **\"Action\", \"Shooter\" and \"Sports\"** of two potentially profitable platforms, **\"PS4\" and \"XOne\"**, and adjust advertising campaigns in further years by aim to push them on market. \n",
    "\n",
    "2. For Japan region:   \n",
    "\n",
    "I would recommend to pay more attention for games in genres **\"Action\", \"Shooter\" and \"Role-Playing\"** of platforms \"3DS\" and \"PS4\". Also, it might be worth to \"play\" with promotions  "
   ]
  }
 ],
 "metadata": {
  "ExecuteTimeLog": [
   {
    "duration": 769,
    "start_time": "2021-11-22T12:22:07.428Z"
   },
   {
    "duration": 49,
    "start_time": "2021-11-22T12:22:08.886Z"
   },
   {
    "duration": 46,
    "start_time": "2021-11-22T12:22:12.866Z"
   },
   {
    "duration": 18,
    "start_time": "2021-11-22T12:22:25.708Z"
   },
   {
    "duration": 16,
    "start_time": "2021-11-22T12:22:49.254Z"
   },
   {
    "duration": 12,
    "start_time": "2021-11-22T12:23:40.353Z"
   },
   {
    "duration": 18,
    "start_time": "2021-11-22T12:23:51.467Z"
   },
   {
    "duration": 13,
    "start_time": "2021-11-22T12:23:56.444Z"
   },
   {
    "duration": 18,
    "start_time": "2021-11-22T12:25:31.953Z"
   },
   {
    "duration": 8,
    "start_time": "2021-11-22T13:53:46.307Z"
   },
   {
    "duration": 45,
    "start_time": "2021-11-22T13:54:44.742Z"
   },
   {
    "duration": 10,
    "start_time": "2021-11-22T13:57:31.340Z"
   },
   {
    "duration": 356,
    "start_time": "2021-11-22T14:38:28.775Z"
   },
   {
    "duration": 4,
    "start_time": "2021-11-22T14:39:34.112Z"
   },
   {
    "duration": 30,
    "start_time": "2021-11-22T14:39:39.236Z"
   },
   {
    "duration": 5,
    "start_time": "2021-11-22T14:40:37.484Z"
   },
   {
    "duration": 358,
    "start_time": "2021-11-22T14:41:18.802Z"
   },
   {
    "duration": 35,
    "start_time": "2021-11-22T14:47:04.495Z"
   },
   {
    "duration": 1355,
    "start_time": "2021-11-22T15:50:43.554Z"
   },
   {
    "duration": 346,
    "start_time": "2021-11-22T15:50:52.116Z"
   },
   {
    "duration": 309,
    "start_time": "2021-11-22T15:51:20.609Z"
   },
   {
    "duration": 299,
    "start_time": "2021-11-22T15:52:03.425Z"
   },
   {
    "duration": 7,
    "start_time": "2021-11-22T15:52:13.731Z"
   },
   {
    "duration": 3,
    "start_time": "2021-11-22T15:52:34.420Z"
   },
   {
    "duration": 9,
    "start_time": "2021-11-22T15:52:43.187Z"
   },
   {
    "duration": 607,
    "start_time": "2021-11-22T19:03:55.571Z"
   },
   {
    "duration": 42,
    "start_time": "2021-11-22T19:03:56.180Z"
   },
   {
    "duration": 19,
    "start_time": "2021-11-22T19:03:56.224Z"
   },
   {
    "duration": 18,
    "start_time": "2021-11-22T19:03:56.245Z"
   },
   {
    "duration": 14,
    "start_time": "2021-11-22T19:03:56.265Z"
   },
   {
    "duration": 11,
    "start_time": "2021-11-22T19:03:56.281Z"
   },
   {
    "duration": 16,
    "start_time": "2021-11-22T19:03:56.294Z"
   },
   {
    "duration": 57,
    "start_time": "2021-11-22T19:03:56.313Z"
   },
   {
    "duration": 7,
    "start_time": "2021-11-22T19:03:56.372Z"
   },
   {
    "duration": 10,
    "start_time": "2021-11-22T19:03:56.381Z"
   },
   {
    "duration": 9,
    "start_time": "2021-11-22T19:03:56.393Z"
   },
   {
    "duration": 19,
    "start_time": "2021-11-22T19:26:05.670Z"
   },
   {
    "duration": 348,
    "start_time": "2021-11-22T19:28:54.926Z"
   },
   {
    "duration": 739,
    "start_time": "2021-11-22T19:29:00.402Z"
   },
   {
    "duration": 1205,
    "start_time": "2021-11-22T19:29:23.804Z"
   },
   {
    "duration": 20,
    "start_time": "2021-11-22T19:29:34.923Z"
   },
   {
    "duration": 78,
    "start_time": "2021-11-22T20:03:32.158Z"
   },
   {
    "duration": 459,
    "start_time": "2021-11-22T20:06:46.462Z"
   },
   {
    "duration": 265,
    "start_time": "2021-11-22T20:07:20.728Z"
   },
   {
    "duration": 254,
    "start_time": "2021-11-22T20:07:29.646Z"
   },
   {
    "duration": 2,
    "start_time": "2021-11-22T20:07:43.795Z"
   },
   {
    "duration": 423,
    "start_time": "2021-11-22T20:34:34.833Z"
   },
   {
    "duration": 233,
    "start_time": "2021-11-22T20:34:42.061Z"
   },
   {
    "duration": 53,
    "start_time": "2021-11-22T20:34:57.216Z"
   },
   {
    "duration": 240,
    "start_time": "2021-11-22T20:35:16.039Z"
   },
   {
    "duration": 49,
    "start_time": "2021-11-22T20:35:21.890Z"
   },
   {
    "duration": 48,
    "start_time": "2021-11-22T20:35:43.143Z"
   },
   {
    "duration": 1699,
    "start_time": "2021-11-25T10:13:06.306Z"
   },
   {
    "duration": 46,
    "start_time": "2021-11-25T10:13:08.008Z"
   },
   {
    "duration": 30,
    "start_time": "2021-11-25T10:13:08.057Z"
   },
   {
    "duration": 19,
    "start_time": "2021-11-25T10:13:08.090Z"
   },
   {
    "duration": 22,
    "start_time": "2021-11-25T10:13:08.112Z"
   },
   {
    "duration": 50,
    "start_time": "2021-11-25T10:13:08.136Z"
   },
   {
    "duration": 13,
    "start_time": "2021-11-25T10:13:08.188Z"
   },
   {
    "duration": 42,
    "start_time": "2021-11-25T10:13:08.204Z"
   },
   {
    "duration": 75,
    "start_time": "2021-11-25T10:13:08.248Z"
   },
   {
    "duration": 3,
    "start_time": "2021-11-25T10:13:08.325Z"
   },
   {
    "duration": 53,
    "start_time": "2021-11-25T10:13:08.330Z"
   },
   {
    "duration": 32,
    "start_time": "2021-11-25T10:13:08.385Z"
   },
   {
    "duration": 442,
    "start_time": "2021-11-25T10:20:57.736Z"
   },
   {
    "duration": 12974,
    "start_time": "2021-11-25T10:21:39.805Z"
   },
   {
    "duration": 10,
    "start_time": "2021-11-25T10:21:56.513Z"
   },
   {
    "duration": 783,
    "start_time": "2021-11-25T10:24:29.607Z"
   },
   {
    "duration": 10,
    "start_time": "2021-11-25T10:27:00.838Z"
   },
   {
    "duration": 49,
    "start_time": "2021-11-25T10:27:05.473Z"
   },
   {
    "duration": 384,
    "start_time": "2021-11-25T11:47:30.590Z"
   },
   {
    "duration": 6,
    "start_time": "2021-11-25T11:47:47.767Z"
   },
   {
    "duration": 6,
    "start_time": "2021-11-25T11:50:12.435Z"
   },
   {
    "duration": 26,
    "start_time": "2021-11-25T11:51:22.457Z"
   },
   {
    "duration": 54,
    "start_time": "2021-11-25T11:52:21.762Z"
   },
   {
    "duration": 318,
    "start_time": "2021-11-25T11:55:08.466Z"
   },
   {
    "duration": 81,
    "start_time": "2021-11-25T11:55:18.966Z"
   },
   {
    "duration": 8,
    "start_time": "2021-11-25T12:02:34.805Z"
   },
   {
    "duration": 32,
    "start_time": "2021-11-25T12:02:38.611Z"
   },
   {
    "duration": 17,
    "start_time": "2021-11-25T12:03:34.426Z"
   },
   {
    "duration": 36,
    "start_time": "2021-11-25T12:05:23.859Z"
   },
   {
    "duration": 39,
    "start_time": "2021-11-25T13:48:40.765Z"
   },
   {
    "duration": 23,
    "start_time": "2021-11-25T13:48:54.841Z"
   },
   {
    "duration": 39,
    "start_time": "2021-11-25T13:49:00.390Z"
   },
   {
    "duration": 38,
    "start_time": "2021-11-25T13:49:15.471Z"
   },
   {
    "duration": 40,
    "start_time": "2021-11-25T13:49:21.445Z"
   },
   {
    "duration": 270,
    "start_time": "2021-11-28T16:13:26.525Z"
   },
   {
    "duration": 8387,
    "start_time": "2021-11-28T16:13:33.623Z"
   },
   {
    "duration": 1102,
    "start_time": "2021-11-28T16:13:42.012Z"
   },
   {
    "duration": 2348,
    "start_time": "2021-11-28T16:15:46.116Z"
   },
   {
    "duration": 3,
    "start_time": "2021-11-28T16:16:28.367Z"
   },
   {
    "duration": 50,
    "start_time": "2021-11-28T16:16:32.826Z"
   },
   {
    "duration": 15,
    "start_time": "2021-11-28T16:16:33.926Z"
   },
   {
    "duration": 12,
    "start_time": "2021-11-28T16:16:36.456Z"
   },
   {
    "duration": 15,
    "start_time": "2021-11-28T16:16:39.506Z"
   },
   {
    "duration": 19,
    "start_time": "2021-11-28T16:16:41.076Z"
   },
   {
    "duration": 794,
    "start_time": "2021-11-28T16:16:42.087Z"
   },
   {
    "duration": 26,
    "start_time": "2021-11-28T16:16:46.516Z"
   },
   {
    "duration": 25,
    "start_time": "2021-11-28T16:16:48.096Z"
   },
   {
    "duration": 3,
    "start_time": "2021-11-28T16:16:53.446Z"
   },
   {
    "duration": 19,
    "start_time": "2021-11-28T16:16:54.516Z"
   },
   {
    "duration": 4,
    "start_time": "2021-11-28T16:16:57.856Z"
   },
   {
    "duration": 19,
    "start_time": "2021-11-28T16:16:59.216Z"
   },
   {
    "duration": 70,
    "start_time": "2021-11-28T16:17:08.286Z"
   },
   {
    "duration": 19,
    "start_time": "2021-11-28T16:17:10.446Z"
   },
   {
    "duration": 24,
    "start_time": "2021-11-28T16:17:13.306Z"
   },
   {
    "duration": 17,
    "start_time": "2021-11-28T16:17:15.346Z"
   },
   {
    "duration": 26,
    "start_time": "2021-11-28T16:22:16.177Z"
   },
   {
    "duration": 19,
    "start_time": "2021-11-28T16:22:21.817Z"
   },
   {
    "duration": 615,
    "start_time": "2021-11-28T16:23:41.638Z"
   },
   {
    "duration": 256,
    "start_time": "2021-11-28T16:23:47.506Z"
   },
   {
    "duration": 14,
    "start_time": "2021-11-28T16:25:18.797Z"
   },
   {
    "duration": 16,
    "start_time": "2021-11-28T16:26:26.057Z"
   },
   {
    "duration": 15,
    "start_time": "2021-11-28T16:26:27.606Z"
   },
   {
    "duration": 21,
    "start_time": "2021-11-28T16:28:04.947Z"
   },
   {
    "duration": 14,
    "start_time": "2021-11-28T16:28:22.987Z"
   },
   {
    "duration": 14,
    "start_time": "2021-11-28T16:28:25.966Z"
   },
   {
    "duration": 18,
    "start_time": "2021-11-28T16:28:32.216Z"
   },
   {
    "duration": 14,
    "start_time": "2021-11-28T16:28:33.607Z"
   },
   {
    "duration": 15,
    "start_time": "2021-11-28T16:28:34.716Z"
   },
   {
    "duration": 2343,
    "start_time": "2021-11-28T16:29:01.970Z"
   },
   {
    "duration": 1194,
    "start_time": "2021-11-28T16:29:04.315Z"
   },
   {
    "duration": 37,
    "start_time": "2021-11-28T16:29:05.511Z"
   },
   {
    "duration": 16,
    "start_time": "2021-11-28T16:29:05.550Z"
   },
   {
    "duration": 21,
    "start_time": "2021-11-28T16:29:05.567Z"
   },
   {
    "duration": 21,
    "start_time": "2021-11-28T16:29:05.590Z"
   },
   {
    "duration": 13,
    "start_time": "2021-11-28T16:29:05.613Z"
   },
   {
    "duration": 426,
    "start_time": "2021-11-28T16:29:05.629Z"
   },
   {
    "duration": 30,
    "start_time": "2021-11-28T16:29:06.057Z"
   },
   {
    "duration": 22,
    "start_time": "2021-11-28T16:29:06.089Z"
   },
   {
    "duration": 2,
    "start_time": "2021-11-28T16:29:06.113Z"
   },
   {
    "duration": 18,
    "start_time": "2021-11-28T16:29:06.117Z"
   },
   {
    "duration": 5,
    "start_time": "2021-11-28T16:29:06.136Z"
   },
   {
    "duration": 20,
    "start_time": "2021-11-28T16:29:06.142Z"
   },
   {
    "duration": 54,
    "start_time": "2021-11-28T16:29:06.164Z"
   },
   {
    "duration": 17,
    "start_time": "2021-11-28T16:29:06.220Z"
   },
   {
    "duration": 22,
    "start_time": "2021-11-28T16:29:06.239Z"
   },
   {
    "duration": 38,
    "start_time": "2021-11-28T16:29:06.262Z"
   },
   {
    "duration": 15,
    "start_time": "2021-11-28T16:29:06.301Z"
   },
   {
    "duration": 12,
    "start_time": "2021-11-28T16:29:06.318Z"
   },
   {
    "duration": 20,
    "start_time": "2021-11-28T16:29:06.332Z"
   },
   {
    "duration": 2133,
    "start_time": "2021-11-28T16:29:18.040Z"
   },
   {
    "duration": 2,
    "start_time": "2021-11-28T16:29:27.610Z"
   },
   {
    "duration": 10,
    "start_time": "2021-11-28T16:29:56.350Z"
   },
   {
    "duration": 22,
    "start_time": "2021-11-28T16:30:01.710Z"
   },
   {
    "duration": 13,
    "start_time": "2021-11-28T16:31:45.640Z"
   },
   {
    "duration": 2326,
    "start_time": "2021-11-28T16:32:26.793Z"
   },
   {
    "duration": 1101,
    "start_time": "2021-11-28T16:32:33.626Z"
   },
   {
    "duration": 37,
    "start_time": "2021-11-28T16:32:49.144Z"
   },
   {
    "duration": 15,
    "start_time": "2021-11-28T16:32:50.633Z"
   },
   {
    "duration": 12,
    "start_time": "2021-11-28T16:32:52.553Z"
   },
   {
    "duration": 14,
    "start_time": "2021-11-28T16:32:53.764Z"
   },
   {
    "duration": 12,
    "start_time": "2021-11-28T16:32:56.943Z"
   },
   {
    "duration": 444,
    "start_time": "2021-11-28T16:32:59.053Z"
   },
   {
    "duration": 24,
    "start_time": "2021-11-28T16:33:07.804Z"
   },
   {
    "duration": 22,
    "start_time": "2021-11-28T16:33:10.764Z"
   },
   {
    "duration": 3,
    "start_time": "2021-11-28T16:33:14.043Z"
   },
   {
    "duration": 17,
    "start_time": "2021-11-28T16:33:15.433Z"
   },
   {
    "duration": 4,
    "start_time": "2021-11-28T16:33:19.043Z"
   },
   {
    "duration": 20,
    "start_time": "2021-11-28T16:33:25.543Z"
   },
   {
    "duration": 34,
    "start_time": "2021-11-28T16:33:34.033Z"
   },
   {
    "duration": 18,
    "start_time": "2021-11-28T16:33:38.943Z"
   },
   {
    "duration": 14,
    "start_time": "2021-11-28T16:33:55.353Z"
   },
   {
    "duration": 22,
    "start_time": "2021-11-28T16:34:03.864Z"
   },
   {
    "duration": 13,
    "start_time": "2021-11-28T16:34:06.693Z"
   },
   {
    "duration": 15,
    "start_time": "2021-11-28T16:34:08.654Z"
   },
   {
    "duration": 17,
    "start_time": "2021-11-28T16:34:29.011Z"
   },
   {
    "duration": 2777,
    "start_time": "2021-11-28T16:35:41.225Z"
   },
   {
    "duration": 6,
    "start_time": "2021-11-28T16:44:28.193Z"
   },
   {
    "duration": 20,
    "start_time": "2021-11-28T16:44:36.953Z"
   },
   {
    "duration": 4,
    "start_time": "2021-11-28T16:45:52.753Z"
   },
   {
    "duration": 16,
    "start_time": "2021-11-28T16:46:05.523Z"
   },
   {
    "duration": 15,
    "start_time": "2021-11-28T16:47:12.683Z"
   },
   {
    "duration": 7,
    "start_time": "2021-11-28T16:47:35.372Z"
   },
   {
    "duration": 10694,
    "start_time": "2021-11-29T06:30:03.291Z"
   },
   {
    "duration": 1679,
    "start_time": "2021-11-29T06:30:15.945Z"
   },
   {
    "duration": 4,
    "start_time": "2021-11-29T07:39:26.886Z"
   },
   {
    "duration": 50,
    "start_time": "2021-11-29T07:39:29.280Z"
   },
   {
    "duration": 25,
    "start_time": "2021-11-29T07:39:30.023Z"
   },
   {
    "duration": 20,
    "start_time": "2021-11-29T07:39:30.696Z"
   },
   {
    "duration": 28,
    "start_time": "2021-11-29T07:39:32.379Z"
   },
   {
    "duration": 19,
    "start_time": "2021-11-29T07:39:33.407Z"
   },
   {
    "duration": 753,
    "start_time": "2021-11-29T07:39:34.285Z"
   },
   {
    "duration": 41,
    "start_time": "2021-11-29T07:39:37.565Z"
   },
   {
    "duration": 41,
    "start_time": "2021-11-29T07:39:40.062Z"
   },
   {
    "duration": 5,
    "start_time": "2021-11-29T07:39:45.465Z"
   },
   {
    "duration": 30,
    "start_time": "2021-11-29T07:39:46.663Z"
   },
   {
    "duration": 5,
    "start_time": "2021-11-29T07:39:50.189Z"
   },
   {
    "duration": 34,
    "start_time": "2021-11-29T07:39:50.953Z"
   },
   {
    "duration": 30,
    "start_time": "2021-11-29T07:39:57.488Z"
   },
   {
    "duration": 37,
    "start_time": "2021-11-29T07:40:00.479Z"
   },
   {
    "duration": 23,
    "start_time": "2021-11-29T07:40:03.103Z"
   },
   {
    "duration": 30,
    "start_time": "2021-11-29T07:40:07.387Z"
   },
   {
    "duration": 21,
    "start_time": "2021-11-29T07:40:09.694Z"
   },
   {
    "duration": 22,
    "start_time": "2021-11-29T07:40:11.063Z"
   },
   {
    "duration": 24,
    "start_time": "2021-11-29T07:40:15.797Z"
   },
   {
    "duration": 423,
    "start_time": "2021-11-29T07:40:24.946Z"
   },
   {
    "duration": 36,
    "start_time": "2021-11-29T07:40:29.265Z"
   },
   {
    "duration": 294,
    "start_time": "2021-11-29T07:40:30.473Z"
   },
   {
    "duration": 6,
    "start_time": "2021-11-29T07:40:38.111Z"
   },
   {
    "duration": 24,
    "start_time": "2021-11-29T07:40:51.188Z"
   },
   {
    "duration": 273,
    "start_time": "2021-11-29T08:00:37.193Z"
   },
   {
    "duration": 33,
    "start_time": "2021-11-29T08:02:58.651Z"
   },
   {
    "duration": 8,
    "start_time": "2021-11-29T08:03:19.104Z"
   },
   {
    "duration": 25,
    "start_time": "2021-11-29T08:05:40.523Z"
   },
   {
    "duration": 12,
    "start_time": "2021-11-29T08:09:42.112Z"
   },
   {
    "duration": 8,
    "start_time": "2021-11-29T08:09:47.549Z"
   },
   {
    "duration": 7,
    "start_time": "2021-11-29T08:09:53.827Z"
   },
   {
    "duration": 7,
    "start_time": "2021-11-29T08:09:57.237Z"
   },
   {
    "duration": 8,
    "start_time": "2021-11-29T08:10:03.936Z"
   },
   {
    "duration": 8,
    "start_time": "2021-11-29T08:10:18.666Z"
   },
   {
    "duration": 10,
    "start_time": "2021-11-29T08:10:27.308Z"
   },
   {
    "duration": 7,
    "start_time": "2021-11-29T08:10:42.293Z"
   },
   {
    "duration": 6,
    "start_time": "2021-11-29T08:10:49.981Z"
   },
   {
    "duration": 7,
    "start_time": "2021-11-29T08:11:13.298Z"
   },
   {
    "duration": 34,
    "start_time": "2021-11-29T08:13:09.590Z"
   },
   {
    "duration": 24,
    "start_time": "2021-11-29T08:13:22.102Z"
   },
   {
    "duration": 27,
    "start_time": "2021-11-29T08:13:26.187Z"
   },
   {
    "duration": 32,
    "start_time": "2021-11-29T08:13:33.083Z"
   },
   {
    "duration": 29,
    "start_time": "2021-11-29T08:15:28.918Z"
   },
   {
    "duration": 11,
    "start_time": "2021-11-29T08:41:25.687Z"
   },
   {
    "duration": 30,
    "start_time": "2021-11-29T08:41:50.459Z"
   },
   {
    "duration": 31,
    "start_time": "2021-11-29T08:42:32.366Z"
   },
   {
    "duration": 49,
    "start_time": "2021-11-29T08:45:22.184Z"
   },
   {
    "duration": 33,
    "start_time": "2021-11-29T09:03:49.652Z"
   },
   {
    "duration": 39,
    "start_time": "2021-11-29T09:04:35.972Z"
   },
   {
    "duration": 32,
    "start_time": "2021-11-29T09:04:49.206Z"
   },
   {
    "duration": 9,
    "start_time": "2021-11-29T09:11:55.632Z"
   },
   {
    "duration": 8,
    "start_time": "2021-11-29T09:12:07.653Z"
   },
   {
    "duration": 9,
    "start_time": "2021-11-29T09:12:24.455Z"
   },
   {
    "duration": 8,
    "start_time": "2021-11-29T09:12:42.355Z"
   },
   {
    "duration": 9,
    "start_time": "2021-11-29T09:12:55.875Z"
   },
   {
    "duration": 9,
    "start_time": "2021-11-29T09:13:00.582Z"
   },
   {
    "duration": 8,
    "start_time": "2021-11-29T09:13:20.971Z"
   },
   {
    "duration": 9,
    "start_time": "2021-11-29T09:13:37.647Z"
   },
   {
    "duration": 8,
    "start_time": "2021-11-29T09:15:33.706Z"
   },
   {
    "duration": 9,
    "start_time": "2021-11-29T09:15:39.027Z"
   },
   {
    "duration": 8,
    "start_time": "2021-11-29T09:15:59.402Z"
   },
   {
    "duration": 8,
    "start_time": "2021-11-29T09:16:09.571Z"
   },
   {
    "duration": 11,
    "start_time": "2021-11-29T09:16:17.980Z"
   },
   {
    "duration": 30,
    "start_time": "2021-11-29T09:17:24.500Z"
   },
   {
    "duration": 287,
    "start_time": "2021-11-29T09:19:03.179Z"
   },
   {
    "duration": 24,
    "start_time": "2021-11-29T09:19:07.746Z"
   },
   {
    "duration": 32,
    "start_time": "2021-11-29T09:19:55.641Z"
   },
   {
    "duration": 15,
    "start_time": "2021-11-29T09:21:21.318Z"
   },
   {
    "duration": 56,
    "start_time": "2021-11-29T09:21:23.446Z"
   },
   {
    "duration": 25,
    "start_time": "2021-11-29T09:21:35.602Z"
   },
   {
    "duration": 33,
    "start_time": "2021-11-29T09:23:36.556Z"
   },
   {
    "duration": 136,
    "start_time": "2021-11-29T09:23:57.125Z"
   },
   {
    "duration": 38,
    "start_time": "2021-11-29T09:24:01.637Z"
   },
   {
    "duration": 34,
    "start_time": "2021-11-29T09:29:21.346Z"
   },
   {
    "duration": 8,
    "start_time": "2021-11-29T11:43:21.020Z"
   },
   {
    "duration": 22,
    "start_time": "2021-11-29T11:44:10.404Z"
   },
   {
    "duration": 34,
    "start_time": "2021-11-29T11:44:15.296Z"
   },
   {
    "duration": 27,
    "start_time": "2021-11-29T11:46:25.189Z"
   },
   {
    "duration": 36,
    "start_time": "2021-11-29T12:04:23.184Z"
   },
   {
    "duration": 11,
    "start_time": "2021-11-29T13:44:41.568Z"
   },
   {
    "duration": 12,
    "start_time": "2021-11-29T13:44:57.261Z"
   },
   {
    "duration": 12,
    "start_time": "2021-11-29T13:45:02.550Z"
   },
   {
    "duration": 35,
    "start_time": "2021-11-29T13:45:16.204Z"
   },
   {
    "duration": 26,
    "start_time": "2021-11-29T13:45:45.088Z"
   },
   {
    "duration": 3555,
    "start_time": "2021-11-29T13:46:33.849Z"
   },
   {
    "duration": 1610,
    "start_time": "2021-11-29T13:46:37.407Z"
   },
   {
    "duration": 48,
    "start_time": "2021-11-29T13:46:39.020Z"
   },
   {
    "duration": 24,
    "start_time": "2021-11-29T13:46:39.070Z"
   },
   {
    "duration": 38,
    "start_time": "2021-11-29T13:46:39.096Z"
   },
   {
    "duration": 46,
    "start_time": "2021-11-29T13:46:39.136Z"
   },
   {
    "duration": 32,
    "start_time": "2021-11-29T13:46:39.184Z"
   },
   {
    "duration": 634,
    "start_time": "2021-11-29T13:46:39.219Z"
   },
   {
    "duration": 41,
    "start_time": "2021-11-29T13:46:39.856Z"
   },
   {
    "duration": 56,
    "start_time": "2021-11-29T13:46:39.900Z"
   },
   {
    "duration": 4,
    "start_time": "2021-11-29T13:46:39.958Z"
   },
   {
    "duration": 33,
    "start_time": "2021-11-29T13:46:39.964Z"
   },
   {
    "duration": 22,
    "start_time": "2021-11-29T13:46:39.999Z"
   },
   {
    "duration": 10,
    "start_time": "2021-11-29T13:46:40.030Z"
   },
   {
    "duration": 28,
    "start_time": "2021-11-29T13:46:40.042Z"
   },
   {
    "duration": 32,
    "start_time": "2021-11-29T13:46:40.072Z"
   },
   {
    "duration": 33,
    "start_time": "2021-11-29T13:46:40.106Z"
   },
   {
    "duration": 25,
    "start_time": "2021-11-29T13:46:40.141Z"
   },
   {
    "duration": 31,
    "start_time": "2021-11-29T13:46:40.169Z"
   },
   {
    "duration": 60,
    "start_time": "2021-11-29T13:46:40.202Z"
   },
   {
    "duration": 33,
    "start_time": "2021-11-29T13:46:40.264Z"
   },
   {
    "duration": 53,
    "start_time": "2021-11-29T13:46:40.299Z"
   },
   {
    "duration": 35,
    "start_time": "2021-11-29T13:46:40.356Z"
   },
   {
    "duration": 64,
    "start_time": "2021-11-29T13:46:40.394Z"
   },
   {
    "duration": 30,
    "start_time": "2021-11-29T13:46:40.461Z"
   },
   {
    "duration": 7,
    "start_time": "2021-11-29T13:46:40.494Z"
   },
   {
    "duration": 33,
    "start_time": "2021-11-29T13:46:40.503Z"
   },
   {
    "duration": 16,
    "start_time": "2021-11-29T13:46:40.538Z"
   },
   {
    "duration": 39,
    "start_time": "2021-11-29T13:46:40.557Z"
   },
   {
    "duration": 3518,
    "start_time": "2021-11-29T13:47:02.522Z"
   },
   {
    "duration": 4,
    "start_time": "2021-11-29T13:47:08.364Z"
   },
   {
    "duration": 49,
    "start_time": "2021-11-29T13:47:12.752Z"
   },
   {
    "duration": 21,
    "start_time": "2021-11-29T13:47:13.530Z"
   },
   {
    "duration": 19,
    "start_time": "2021-11-29T13:47:14.315Z"
   },
   {
    "duration": 25,
    "start_time": "2021-11-29T13:47:15.459Z"
   },
   {
    "duration": 20,
    "start_time": "2021-11-29T13:47:17.147Z"
   },
   {
    "duration": 25,
    "start_time": "2021-11-29T13:47:18.253Z"
   },
   {
    "duration": 40,
    "start_time": "2021-11-29T13:47:21.421Z"
   },
   {
    "duration": 38,
    "start_time": "2021-11-29T13:47:22.180Z"
   },
   {
    "duration": 5,
    "start_time": "2021-11-29T13:47:25.466Z"
   },
   {
    "duration": 29,
    "start_time": "2021-11-29T13:47:27.389Z"
   },
   {
    "duration": 6,
    "start_time": "2021-11-29T13:47:31.973Z"
   },
   {
    "duration": 8,
    "start_time": "2021-11-29T13:47:33.219Z"
   },
   {
    "duration": 23,
    "start_time": "2021-11-29T13:47:35.800Z"
   },
   {
    "duration": 26,
    "start_time": "2021-11-29T13:47:37.583Z"
   },
   {
    "duration": 16,
    "start_time": "2021-11-29T13:47:45.731Z"
   },
   {
    "duration": 27,
    "start_time": "2021-11-29T13:47:47.886Z"
   },
   {
    "duration": 32,
    "start_time": "2021-11-29T13:48:05.123Z"
   },
   {
    "duration": 28,
    "start_time": "2021-11-29T13:48:09.380Z"
   },
   {
    "duration": 32,
    "start_time": "2021-11-29T13:48:17.940Z"
   },
   {
    "duration": 30,
    "start_time": "2021-11-29T13:48:28.303Z"
   },
   {
    "duration": 19,
    "start_time": "2021-11-29T13:56:35.022Z"
   },
   {
    "duration": 73,
    "start_time": "2021-11-29T13:57:19.921Z"
   },
   {
    "duration": 62,
    "start_time": "2021-11-29T13:57:45.783Z"
   },
   {
    "duration": 52,
    "start_time": "2021-11-29T13:59:38.984Z"
   },
   {
    "duration": 53,
    "start_time": "2021-11-29T13:59:52.008Z"
   },
   {
    "duration": 54,
    "start_time": "2021-11-29T14:00:14.194Z"
   },
   {
    "duration": 42,
    "start_time": "2021-11-29T14:13:05.706Z"
   },
   {
    "duration": 9,
    "start_time": "2021-11-29T14:14:15.936Z"
   },
   {
    "duration": 8,
    "start_time": "2021-11-29T14:14:30.787Z"
   },
   {
    "duration": 9,
    "start_time": "2021-11-29T14:14:37.340Z"
   },
   {
    "duration": 3595,
    "start_time": "2021-11-29T15:30:54.940Z"
   },
   {
    "duration": 2294,
    "start_time": "2021-11-29T15:31:05.108Z"
   },
   {
    "duration": 49,
    "start_time": "2021-11-29T15:31:12.688Z"
   },
   {
    "duration": 24,
    "start_time": "2021-11-29T15:31:13.578Z"
   },
   {
    "duration": 20,
    "start_time": "2021-11-29T15:31:14.545Z"
   },
   {
    "duration": 29,
    "start_time": "2021-11-29T15:31:15.516Z"
   },
   {
    "duration": 29,
    "start_time": "2021-11-29T15:31:16.453Z"
   },
   {
    "duration": 687,
    "start_time": "2021-11-29T15:31:17.503Z"
   },
   {
    "duration": 42,
    "start_time": "2021-11-29T15:31:21.721Z"
   },
   {
    "duration": 38,
    "start_time": "2021-11-29T15:31:29.053Z"
   },
   {
    "duration": 5,
    "start_time": "2021-11-29T15:31:32.895Z"
   },
   {
    "duration": 30,
    "start_time": "2021-11-29T15:31:33.733Z"
   },
   {
    "duration": 5,
    "start_time": "2021-11-29T15:31:37.646Z"
   },
   {
    "duration": 8,
    "start_time": "2021-11-29T15:31:38.999Z"
   },
   {
    "duration": 29,
    "start_time": "2021-11-29T15:31:52.681Z"
   },
   {
    "duration": 8,
    "start_time": "2021-11-29T15:32:15.873Z"
   },
   {
    "duration": 14,
    "start_time": "2021-11-29T15:33:29.511Z"
   },
   {
    "duration": 4,
    "start_time": "2021-11-29T15:33:34.326Z"
   },
   {
    "duration": 4,
    "start_time": "2021-11-29T15:33:41.304Z"
   },
   {
    "duration": 450,
    "start_time": "2021-11-29T15:33:51.084Z"
   },
   {
    "duration": 408,
    "start_time": "2021-11-29T15:34:05.719Z"
   },
   {
    "duration": 48,
    "start_time": "2021-11-29T15:34:18.986Z"
   },
   {
    "duration": 30,
    "start_time": "2021-11-29T15:34:37.830Z"
   },
   {
    "duration": 5,
    "start_time": "2021-11-29T15:34:46.821Z"
   },
   {
    "duration": 6,
    "start_time": "2021-11-29T15:34:50.426Z"
   },
   {
    "duration": 28,
    "start_time": "2021-11-29T15:35:05.253Z"
   },
   {
    "duration": 14,
    "start_time": "2021-11-29T15:35:13.328Z"
   },
   {
    "duration": 4,
    "start_time": "2021-11-29T15:35:16.960Z"
   },
   {
    "duration": 47,
    "start_time": "2021-11-29T15:37:16.398Z"
   },
   {
    "duration": 4,
    "start_time": "2021-11-29T15:37:22.286Z"
   },
   {
    "duration": 34,
    "start_time": "2021-11-29T15:37:43.158Z"
   },
   {
    "duration": 286,
    "start_time": "2021-11-29T15:40:18.407Z"
   },
   {
    "duration": 47,
    "start_time": "2021-11-29T15:40:30.006Z"
   },
   {
    "duration": 4,
    "start_time": "2021-11-29T15:40:38.094Z"
   },
   {
    "duration": 30,
    "start_time": "2021-11-29T15:40:50.835Z"
   },
   {
    "duration": 306,
    "start_time": "2021-11-29T15:41:03.148Z"
   },
   {
    "duration": 298,
    "start_time": "2021-11-29T15:41:22.226Z"
   },
   {
    "duration": 10,
    "start_time": "2021-11-29T15:41:26.846Z"
   },
   {
    "duration": 3,
    "start_time": "2021-11-29T15:41:28.992Z"
   },
   {
    "duration": 47,
    "start_time": "2021-11-29T15:41:39.368Z"
   },
   {
    "duration": 20,
    "start_time": "2021-11-29T15:41:42.963Z"
   },
   {
    "duration": 4,
    "start_time": "2021-11-29T15:41:49.804Z"
   },
   {
    "duration": 32,
    "start_time": "2021-11-29T15:41:50.645Z"
   },
   {
    "duration": 29,
    "start_time": "2021-11-29T15:42:02.614Z"
   },
   {
    "duration": 12,
    "start_time": "2021-11-29T15:42:11.929Z"
   },
   {
    "duration": 4,
    "start_time": "2021-11-29T15:42:12.886Z"
   },
   {
    "duration": 51,
    "start_time": "2021-11-29T15:42:56.047Z"
   },
   {
    "duration": 21,
    "start_time": "2021-11-29T15:42:56.847Z"
   },
   {
    "duration": 5,
    "start_time": "2021-11-29T15:43:01.168Z"
   },
   {
    "duration": 30,
    "start_time": "2021-11-29T15:43:03.528Z"
   },
   {
    "duration": 30,
    "start_time": "2021-11-29T15:43:18.106Z"
   },
   {
    "duration": 11,
    "start_time": "2021-11-29T15:44:15.866Z"
   },
   {
    "duration": 4,
    "start_time": "2021-11-29T15:44:18.043Z"
   },
   {
    "duration": 3524,
    "start_time": "2021-11-29T15:44:42.040Z"
   },
   {
    "duration": 1558,
    "start_time": "2021-11-29T15:44:51.451Z"
   },
   {
    "duration": 49,
    "start_time": "2021-11-29T15:44:55.144Z"
   },
   {
    "duration": 24,
    "start_time": "2021-11-29T15:44:56.896Z"
   },
   {
    "duration": 4,
    "start_time": "2021-11-29T15:45:03.081Z"
   },
   {
    "duration": 32,
    "start_time": "2021-11-29T15:45:04.595Z"
   },
   {
    "duration": 31,
    "start_time": "2021-11-29T15:45:10.317Z"
   },
   {
    "duration": 13,
    "start_time": "2021-11-29T15:45:17.446Z"
   },
   {
    "duration": 3,
    "start_time": "2021-11-29T15:45:19.084Z"
   },
   {
    "duration": 3367,
    "start_time": "2021-11-29T15:46:27.489Z"
   },
   {
    "duration": 1556,
    "start_time": "2021-11-29T15:46:32.235Z"
   },
   {
    "duration": 4,
    "start_time": "2021-11-29T15:46:35.183Z"
   },
   {
    "duration": 48,
    "start_time": "2021-11-29T15:46:38.891Z"
   },
   {
    "duration": 25,
    "start_time": "2021-11-29T15:46:40.807Z"
   },
   {
    "duration": 4,
    "start_time": "2021-11-29T15:46:46.015Z"
   },
   {
    "duration": 31,
    "start_time": "2021-11-29T15:46:46.960Z"
   },
   {
    "duration": 30,
    "start_time": "2021-11-29T15:47:40.867Z"
   },
   {
    "duration": 20,
    "start_time": "2021-11-29T15:48:44.576Z"
   },
   {
    "duration": 15,
    "start_time": "2021-11-29T15:49:05.132Z"
   },
   {
    "duration": 32,
    "start_time": "2021-11-29T15:49:11.929Z"
   },
   {
    "duration": 618,
    "start_time": "2021-11-29T15:51:05.187Z"
   },
   {
    "duration": 3396,
    "start_time": "2021-11-29T15:58:43.128Z"
   },
   {
    "duration": 1544,
    "start_time": "2021-11-29T15:58:47.655Z"
   },
   {
    "duration": 4,
    "start_time": "2021-11-29T15:58:50.255Z"
   },
   {
    "duration": 49,
    "start_time": "2021-11-29T15:58:52.277Z"
   },
   {
    "duration": 25,
    "start_time": "2021-11-29T15:58:54.267Z"
   },
   {
    "duration": 5,
    "start_time": "2021-11-29T15:59:01.765Z"
   },
   {
    "duration": 31,
    "start_time": "2021-11-29T15:59:03.492Z"
   },
   {
    "duration": 29,
    "start_time": "2021-11-29T15:59:19.480Z"
   },
   {
    "duration": 38,
    "start_time": "2021-11-29T16:00:11.352Z"
   },
   {
    "duration": 31,
    "start_time": "2021-11-29T16:00:19.591Z"
   },
   {
    "duration": 5,
    "start_time": "2021-11-29T16:00:39.172Z"
   },
   {
    "duration": 6,
    "start_time": "2021-11-29T16:01:05.444Z"
   },
   {
    "duration": 6,
    "start_time": "2021-11-29T16:01:08.583Z"
   },
   {
    "duration": 20,
    "start_time": "2021-11-29T16:01:21.267Z"
   },
   {
    "duration": 33,
    "start_time": "2021-11-29T16:01:47.421Z"
   },
   {
    "duration": 6,
    "start_time": "2021-11-29T16:02:03.453Z"
   },
   {
    "duration": 10,
    "start_time": "2021-11-29T16:40:40.628Z"
   },
   {
    "duration": 10,
    "start_time": "2021-11-29T16:40:59.428Z"
   },
   {
    "duration": 33,
    "start_time": "2021-11-29T16:43:14.697Z"
   },
   {
    "duration": 11,
    "start_time": "2021-11-29T16:43:19.428Z"
   },
   {
    "duration": 24,
    "start_time": "2021-11-29T16:44:21.314Z"
   },
   {
    "duration": 8,
    "start_time": "2021-11-29T16:45:40.225Z"
   },
   {
    "duration": 31,
    "start_time": "2021-11-29T16:45:48.502Z"
   },
   {
    "duration": 38,
    "start_time": "2021-11-29T16:46:11.356Z"
   },
   {
    "duration": 40,
    "start_time": "2021-11-29T16:47:10.811Z"
   },
   {
    "duration": 4074,
    "start_time": "2021-11-29T16:50:19.865Z"
   },
   {
    "duration": 318,
    "start_time": "2021-11-29T16:50:31.840Z"
   },
   {
    "duration": 300,
    "start_time": "2021-11-29T16:51:02.803Z"
   },
   {
    "duration": 272,
    "start_time": "2021-11-29T16:51:12.381Z"
   },
   {
    "duration": 315,
    "start_time": "2021-11-29T16:51:23.489Z"
   },
   {
    "duration": 282,
    "start_time": "2021-11-29T16:57:02.266Z"
   },
   {
    "duration": 279,
    "start_time": "2021-11-29T16:57:08.574Z"
   },
   {
    "duration": 4,
    "start_time": "2021-11-29T16:57:41.824Z"
   },
   {
    "duration": 267,
    "start_time": "2021-11-29T16:57:49.634Z"
   },
   {
    "duration": 8,
    "start_time": "2021-11-29T16:57:53.813Z"
   },
   {
    "duration": 8,
    "start_time": "2021-11-29T16:58:15.939Z"
   },
   {
    "duration": 33,
    "start_time": "2021-11-29T16:58:30.267Z"
   },
   {
    "duration": 48,
    "start_time": "2021-11-29T16:59:46.062Z"
   },
   {
    "duration": 20,
    "start_time": "2021-11-29T16:59:47.946Z"
   },
   {
    "duration": 13,
    "start_time": "2021-11-29T16:59:53.509Z"
   },
   {
    "duration": 7,
    "start_time": "2021-11-29T16:59:56.266Z"
   },
   {
    "duration": 710,
    "start_time": "2021-11-29T17:00:04.615Z"
   },
   {
    "duration": 28,
    "start_time": "2021-11-29T17:00:16.450Z"
   },
   {
    "duration": 31,
    "start_time": "2021-11-29T17:00:47.606Z"
   },
   {
    "duration": 22,
    "start_time": "2021-11-29T17:01:26.567Z"
   },
   {
    "duration": 54,
    "start_time": "2021-11-29T17:01:53.606Z"
   },
   {
    "duration": 23,
    "start_time": "2021-11-29T17:01:54.795Z"
   },
   {
    "duration": 25,
    "start_time": "2021-11-29T17:02:01.906Z"
   },
   {
    "duration": 6,
    "start_time": "2021-11-29T17:02:08.417Z"
   },
   {
    "duration": 6,
    "start_time": "2021-11-29T17:02:11.331Z"
   },
   {
    "duration": 25,
    "start_time": "2021-11-29T17:02:14.875Z"
   },
   {
    "duration": 29,
    "start_time": "2021-11-29T17:02:26.844Z"
   },
   {
    "duration": 26,
    "start_time": "2021-11-29T17:02:52.408Z"
   },
   {
    "duration": 37,
    "start_time": "2021-11-29T17:03:38.303Z"
   },
   {
    "duration": 21,
    "start_time": "2021-11-29T17:03:41.690Z"
   },
   {
    "duration": 4027,
    "start_time": "2021-11-29T17:04:20.404Z"
   },
   {
    "duration": 31,
    "start_time": "2021-11-29T17:04:38.700Z"
   },
   {
    "duration": 29,
    "start_time": "2021-11-29T17:04:46.640Z"
   },
   {
    "duration": 25,
    "start_time": "2021-11-29T17:04:49.544Z"
   },
   {
    "duration": 31,
    "start_time": "2021-11-29T17:05:00.835Z"
   },
   {
    "duration": 21,
    "start_time": "2021-11-29T17:05:05.372Z"
   },
   {
    "duration": 6,
    "start_time": "2021-11-29T17:05:07.807Z"
   },
   {
    "duration": 365,
    "start_time": "2021-11-29T17:06:27.523Z"
   },
   {
    "duration": 35,
    "start_time": "2021-11-29T17:06:34.344Z"
   },
   {
    "duration": 20,
    "start_time": "2021-11-29T17:06:54.951Z"
   },
   {
    "duration": 8,
    "start_time": "2021-11-29T17:07:22.317Z"
   },
   {
    "duration": 2195,
    "start_time": "2021-11-29T17:30:30.219Z"
   },
   {
    "duration": 37,
    "start_time": "2021-11-29T17:31:38.804Z"
   },
   {
    "duration": 22,
    "start_time": "2021-11-29T17:31:43.882Z"
   },
   {
    "duration": 7,
    "start_time": "2021-11-29T17:31:55.543Z"
   },
   {
    "duration": 1998,
    "start_time": "2021-11-29T17:31:57.349Z"
   },
   {
    "duration": 8,
    "start_time": "2021-11-29T17:32:22.281Z"
   },
   {
    "duration": 8,
    "start_time": "2021-11-29T17:32:42.978Z"
   },
   {
    "duration": 22,
    "start_time": "2021-11-29T17:32:47.647Z"
   },
   {
    "duration": 7,
    "start_time": "2021-11-29T17:32:54.116Z"
   },
   {
    "duration": 10,
    "start_time": "2021-11-29T17:32:56.465Z"
   },
   {
    "duration": 1565,
    "start_time": "2021-11-29T17:33:51.366Z"
   },
   {
    "duration": 17,
    "start_time": "2021-11-29T17:34:40.501Z"
   },
   {
    "duration": 19,
    "start_time": "2021-11-29T17:35:01.973Z"
   },
   {
    "duration": 21,
    "start_time": "2021-11-29T17:35:29.958Z"
   },
   {
    "duration": 59,
    "start_time": "2021-11-29T17:36:57.640Z"
   },
   {
    "duration": 987,
    "start_time": "2021-11-29T17:37:36.679Z"
   },
   {
    "duration": 8,
    "start_time": "2021-11-29T17:41:11.226Z"
   },
   {
    "duration": 38,
    "start_time": "2021-11-29T17:44:30.472Z"
   },
   {
    "duration": 4,
    "start_time": "2021-11-29T17:44:46.394Z"
   },
   {
    "duration": 11,
    "start_time": "2021-11-29T17:44:48.796Z"
   },
   {
    "duration": 47,
    "start_time": "2021-11-29T17:45:08.842Z"
   },
   {
    "duration": 21,
    "start_time": "2021-11-29T17:45:10.600Z"
   },
   {
    "duration": 4,
    "start_time": "2021-11-29T17:45:18.828Z"
   },
   {
    "duration": 6,
    "start_time": "2021-11-29T17:45:21.770Z"
   },
   {
    "duration": 33,
    "start_time": "2021-11-29T17:45:29.342Z"
   },
   {
    "duration": 29,
    "start_time": "2021-11-29T17:45:40.026Z"
   },
   {
    "duration": 26,
    "start_time": "2021-11-29T17:45:43.746Z"
   },
   {
    "duration": 33,
    "start_time": "2021-11-29T17:46:09.843Z"
   },
   {
    "duration": 20,
    "start_time": "2021-11-29T17:46:14.264Z"
   },
   {
    "duration": 9,
    "start_time": "2021-11-29T17:46:17.781Z"
   },
   {
    "duration": 19,
    "start_time": "2021-11-29T17:46:19.927Z"
   },
   {
    "duration": 8,
    "start_time": "2021-11-29T17:46:27.671Z"
   },
   {
    "duration": 18,
    "start_time": "2021-11-29T17:46:40.752Z"
   },
   {
    "duration": 21,
    "start_time": "2021-11-29T17:46:49.340Z"
   },
   {
    "duration": 15,
    "start_time": "2021-11-29T17:47:29.387Z"
   },
   {
    "duration": 5,
    "start_time": "2021-11-29T17:48:29.397Z"
   },
   {
    "duration": 34,
    "start_time": "2021-11-29T17:49:00.045Z"
   },
   {
    "duration": 40,
    "start_time": "2021-11-29T17:49:14.404Z"
   },
   {
    "duration": 47,
    "start_time": "2021-11-29T17:49:28.191Z"
   },
   {
    "duration": 20,
    "start_time": "2021-11-29T17:49:29.898Z"
   },
   {
    "duration": 4,
    "start_time": "2021-11-29T17:49:35.568Z"
   },
   {
    "duration": 5,
    "start_time": "2021-11-29T17:49:37.723Z"
   },
   {
    "duration": 32,
    "start_time": "2021-11-29T17:49:46.136Z"
   },
   {
    "duration": 31,
    "start_time": "2021-11-29T17:49:51.079Z"
   },
   {
    "duration": 27,
    "start_time": "2021-11-29T17:49:55.911Z"
   },
   {
    "duration": 57,
    "start_time": "2021-11-29T17:50:12.150Z"
   },
   {
    "duration": 8,
    "start_time": "2021-11-29T17:50:45.507Z"
   },
   {
    "duration": 7,
    "start_time": "2021-11-29T17:50:53.914Z"
   },
   {
    "duration": 48,
    "start_time": "2021-11-29T17:51:02.636Z"
   },
   {
    "duration": 5,
    "start_time": "2021-11-29T17:51:09.674Z"
   },
   {
    "duration": 6,
    "start_time": "2021-11-29T17:51:13.851Z"
   },
   {
    "duration": 33,
    "start_time": "2021-11-29T17:51:21.079Z"
   },
   {
    "duration": 30,
    "start_time": "2021-11-29T17:51:27.313Z"
   },
   {
    "duration": 29,
    "start_time": "2021-11-29T17:51:30.708Z"
   },
   {
    "duration": 10,
    "start_time": "2021-11-29T17:51:49.041Z"
   },
   {
    "duration": 291,
    "start_time": "2021-11-29T17:51:56.924Z"
   },
   {
    "duration": 46,
    "start_time": "2021-11-29T17:52:51.648Z"
   },
   {
    "duration": 6,
    "start_time": "2021-11-29T17:52:57.644Z"
   },
   {
    "duration": 6,
    "start_time": "2021-11-29T17:53:00.328Z"
   },
   {
    "duration": 32,
    "start_time": "2021-11-29T17:53:06.339Z"
   },
   {
    "duration": 31,
    "start_time": "2021-11-29T17:53:13.829Z"
   },
   {
    "duration": 26,
    "start_time": "2021-11-29T17:53:18.430Z"
   },
   {
    "duration": 295,
    "start_time": "2021-11-29T17:53:33.545Z"
   },
   {
    "duration": 43,
    "start_time": "2021-11-29T17:53:50.192Z"
   },
   {
    "duration": 34,
    "start_time": "2021-11-29T17:54:32.839Z"
   },
   {
    "duration": 22,
    "start_time": "2021-11-29T17:54:42.456Z"
   },
   {
    "duration": 9,
    "start_time": "2021-11-29T18:19:26.574Z"
   },
   {
    "duration": 20,
    "start_time": "2021-11-29T18:19:29.502Z"
   },
   {
    "duration": 22,
    "start_time": "2021-11-29T18:19:50.919Z"
   },
   {
    "duration": 8,
    "start_time": "2021-11-29T18:19:52.532Z"
   },
   {
    "duration": 32,
    "start_time": "2021-11-29T18:19:53.647Z"
   },
   {
    "duration": 9,
    "start_time": "2021-11-29T18:24:56.068Z"
   },
   {
    "duration": 27,
    "start_time": "2021-11-29T18:24:57.629Z"
   },
   {
    "duration": 41,
    "start_time": "2021-11-29T18:25:15.079Z"
   },
   {
    "duration": 10,
    "start_time": "2021-11-29T18:25:38.284Z"
   },
   {
    "duration": 47,
    "start_time": "2021-11-29T18:26:10.664Z"
   },
   {
    "duration": 5,
    "start_time": "2021-11-29T18:26:17.408Z"
   },
   {
    "duration": 6,
    "start_time": "2021-11-29T18:26:20.293Z"
   },
   {
    "duration": 32,
    "start_time": "2021-11-29T18:26:27.492Z"
   },
   {
    "duration": 40,
    "start_time": "2021-11-29T18:26:33.628Z"
   },
   {
    "duration": 26,
    "start_time": "2021-11-29T18:26:38.472Z"
   },
   {
    "duration": 41,
    "start_time": "2021-11-29T18:26:57.695Z"
   },
   {
    "duration": 23,
    "start_time": "2021-11-29T18:27:03.770Z"
   },
   {
    "duration": 9,
    "start_time": "2021-11-29T18:27:34.882Z"
   },
   {
    "duration": 31,
    "start_time": "2021-11-29T18:27:36.947Z"
   },
   {
    "duration": 19,
    "start_time": "2021-11-29T18:27:51.970Z"
   },
   {
    "duration": 6,
    "start_time": "2021-11-29T18:27:59.616Z"
   },
   {
    "duration": 25,
    "start_time": "2021-11-29T18:28:02.532Z"
   },
   {
    "duration": 34,
    "start_time": "2021-11-29T18:28:32.979Z"
   },
   {
    "duration": 290,
    "start_time": "2021-11-29T18:30:04.035Z"
   },
   {
    "duration": 49,
    "start_time": "2021-11-29T18:30:22.950Z"
   },
   {
    "duration": 4,
    "start_time": "2021-11-29T18:30:28.956Z"
   },
   {
    "duration": 6,
    "start_time": "2021-11-29T18:30:33.450Z"
   },
   {
    "duration": 33,
    "start_time": "2021-11-29T18:30:39.329Z"
   },
   {
    "duration": 29,
    "start_time": "2021-11-29T18:30:42.700Z"
   },
   {
    "duration": 26,
    "start_time": "2021-11-29T18:30:46.869Z"
   },
   {
    "duration": 35,
    "start_time": "2021-11-29T18:31:09.569Z"
   },
   {
    "duration": 9,
    "start_time": "2021-11-29T18:31:18.569Z"
   },
   {
    "duration": 288,
    "start_time": "2021-11-29T18:31:22.276Z"
   },
   {
    "duration": 42,
    "start_time": "2021-11-29T18:31:38.409Z"
   },
   {
    "duration": 10,
    "start_time": "2021-11-29T18:32:18.760Z"
   },
   {
    "duration": 31,
    "start_time": "2021-11-29T18:32:21.261Z"
   },
   {
    "duration": 7,
    "start_time": "2021-11-29T18:32:39.460Z"
   },
   {
    "duration": 33,
    "start_time": "2021-11-29T18:32:46.579Z"
   },
   {
    "duration": 5,
    "start_time": "2021-11-29T18:33:02.682Z"
   },
   {
    "duration": 44,
    "start_time": "2021-11-29T18:33:10.537Z"
   },
   {
    "duration": 13,
    "start_time": "2021-11-29T18:34:21.932Z"
   },
   {
    "duration": 20,
    "start_time": "2021-11-29T18:34:25.444Z"
   },
   {
    "duration": 39,
    "start_time": "2021-11-29T18:34:52.610Z"
   },
   {
    "duration": 7,
    "start_time": "2021-11-29T18:35:14.639Z"
   },
   {
    "duration": 14,
    "start_time": "2021-11-29T18:35:22.821Z"
   },
   {
    "duration": 48,
    "start_time": "2021-11-29T18:35:42.765Z"
   },
   {
    "duration": 4,
    "start_time": "2021-11-29T18:35:47.987Z"
   },
   {
    "duration": 6,
    "start_time": "2021-11-29T18:35:53.199Z"
   },
   {
    "duration": 32,
    "start_time": "2021-11-29T18:36:01.190Z"
   },
   {
    "duration": 29,
    "start_time": "2021-11-29T18:36:04.425Z"
   },
   {
    "duration": 26,
    "start_time": "2021-11-29T18:36:08.180Z"
   },
   {
    "duration": 36,
    "start_time": "2021-11-29T18:36:36.872Z"
   },
   {
    "duration": 10,
    "start_time": "2021-11-29T18:36:40.186Z"
   },
   {
    "duration": 7,
    "start_time": "2021-11-29T18:36:41.465Z"
   },
   {
    "duration": 339,
    "start_time": "2021-11-29T18:36:47.135Z"
   },
   {
    "duration": 275,
    "start_time": "2021-11-29T18:36:53.146Z"
   },
   {
    "duration": 11,
    "start_time": "2021-11-29T18:36:57.804Z"
   },
   {
    "duration": 7,
    "start_time": "2021-11-29T18:37:00.648Z"
   },
   {
    "duration": 30,
    "start_time": "2021-11-29T18:37:04.256Z"
   },
   {
    "duration": 20,
    "start_time": "2021-11-29T18:37:08.215Z"
   },
   {
    "duration": 15,
    "start_time": "2021-11-29T18:37:18.191Z"
   },
   {
    "duration": 39,
    "start_time": "2021-11-29T18:37:19.108Z"
   },
   {
    "duration": 20,
    "start_time": "2021-11-29T18:37:21.758Z"
   },
   {
    "duration": 290,
    "start_time": "2021-11-29T18:37:33.172Z"
   },
   {
    "duration": 338,
    "start_time": "2021-11-29T18:37:40.110Z"
   },
   {
    "duration": 6,
    "start_time": "2021-11-29T18:37:50.013Z"
   },
   {
    "duration": 31,
    "start_time": "2021-11-29T18:37:59.133Z"
   },
   {
    "duration": 51,
    "start_time": "2021-11-29T18:38:06.512Z"
   },
   {
    "duration": 5,
    "start_time": "2021-11-29T18:38:35.461Z"
   },
   {
    "duration": 45,
    "start_time": "2021-11-29T18:38:36.439Z"
   },
   {
    "duration": 8,
    "start_time": "2021-11-29T18:41:55.107Z"
   },
   {
    "duration": 14,
    "start_time": "2021-11-29T18:42:33.966Z"
   },
   {
    "duration": 37,
    "start_time": "2021-11-29T20:16:10.901Z"
   },
   {
    "duration": 20,
    "start_time": "2021-11-29T20:16:34.549Z"
   },
   {
    "duration": 10,
    "start_time": "2021-11-29T20:34:07.666Z"
   },
   {
    "duration": 10,
    "start_time": "2021-11-29T20:46:07.680Z"
   },
   {
    "duration": 33,
    "start_time": "2021-11-29T20:46:11.101Z"
   },
   {
    "duration": 15,
    "start_time": "2021-11-29T20:47:30.102Z"
   },
   {
    "duration": 6,
    "start_time": "2021-11-29T20:48:28.261Z"
   },
   {
    "duration": 46,
    "start_time": "2021-11-29T20:48:37.575Z"
   },
   {
    "duration": 3756,
    "start_time": "2021-11-29T20:55:57.783Z"
   },
   {
    "duration": 1544,
    "start_time": "2021-11-29T20:56:05.674Z"
   },
   {
    "duration": 4,
    "start_time": "2021-11-29T20:56:08.780Z"
   },
   {
    "duration": 49,
    "start_time": "2021-11-29T20:56:12.252Z"
   },
   {
    "duration": 25,
    "start_time": "2021-11-29T20:56:13.410Z"
   },
   {
    "duration": 24,
    "start_time": "2021-11-29T20:56:15.635Z"
   },
   {
    "duration": 28,
    "start_time": "2021-11-29T20:56:16.783Z"
   },
   {
    "duration": 23,
    "start_time": "2021-11-29T20:56:18.960Z"
   },
   {
    "duration": 855,
    "start_time": "2021-11-29T20:56:20.388Z"
   },
   {
    "duration": 44,
    "start_time": "2021-11-29T20:56:23.444Z"
   },
   {
    "duration": 39,
    "start_time": "2021-11-29T20:56:25.684Z"
   },
   {
    "duration": 4,
    "start_time": "2021-11-29T20:56:37.773Z"
   },
   {
    "duration": 31,
    "start_time": "2021-11-29T20:56:38.925Z"
   },
   {
    "duration": 6,
    "start_time": "2021-11-29T20:56:44.373Z"
   },
   {
    "duration": 8,
    "start_time": "2021-11-29T20:56:46.233Z"
   },
   {
    "duration": 32,
    "start_time": "2021-11-29T20:56:58.643Z"
   },
   {
    "duration": 23,
    "start_time": "2021-11-29T20:57:04.018Z"
   },
   {
    "duration": 9,
    "start_time": "2021-11-29T20:57:11.576Z"
   },
   {
    "duration": 11,
    "start_time": "2021-11-29T20:57:16.060Z"
   },
   {
    "duration": 31,
    "start_time": "2021-11-29T20:57:17.928Z"
   },
   {
    "duration": 22,
    "start_time": "2021-11-29T20:57:27.795Z"
   },
   {
    "duration": 6,
    "start_time": "2021-11-29T20:57:28.756Z"
   },
   {
    "duration": 42,
    "start_time": "2021-11-29T20:57:31.662Z"
   },
   {
    "duration": 34,
    "start_time": "2021-11-29T20:57:40.058Z"
   },
   {
    "duration": 37,
    "start_time": "2021-11-29T20:57:59.195Z"
   },
   {
    "duration": 23,
    "start_time": "2021-11-29T21:00:30.538Z"
   },
   {
    "duration": 12,
    "start_time": "2021-11-29T21:04:09.258Z"
   },
   {
    "duration": 29,
    "start_time": "2021-11-29T21:11:13.592Z"
   },
   {
    "duration": 1427,
    "start_time": "2021-11-29T21:13:23.979Z"
   },
   {
    "duration": 1303,
    "start_time": "2021-11-29T21:14:51.134Z"
   },
   {
    "duration": 9,
    "start_time": "2021-11-29T21:19:14.657Z"
   },
   {
    "duration": 12,
    "start_time": "2021-11-29T21:19:19.966Z"
   },
   {
    "duration": 1623,
    "start_time": "2021-11-29T21:31:00.638Z"
   },
   {
    "duration": 290,
    "start_time": "2021-11-29T21:31:26.669Z"
   },
   {
    "duration": 19,
    "start_time": "2021-11-29T21:31:49.051Z"
   },
   {
    "duration": 428,
    "start_time": "2021-11-29T21:33:08.906Z"
   },
   {
    "duration": 13,
    "start_time": "2021-11-29T21:33:17.283Z"
   },
   {
    "duration": 19,
    "start_time": "2021-11-29T21:33:32.899Z"
   },
   {
    "duration": 1228,
    "start_time": "2021-11-29T21:48:55.015Z"
   },
   {
    "duration": 1212,
    "start_time": "2021-11-29T21:52:46.136Z"
   },
   {
    "duration": 1191,
    "start_time": "2021-11-29T21:54:22.808Z"
   },
   {
    "duration": 82,
    "start_time": "2021-11-29T22:00:58.909Z"
   },
   {
    "duration": 108,
    "start_time": "2021-11-29T22:01:04.053Z"
   },
   {
    "duration": 44,
    "start_time": "2021-11-29T22:01:59.284Z"
   },
   {
    "duration": 12,
    "start_time": "2021-11-29T22:02:57.332Z"
   },
   {
    "duration": 18,
    "start_time": "2021-11-29T22:03:29.783Z"
   },
   {
    "duration": 19,
    "start_time": "2021-11-29T22:04:42.604Z"
   },
   {
    "duration": 19,
    "start_time": "2021-11-29T22:04:44.454Z"
   },
   {
    "duration": 19,
    "start_time": "2021-11-29T22:10:42.191Z"
   },
   {
    "duration": 31,
    "start_time": "2021-11-29T22:10:50.673Z"
   },
   {
    "duration": 20,
    "start_time": "2021-11-29T22:10:56.293Z"
   },
   {
    "duration": 13,
    "start_time": "2021-11-29T22:11:08.565Z"
   },
   {
    "duration": 22,
    "start_time": "2021-11-29T22:16:47.053Z"
   },
   {
    "duration": 3886,
    "start_time": "2021-11-29T22:24:25.079Z"
   },
   {
    "duration": 1564,
    "start_time": "2021-11-29T22:24:31.731Z"
   },
   {
    "duration": 4,
    "start_time": "2021-11-29T22:24:34.799Z"
   },
   {
    "duration": 48,
    "start_time": "2021-11-29T22:24:39.013Z"
   },
   {
    "duration": 25,
    "start_time": "2021-11-29T22:24:40.159Z"
   },
   {
    "duration": 19,
    "start_time": "2021-11-29T22:24:40.847Z"
   },
   {
    "duration": 25,
    "start_time": "2021-11-29T22:24:43.346Z"
   },
   {
    "duration": 19,
    "start_time": "2021-11-29T22:24:45.067Z"
   },
   {
    "duration": 608,
    "start_time": "2021-11-29T22:24:48.091Z"
   },
   {
    "duration": 39,
    "start_time": "2021-11-29T22:24:51.654Z"
   },
   {
    "duration": 37,
    "start_time": "2021-11-29T22:24:54.290Z"
   },
   {
    "duration": 4,
    "start_time": "2021-11-29T22:26:38.163Z"
   },
   {
    "duration": 30,
    "start_time": "2021-11-29T22:26:39.545Z"
   },
   {
    "duration": 6,
    "start_time": "2021-11-29T22:26:43.773Z"
   },
   {
    "duration": 8,
    "start_time": "2021-11-29T22:26:45.035Z"
   },
   {
    "duration": 33,
    "start_time": "2021-11-29T22:26:48.009Z"
   },
   {
    "duration": 10,
    "start_time": "2021-11-29T22:26:51.699Z"
   },
   {
    "duration": 13,
    "start_time": "2021-11-29T22:26:53.922Z"
   },
   {
    "duration": 29,
    "start_time": "2021-11-29T22:26:55.493Z"
   },
   {
    "duration": 17,
    "start_time": "2021-11-29T22:27:02.741Z"
   },
   {
    "duration": 6,
    "start_time": "2021-11-29T22:27:04.345Z"
   },
   {
    "duration": 21,
    "start_time": "2021-11-29T22:27:45.550Z"
   },
   {
    "duration": 22,
    "start_time": "2021-11-29T22:27:47.795Z"
   },
   {
    "duration": 42,
    "start_time": "2021-11-29T22:27:52.350Z"
   },
   {
    "duration": 33,
    "start_time": "2021-11-29T22:28:05.365Z"
   },
   {
    "duration": 397,
    "start_time": "2021-11-30T15:05:05.152Z"
   },
   {
    "duration": 14591,
    "start_time": "2021-11-30T15:05:11.008Z"
   },
   {
    "duration": 1681,
    "start_time": "2021-11-30T15:05:58.686Z"
   },
   {
    "duration": 4,
    "start_time": "2021-11-30T15:06:03.266Z"
   },
   {
    "duration": 52,
    "start_time": "2021-11-30T15:06:05.021Z"
   },
   {
    "duration": 25,
    "start_time": "2021-11-30T15:06:07.172Z"
   },
   {
    "duration": 20,
    "start_time": "2021-11-30T15:06:08.094Z"
   },
   {
    "duration": 26,
    "start_time": "2021-11-30T15:06:09.753Z"
   },
   {
    "duration": 29,
    "start_time": "2021-11-30T15:06:11.015Z"
   },
   {
    "duration": 758,
    "start_time": "2021-11-30T15:06:12.016Z"
   },
   {
    "duration": 59,
    "start_time": "2021-11-30T15:06:14.884Z"
   },
   {
    "duration": 58,
    "start_time": "2021-11-30T15:06:16.041Z"
   },
   {
    "duration": 4,
    "start_time": "2021-11-30T15:06:20.633Z"
   },
   {
    "duration": 30,
    "start_time": "2021-11-30T15:06:21.852Z"
   },
   {
    "duration": 5,
    "start_time": "2021-11-30T15:06:24.381Z"
   },
   {
    "duration": 8,
    "start_time": "2021-11-30T15:06:27.082Z"
   },
   {
    "duration": 37,
    "start_time": "2021-11-30T15:06:30.190Z"
   },
   {
    "duration": 11,
    "start_time": "2021-11-30T15:06:32.515Z"
   },
   {
    "duration": 11,
    "start_time": "2021-11-30T15:06:35.696Z"
   },
   {
    "duration": 31,
    "start_time": "2021-11-30T15:06:36.789Z"
   },
   {
    "duration": 16,
    "start_time": "2021-11-30T15:06:38.836Z"
   },
   {
    "duration": 6,
    "start_time": "2021-11-30T15:06:40.299Z"
   },
   {
    "duration": 22,
    "start_time": "2021-11-30T15:06:42.662Z"
   },
   {
    "duration": 23,
    "start_time": "2021-11-30T15:06:43.456Z"
   },
   {
    "duration": 62,
    "start_time": "2021-11-30T15:06:45.845Z"
   },
   {
    "duration": 48,
    "start_time": "2021-11-30T15:06:48.545Z"
   },
   {
    "duration": 13,
    "start_time": "2021-11-30T15:44:50.333Z"
   },
   {
    "duration": 22,
    "start_time": "2021-11-30T15:45:03.913Z"
   },
   {
    "duration": 20,
    "start_time": "2021-11-30T15:47:55.916Z"
   },
   {
    "duration": 22,
    "start_time": "2021-11-30T15:48:19.594Z"
   },
   {
    "duration": 20,
    "start_time": "2021-11-30T15:48:34.780Z"
   },
   {
    "duration": 22,
    "start_time": "2021-11-30T15:48:43.023Z"
   },
   {
    "duration": 372,
    "start_time": "2021-11-30T16:00:32.147Z"
   },
   {
    "duration": 546,
    "start_time": "2021-11-30T16:00:45.654Z"
   },
   {
    "duration": 314,
    "start_time": "2021-11-30T16:05:32.099Z"
   },
   {
    "duration": 384,
    "start_time": "2021-11-30T16:06:31.289Z"
   },
   {
    "duration": 628,
    "start_time": "2021-11-30T16:06:41.039Z"
   },
   {
    "duration": 523,
    "start_time": "2021-11-30T16:07:01.619Z"
   },
   {
    "duration": 342,
    "start_time": "2021-11-30T16:11:45.033Z"
   },
   {
    "duration": 342,
    "start_time": "2021-11-30T16:11:50.443Z"
   },
   {
    "duration": 749,
    "start_time": "2021-11-30T16:16:19.647Z"
   },
   {
    "duration": 333,
    "start_time": "2021-11-30T16:16:39.056Z"
   },
   {
    "duration": 639,
    "start_time": "2021-11-30T16:17:01.730Z"
   },
   {
    "duration": 401,
    "start_time": "2021-11-30T16:23:00.047Z"
   },
   {
    "duration": 356,
    "start_time": "2021-11-30T16:23:47.090Z"
   },
   {
    "duration": 518,
    "start_time": "2021-11-30T16:24:21.097Z"
   },
   {
    "duration": 355,
    "start_time": "2021-11-30T16:24:32.947Z"
   },
   {
    "duration": 702,
    "start_time": "2021-11-30T16:25:30.123Z"
   },
   {
    "duration": 640,
    "start_time": "2021-11-30T16:27:02.820Z"
   },
   {
    "duration": 894,
    "start_time": "2021-11-30T16:27:25.323Z"
   },
   {
    "duration": 904,
    "start_time": "2021-11-30T16:28:06.063Z"
   },
   {
    "duration": 624,
    "start_time": "2021-11-30T16:28:23.396Z"
   },
   {
    "duration": 26,
    "start_time": "2021-11-30T16:46:01.356Z"
   },
   {
    "duration": 22,
    "start_time": "2021-11-30T16:47:22.883Z"
   },
   {
    "duration": 6021,
    "start_time": "2021-11-30T16:56:44.762Z"
   },
   {
    "duration": 11,
    "start_time": "2021-11-30T16:58:48.529Z"
   },
   {
    "duration": 12,
    "start_time": "2021-11-30T16:59:06.574Z"
   },
   {
    "duration": 17,
    "start_time": "2021-11-30T16:59:11.497Z"
   },
   {
    "duration": 527,
    "start_time": "2021-11-30T17:06:19.844Z"
   },
   {
    "duration": 296,
    "start_time": "2021-11-30T17:07:17.971Z"
   },
   {
    "duration": 18,
    "start_time": "2021-11-30T17:07:32.584Z"
   },
   {
    "duration": 513,
    "start_time": "2021-11-30T17:07:35.424Z"
   },
   {
    "duration": 535,
    "start_time": "2021-11-30T17:15:18.496Z"
   },
   {
    "duration": 36,
    "start_time": "2021-11-30T17:20:19.368Z"
   },
   {
    "duration": 3544,
    "start_time": "2021-11-30T17:21:59.065Z"
   },
   {
    "duration": 20,
    "start_time": "2021-11-30T17:22:09.765Z"
   },
   {
    "duration": 307,
    "start_time": "2021-11-30T17:22:43.101Z"
   },
   {
    "duration": 278,
    "start_time": "2021-11-30T17:24:04.099Z"
   },
   {
    "duration": 2789,
    "start_time": "2021-11-30T17:24:14.252Z"
   },
   {
    "duration": 1943,
    "start_time": "2021-11-30T17:24:21.001Z"
   },
   {
    "duration": 85,
    "start_time": "2021-11-30T17:28:49.859Z"
   },
   {
    "duration": 2480,
    "start_time": "2021-11-30T17:28:58.753Z"
   },
   {
    "duration": 2212,
    "start_time": "2021-11-30T17:29:08.586Z"
   },
   {
    "duration": 2050,
    "start_time": "2021-11-30T17:29:26.839Z"
   },
   {
    "duration": 2155,
    "start_time": "2021-11-30T17:29:40.406Z"
   },
   {
    "duration": 2117,
    "start_time": "2021-11-30T17:30:31.696Z"
   },
   {
    "duration": 2110,
    "start_time": "2021-11-30T17:34:50.829Z"
   },
   {
    "duration": 2133,
    "start_time": "2021-11-30T17:35:08.137Z"
   },
   {
    "duration": 52,
    "start_time": "2021-11-30T17:35:50.710Z"
   },
   {
    "duration": 2648,
    "start_time": "2021-11-30T17:35:54.340Z"
   },
   {
    "duration": 35,
    "start_time": "2021-11-30T17:41:14.193Z"
   },
   {
    "duration": 48,
    "start_time": "2021-11-30T17:41:56.140Z"
   },
   {
    "duration": 663,
    "start_time": "2021-11-30T17:43:20.568Z"
   },
   {
    "duration": 38,
    "start_time": "2021-11-30T17:43:48.581Z"
   },
   {
    "duration": 688,
    "start_time": "2021-11-30T17:43:51.759Z"
   },
   {
    "duration": 36,
    "start_time": "2021-11-30T17:44:22.545Z"
   },
   {
    "duration": 663,
    "start_time": "2021-11-30T17:44:40.446Z"
   },
   {
    "duration": 1038,
    "start_time": "2021-11-30T17:45:48.368Z"
   },
   {
    "duration": 38,
    "start_time": "2021-11-30T17:47:23.259Z"
   },
   {
    "duration": 1206,
    "start_time": "2021-11-30T17:47:26.581Z"
   },
   {
    "duration": 1014,
    "start_time": "2021-11-30T17:47:47.035Z"
   },
   {
    "duration": 7,
    "start_time": "2021-11-30T18:10:52.410Z"
   },
   {
    "duration": 15,
    "start_time": "2021-11-30T18:11:13.038Z"
   },
   {
    "duration": 5,
    "start_time": "2021-11-30T18:13:59.070Z"
   },
   {
    "duration": 15,
    "start_time": "2021-11-30T18:14:09.572Z"
   },
   {
    "duration": 307,
    "start_time": "2021-11-30T18:16:40.596Z"
   },
   {
    "duration": 253,
    "start_time": "2021-11-30T18:16:54.510Z"
   },
   {
    "duration": 521,
    "start_time": "2021-11-30T18:17:08.655Z"
   },
   {
    "duration": 491,
    "start_time": "2021-11-30T18:17:32.709Z"
   },
   {
    "duration": 486,
    "start_time": "2021-11-30T18:18:04.848Z"
   },
   {
    "duration": 482,
    "start_time": "2021-11-30T18:18:15.006Z"
   },
   {
    "duration": 46,
    "start_time": "2021-11-30T18:25:52.121Z"
   },
   {
    "duration": 807,
    "start_time": "2021-11-30T18:25:54.209Z"
   },
   {
    "duration": 294,
    "start_time": "2021-11-30T19:04:04.413Z"
   },
   {
    "duration": 703,
    "start_time": "2021-11-30T19:04:46.513Z"
   },
   {
    "duration": 7,
    "start_time": "2021-11-30T20:14:41.766Z"
   },
   {
    "duration": 35,
    "start_time": "2021-11-30T20:14:51.216Z"
   },
   {
    "duration": 38,
    "start_time": "2021-11-30T20:15:13.733Z"
   },
   {
    "duration": 17,
    "start_time": "2021-11-30T20:31:39.690Z"
   },
   {
    "duration": 17,
    "start_time": "2021-11-30T20:31:49.138Z"
   },
   {
    "duration": 32,
    "start_time": "2021-11-30T20:32:01.815Z"
   },
   {
    "duration": 50,
    "start_time": "2021-11-30T20:34:38.200Z"
   },
   {
    "duration": 19,
    "start_time": "2021-11-30T20:37:35.001Z"
   },
   {
    "duration": 544,
    "start_time": "2021-11-30T20:39:07.379Z"
   },
   {
    "duration": 16,
    "start_time": "2021-11-30T20:39:55.350Z"
   },
   {
    "duration": 545,
    "start_time": "2021-11-30T20:39:58.093Z"
   },
   {
    "duration": 30,
    "start_time": "2021-11-30T20:40:24.308Z"
   },
   {
    "duration": 16,
    "start_time": "2021-11-30T20:40:47.833Z"
   },
   {
    "duration": 17,
    "start_time": "2021-11-30T20:41:08.464Z"
   },
   {
    "duration": 553,
    "start_time": "2021-11-30T20:41:12.147Z"
   },
   {
    "duration": 38,
    "start_time": "2021-11-30T20:43:52.283Z"
   },
   {
    "duration": 40,
    "start_time": "2021-11-30T20:43:55.287Z"
   },
   {
    "duration": 23,
    "start_time": "2021-11-30T20:43:58.649Z"
   },
   {
    "duration": 724,
    "start_time": "2021-11-30T20:44:03.636Z"
   },
   {
    "duration": 643,
    "start_time": "2021-11-30T20:54:46.646Z"
   },
   {
    "duration": 617,
    "start_time": "2021-11-30T20:54:50.802Z"
   },
   {
    "duration": 628,
    "start_time": "2021-11-30T20:55:18.043Z"
   },
   {
    "duration": 927,
    "start_time": "2021-11-30T20:56:26.297Z"
   },
   {
    "duration": 638,
    "start_time": "2021-11-30T20:56:39.204Z"
   },
   {
    "duration": 297,
    "start_time": "2021-11-30T21:29:06.849Z"
   },
   {
    "duration": 275,
    "start_time": "2021-11-30T21:29:10.118Z"
   },
   {
    "duration": 8,
    "start_time": "2021-11-30T21:29:15.898Z"
   },
   {
    "duration": 14,
    "start_time": "2021-11-30T21:29:22.081Z"
   },
   {
    "duration": 21,
    "start_time": "2021-11-30T21:29:32.539Z"
   },
   {
    "duration": 725,
    "start_time": "2021-11-30T21:31:04.881Z"
   },
   {
    "duration": 823,
    "start_time": "2021-11-30T21:32:58.259Z"
   },
   {
    "duration": 865,
    "start_time": "2021-11-30T21:34:09.415Z"
   },
   {
    "duration": 1031,
    "start_time": "2021-11-30T21:39:24.141Z"
   },
   {
    "duration": 736,
    "start_time": "2021-11-30T21:39:42.190Z"
   },
   {
    "duration": 773,
    "start_time": "2021-11-30T21:39:54.407Z"
   },
   {
    "duration": 6960,
    "start_time": "2021-12-01T16:56:16.323Z"
   },
   {
    "duration": 1234,
    "start_time": "2021-12-01T16:56:27.734Z"
   },
   {
    "duration": 2,
    "start_time": "2021-12-01T16:56:30.833Z"
   },
   {
    "duration": 37,
    "start_time": "2021-12-01T16:56:42.112Z"
   },
   {
    "duration": 50,
    "start_time": "2021-12-01T16:56:44.688Z"
   },
   {
    "duration": 273,
    "start_time": "2021-12-01T16:56:44.740Z"
   },
   {
    "duration": 438,
    "start_time": "2021-12-01T16:56:45.015Z"
   },
   {
    "duration": 526,
    "start_time": "2021-12-01T16:56:45.455Z"
   },
   {
    "duration": 144,
    "start_time": "2021-12-01T16:56:45.983Z"
   },
   {
    "duration": 1748,
    "start_time": "2021-12-01T16:56:46.129Z"
   },
   {
    "duration": 24,
    "start_time": "2021-12-01T16:56:47.878Z"
   },
   {
    "duration": 24,
    "start_time": "2021-12-01T16:56:47.904Z"
   },
   {
    "duration": 3,
    "start_time": "2021-12-01T16:56:47.930Z"
   },
   {
    "duration": 20,
    "start_time": "2021-12-01T16:56:47.934Z"
   },
   {
    "duration": 9,
    "start_time": "2021-12-01T16:56:47.956Z"
   },
   {
    "duration": 6,
    "start_time": "2021-12-01T16:56:47.987Z"
   },
   {
    "duration": 29,
    "start_time": "2021-12-01T16:56:47.995Z"
   },
   {
    "duration": 8,
    "start_time": "2021-12-01T16:56:48.026Z"
   },
   {
    "duration": 11,
    "start_time": "2021-12-01T16:56:48.035Z"
   },
   {
    "duration": 50,
    "start_time": "2021-12-01T16:56:48.048Z"
   },
   {
    "duration": 13,
    "start_time": "2021-12-01T16:56:48.100Z"
   },
   {
    "duration": 4,
    "start_time": "2021-12-01T16:56:48.115Z"
   },
   {
    "duration": 18,
    "start_time": "2021-12-01T16:56:48.121Z"
   },
   {
    "duration": 17,
    "start_time": "2021-12-01T16:56:48.141Z"
   },
   {
    "duration": 50,
    "start_time": "2021-12-01T16:56:48.159Z"
   },
   {
    "duration": 25,
    "start_time": "2021-12-01T16:56:48.211Z"
   },
   {
    "duration": 17,
    "start_time": "2021-12-01T16:56:48.239Z"
   },
   {
    "duration": 360,
    "start_time": "2021-12-01T16:56:48.258Z"
   },
   {
    "duration": 11,
    "start_time": "2021-12-01T16:56:48.619Z"
   },
   {
    "duration": 9,
    "start_time": "2021-12-01T16:56:48.631Z"
   },
   {
    "duration": 17,
    "start_time": "2021-12-01T16:56:48.642Z"
   },
   {
    "duration": 268,
    "start_time": "2021-12-01T16:56:48.661Z"
   },
   {
    "duration": 109,
    "start_time": "2021-12-01T16:56:48.931Z"
   },
   {
    "duration": 573,
    "start_time": "2021-12-01T16:56:49.042Z"
   },
   {
    "duration": 19,
    "start_time": "2021-12-01T16:56:49.617Z"
   },
   {
    "duration": 21,
    "start_time": "2021-12-01T16:56:49.637Z"
   },
   {
    "duration": 33,
    "start_time": "2021-12-01T16:56:49.660Z"
   },
   {
    "duration": 368,
    "start_time": "2021-12-01T16:56:49.694Z"
   },
   {
    "duration": 13,
    "start_time": "2021-12-01T16:56:50.064Z"
   },
   {
    "duration": 409,
    "start_time": "2021-12-01T16:56:50.088Z"
   },
   {
    "duration": 406,
    "start_time": "2021-12-01T19:33:50.109Z"
   },
   {
    "duration": 426,
    "start_time": "2021-12-01T19:34:40.608Z"
   },
   {
    "duration": 321,
    "start_time": "2021-12-01T19:42:13.451Z"
   },
   {
    "duration": 12,
    "start_time": "2021-12-01T19:42:28.376Z"
   },
   {
    "duration": 5,
    "start_time": "2021-12-01T19:48:54.712Z"
   },
   {
    "duration": 10,
    "start_time": "2021-12-01T19:48:59.969Z"
   },
   {
    "duration": 394,
    "start_time": "2021-12-01T19:49:18.053Z"
   },
   {
    "duration": 10,
    "start_time": "2021-12-01T19:49:50.727Z"
   },
   {
    "duration": 466,
    "start_time": "2021-12-01T19:49:55.876Z"
   },
   {
    "duration": 4,
    "start_time": "2021-12-01T22:20:47.659Z"
   },
   {
    "duration": 21,
    "start_time": "2021-12-01T22:20:52.678Z"
   },
   {
    "duration": 403,
    "start_time": "2021-12-01T22:22:17.512Z"
   },
   {
    "duration": 368,
    "start_time": "2021-12-01T22:22:27.470Z"
   },
   {
    "duration": 529,
    "start_time": "2021-12-01T22:22:38.404Z"
   },
   {
    "duration": 462,
    "start_time": "2021-12-01T22:24:26.175Z"
   },
   {
    "duration": 77,
    "start_time": "2021-12-01T22:25:57.625Z"
   },
   {
    "duration": 460,
    "start_time": "2021-12-01T22:26:35.764Z"
   },
   {
    "duration": 373,
    "start_time": "2021-12-01T22:27:09.114Z"
   },
   {
    "duration": 78,
    "start_time": "2021-12-01T22:27:56.836Z"
   },
   {
    "duration": 346,
    "start_time": "2021-12-01T22:27:59.785Z"
   },
   {
    "duration": 344,
    "start_time": "2021-12-01T22:28:24.011Z"
   },
   {
    "duration": 353,
    "start_time": "2021-12-01T22:28:27.494Z"
   },
   {
    "duration": 342,
    "start_time": "2021-12-01T22:28:58.405Z"
   },
   {
    "duration": 241,
    "start_time": "2021-12-01T22:33:28.698Z"
   },
   {
    "duration": 340,
    "start_time": "2021-12-01T22:33:37.743Z"
   },
   {
    "duration": 3,
    "start_time": "2021-12-01T22:37:21.579Z"
   },
   {
    "duration": 3,
    "start_time": "2021-12-01T22:45:27.471Z"
   },
   {
    "duration": 725,
    "start_time": "2021-12-01T22:45:55.128Z"
   },
   {
    "duration": 3,
    "start_time": "2021-12-01T22:46:20.239Z"
   },
   {
    "duration": 215,
    "start_time": "2021-12-01T22:46:22.132Z"
   },
   {
    "duration": 228,
    "start_time": "2021-12-01T22:46:39.626Z"
   },
   {
    "duration": 212,
    "start_time": "2021-12-01T22:46:45.645Z"
   },
   {
    "duration": 213,
    "start_time": "2021-12-01T22:48:39.107Z"
   },
   {
    "duration": 372,
    "start_time": "2021-12-01T22:49:56.086Z"
   },
   {
    "duration": 572,
    "start_time": "2021-12-01T22:50:42.483Z"
   },
   {
    "duration": 325,
    "start_time": "2021-12-01T22:51:56.130Z"
   },
   {
    "duration": 395,
    "start_time": "2021-12-01T22:52:22.918Z"
   },
   {
    "duration": 7,
    "start_time": "2021-12-01T22:54:34.909Z"
   },
   {
    "duration": 12,
    "start_time": "2021-12-01T22:55:53.592Z"
   },
   {
    "duration": 10,
    "start_time": "2021-12-01T22:57:22.672Z"
   },
   {
    "duration": 374,
    "start_time": "2021-12-01T22:58:14.452Z"
   },
   {
    "duration": 352,
    "start_time": "2021-12-01T22:58:20.271Z"
   },
   {
    "duration": 280,
    "start_time": "2021-12-01T22:58:32.667Z"
   },
   {
    "duration": 216,
    "start_time": "2021-12-01T22:58:51.196Z"
   },
   {
    "duration": 332,
    "start_time": "2021-12-01T22:59:52.902Z"
   },
   {
    "duration": 7173,
    "start_time": "2021-12-02T07:37:27.629Z"
   },
   {
    "duration": 1151,
    "start_time": "2021-12-02T07:37:40.067Z"
   },
   {
    "duration": 2,
    "start_time": "2021-12-02T07:37:42.336Z"
   },
   {
    "duration": 38,
    "start_time": "2021-12-02T07:37:45.694Z"
   },
   {
    "duration": 37,
    "start_time": "2021-12-02T07:37:52.039Z"
   },
   {
    "duration": 15,
    "start_time": "2021-12-02T07:37:52.077Z"
   },
   {
    "duration": 11,
    "start_time": "2021-12-02T07:37:52.093Z"
   },
   {
    "duration": 15,
    "start_time": "2021-12-02T07:37:52.105Z"
   },
   {
    "duration": 11,
    "start_time": "2021-12-02T07:37:52.122Z"
   },
   {
    "duration": 464,
    "start_time": "2021-12-02T07:37:52.135Z"
   },
   {
    "duration": 23,
    "start_time": "2021-12-02T07:37:52.600Z"
   },
   {
    "duration": 23,
    "start_time": "2021-12-02T07:37:52.625Z"
   },
   {
    "duration": 2,
    "start_time": "2021-12-02T07:37:52.650Z"
   },
   {
    "duration": 34,
    "start_time": "2021-12-02T07:37:52.654Z"
   },
   {
    "duration": 4,
    "start_time": "2021-12-02T07:37:52.690Z"
   },
   {
    "duration": 8,
    "start_time": "2021-12-02T07:37:52.695Z"
   },
   {
    "duration": 21,
    "start_time": "2021-12-02T07:37:52.704Z"
   },
   {
    "duration": 6,
    "start_time": "2021-12-02T07:37:52.727Z"
   },
   {
    "duration": 7,
    "start_time": "2021-12-02T07:37:52.735Z"
   },
   {
    "duration": 46,
    "start_time": "2021-12-02T07:37:52.744Z"
   },
   {
    "duration": 11,
    "start_time": "2021-12-02T07:37:52.792Z"
   },
   {
    "duration": 4,
    "start_time": "2021-12-02T07:37:52.804Z"
   },
   {
    "duration": 14,
    "start_time": "2021-12-02T07:37:52.810Z"
   },
   {
    "duration": 13,
    "start_time": "2021-12-02T07:37:52.826Z"
   },
   {
    "duration": 53,
    "start_time": "2021-12-02T07:37:52.841Z"
   },
   {
    "duration": 19,
    "start_time": "2021-12-02T07:37:52.896Z"
   },
   {
    "duration": 15,
    "start_time": "2021-12-02T07:37:52.919Z"
   },
   {
    "duration": 359,
    "start_time": "2021-12-02T07:37:52.936Z"
   },
   {
    "duration": 11,
    "start_time": "2021-12-02T07:37:53.296Z"
   },
   {
    "duration": 9,
    "start_time": "2021-12-02T07:37:53.308Z"
   },
   {
    "duration": 13,
    "start_time": "2021-12-02T07:37:53.319Z"
   },
   {
    "duration": 478,
    "start_time": "2021-12-02T07:37:53.334Z"
   },
   {
    "duration": 85,
    "start_time": "2021-12-02T07:37:53.814Z"
   },
   {
    "duration": 376,
    "start_time": "2021-12-02T07:37:53.901Z"
   },
   {
    "duration": 26,
    "start_time": "2021-12-02T07:37:54.278Z"
   },
   {
    "duration": 20,
    "start_time": "2021-12-02T07:37:54.305Z"
   },
   {
    "duration": 12,
    "start_time": "2021-12-02T07:37:54.327Z"
   },
   {
    "duration": 397,
    "start_time": "2021-12-02T07:37:54.341Z"
   },
   {
    "duration": 14,
    "start_time": "2021-12-02T07:37:54.740Z"
   },
   {
    "duration": 11,
    "start_time": "2021-12-02T07:37:54.755Z"
   },
   {
    "duration": 425,
    "start_time": "2021-12-02T07:37:54.767Z"
   },
   {
    "duration": 20,
    "start_time": "2021-12-02T07:37:55.194Z"
   },
   {
    "duration": 362,
    "start_time": "2021-12-02T07:37:55.216Z"
   },
   {
    "duration": 396,
    "start_time": "2021-12-02T07:37:55.580Z"
   },
   {
    "duration": 16,
    "start_time": "2021-12-02T07:37:55.977Z"
   },
   {
    "duration": 365,
    "start_time": "2021-12-02T07:37:55.995Z"
   },
   {
    "duration": 4,
    "start_time": "2021-12-02T07:48:38.016Z"
   },
   {
    "duration": 341,
    "start_time": "2021-12-02T07:49:02.650Z"
   },
   {
    "duration": 3,
    "start_time": "2021-12-02T07:49:51.911Z"
   },
   {
    "duration": 419,
    "start_time": "2021-12-02T07:49:54.176Z"
   },
   {
    "duration": 4,
    "start_time": "2021-12-02T07:51:12.730Z"
   },
   {
    "duration": 344,
    "start_time": "2021-12-02T07:51:14.202Z"
   },
   {
    "duration": 247,
    "start_time": "2021-12-02T07:51:26.743Z"
   },
   {
    "duration": 257,
    "start_time": "2021-12-02T07:51:34.488Z"
   },
   {
    "duration": 4,
    "start_time": "2021-12-02T07:52:19.578Z"
   },
   {
    "duration": 299,
    "start_time": "2021-12-02T07:52:20.836Z"
   },
   {
    "duration": 5,
    "start_time": "2021-12-02T07:53:30.814Z"
   },
   {
    "duration": 4,
    "start_time": "2021-12-02T07:53:31.414Z"
   },
   {
    "duration": 4,
    "start_time": "2021-12-02T07:53:32.981Z"
   },
   {
    "duration": 5,
    "start_time": "2021-12-02T07:53:34.653Z"
   },
   {
    "duration": 5,
    "start_time": "2021-12-02T07:53:35.474Z"
   },
   {
    "duration": 340,
    "start_time": "2021-12-02T07:53:39.697Z"
   },
   {
    "duration": 4,
    "start_time": "2021-12-02T07:53:53.732Z"
   },
   {
    "duration": 331,
    "start_time": "2021-12-02T07:54:15.655Z"
   },
   {
    "duration": 4,
    "start_time": "2021-12-02T07:55:37.238Z"
   },
   {
    "duration": 306,
    "start_time": "2021-12-02T07:55:38.330Z"
   },
   {
    "duration": 4,
    "start_time": "2021-12-02T07:57:56.076Z"
   },
   {
    "duration": 661,
    "start_time": "2021-12-02T07:57:57.505Z"
   },
   {
    "duration": 4,
    "start_time": "2021-12-02T07:59:21.241Z"
   },
   {
    "duration": 665,
    "start_time": "2021-12-02T07:59:22.088Z"
   },
   {
    "duration": 4,
    "start_time": "2021-12-02T07:59:31.262Z"
   },
   {
    "duration": 665,
    "start_time": "2021-12-02T07:59:33.300Z"
   },
   {
    "duration": 681,
    "start_time": "2021-12-02T08:00:26.900Z"
   },
   {
    "duration": 611,
    "start_time": "2021-12-02T08:00:59.215Z"
   },
   {
    "duration": 9,
    "start_time": "2021-12-02T08:01:38.983Z"
   },
   {
    "duration": 604,
    "start_time": "2021-12-02T08:01:42.935Z"
   },
   {
    "duration": 630,
    "start_time": "2021-12-02T08:01:48.841Z"
   },
   {
    "duration": 11,
    "start_time": "2021-12-02T08:02:10.295Z"
   },
   {
    "duration": 598,
    "start_time": "2021-12-02T08:04:37.627Z"
   },
   {
    "duration": 591,
    "start_time": "2021-12-02T08:04:46.770Z"
   },
   {
    "duration": 602,
    "start_time": "2021-12-02T08:05:05.072Z"
   },
   {
    "duration": 762,
    "start_time": "2021-12-02T08:05:30.883Z"
   },
   {
    "duration": 753,
    "start_time": "2021-12-02T08:05:52.622Z"
   },
   {
    "duration": 80,
    "start_time": "2021-12-02T08:08:31.231Z"
   },
   {
    "duration": 402,
    "start_time": "2021-12-02T08:08:34.902Z"
   },
   {
    "duration": 398,
    "start_time": "2021-12-02T08:09:22.294Z"
   },
   {
    "duration": 5,
    "start_time": "2021-12-02T08:53:01.022Z"
   },
   {
    "duration": 690,
    "start_time": "2021-12-02T08:53:02.837Z"
   },
   {
    "duration": 5,
    "start_time": "2021-12-02T08:53:27.984Z"
   },
   {
    "duration": 4,
    "start_time": "2021-12-02T08:53:31.018Z"
   },
   {
    "duration": 581,
    "start_time": "2021-12-02T08:53:33.140Z"
   },
   {
    "duration": 4,
    "start_time": "2021-12-02T08:54:50.565Z"
   },
   {
    "duration": 620,
    "start_time": "2021-12-02T08:54:53.434Z"
   },
   {
    "duration": 621,
    "start_time": "2021-12-02T08:55:15.526Z"
   },
   {
    "duration": 330,
    "start_time": "2021-12-02T08:55:58.837Z"
   },
   {
    "duration": 332,
    "start_time": "2021-12-02T08:56:39.617Z"
   },
   {
    "duration": 805,
    "start_time": "2021-12-02T08:57:23.469Z"
   },
   {
    "duration": 683,
    "start_time": "2021-12-02T08:57:26.493Z"
   },
   {
    "duration": 646,
    "start_time": "2021-12-02T08:57:29.931Z"
   },
   {
    "duration": 23796,
    "start_time": "2021-12-02T09:10:06.704Z"
   },
   {
    "duration": 8,
    "start_time": "2021-12-02T09:13:27.874Z"
   },
   {
    "duration": 12,
    "start_time": "2021-12-02T09:13:36.525Z"
   },
   {
    "duration": 13,
    "start_time": "2021-12-02T09:22:18.643Z"
   },
   {
    "duration": 19,
    "start_time": "2021-12-02T09:22:58.149Z"
   },
   {
    "duration": 14,
    "start_time": "2021-12-02T09:23:44.656Z"
   },
   {
    "duration": 15,
    "start_time": "2021-12-02T09:24:05.119Z"
   },
   {
    "duration": 245,
    "start_time": "2021-12-02T09:24:50.609Z"
   },
   {
    "duration": 259,
    "start_time": "2021-12-02T09:25:09.792Z"
   },
   {
    "duration": 253,
    "start_time": "2021-12-02T09:25:29.816Z"
   },
   {
    "duration": 38,
    "start_time": "2021-12-02T09:25:41.868Z"
   },
   {
    "duration": 13,
    "start_time": "2021-12-02T09:26:16.394Z"
   },
   {
    "duration": 17,
    "start_time": "2021-12-02T09:27:15.378Z"
   },
   {
    "duration": 11,
    "start_time": "2021-12-02T09:29:01.800Z"
   },
   {
    "duration": 14,
    "start_time": "2021-12-02T09:29:10.493Z"
   },
   {
    "duration": 9,
    "start_time": "2021-12-02T09:33:30.323Z"
   },
   {
    "duration": 9,
    "start_time": "2021-12-02T09:33:37.497Z"
   },
   {
    "duration": 9,
    "start_time": "2021-12-02T09:34:02.262Z"
   },
   {
    "duration": 18,
    "start_time": "2021-12-02T09:35:16.644Z"
   },
   {
    "duration": 3623,
    "start_time": "2021-12-02T09:36:00.283Z"
   },
   {
    "duration": 255,
    "start_time": "2021-12-02T09:36:32.258Z"
   },
   {
    "duration": 3168,
    "start_time": "2021-12-02T09:36:39.813Z"
   },
   {
    "duration": 19,
    "start_time": "2021-12-02T09:37:06.240Z"
   },
   {
    "duration": 275,
    "start_time": "2021-12-02T09:37:46.045Z"
   },
   {
    "duration": 276,
    "start_time": "2021-12-02T09:38:28.442Z"
   },
   {
    "duration": 277,
    "start_time": "2021-12-02T09:38:36.440Z"
   },
   {
    "duration": 270,
    "start_time": "2021-12-02T09:38:39.836Z"
   },
   {
    "duration": 277,
    "start_time": "2021-12-02T09:39:12.461Z"
   },
   {
    "duration": 278,
    "start_time": "2021-12-02T09:39:50.534Z"
   },
   {
    "duration": 80,
    "start_time": "2021-12-02T09:43:26.379Z"
   },
   {
    "duration": 90,
    "start_time": "2021-12-02T09:43:44.643Z"
   },
   {
    "duration": 386,
    "start_time": "2021-12-02T09:44:42.300Z"
   },
   {
    "duration": 381,
    "start_time": "2021-12-02T09:44:45.369Z"
   },
   {
    "duration": 19,
    "start_time": "2021-12-02T10:02:20.050Z"
   },
   {
    "duration": 10,
    "start_time": "2021-12-02T10:03:30.809Z"
   },
   {
    "duration": 12,
    "start_time": "2021-12-02T10:03:39.719Z"
   },
   {
    "duration": 10,
    "start_time": "2021-12-02T10:05:12.887Z"
   },
   {
    "duration": 13,
    "start_time": "2021-12-02T10:08:25.490Z"
   },
   {
    "duration": 10,
    "start_time": "2021-12-02T10:08:36.326Z"
   },
   {
    "duration": 274,
    "start_time": "2021-12-02T10:10:42.348Z"
   },
   {
    "duration": 267,
    "start_time": "2021-12-02T10:11:06.402Z"
   },
   {
    "duration": 13,
    "start_time": "2021-12-02T10:12:20.234Z"
   },
   {
    "duration": 12,
    "start_time": "2021-12-02T10:12:37.447Z"
   },
   {
    "duration": 10,
    "start_time": "2021-12-02T10:12:42.175Z"
   },
   {
    "duration": 277,
    "start_time": "2021-12-02T10:12:47.319Z"
   },
   {
    "duration": 306,
    "start_time": "2021-12-02T10:12:52.063Z"
   },
   {
    "duration": 16,
    "start_time": "2021-12-02T10:14:41.203Z"
   },
   {
    "duration": 12,
    "start_time": "2021-12-02T10:14:44.023Z"
   },
   {
    "duration": 13,
    "start_time": "2021-12-02T10:14:50.922Z"
   },
   {
    "duration": 7,
    "start_time": "2021-12-02T10:25:44.639Z"
   },
   {
    "duration": 6,
    "start_time": "2021-12-02T10:25:57.842Z"
   },
   {
    "duration": 9,
    "start_time": "2021-12-02T10:26:22.091Z"
   },
   {
    "duration": 6,
    "start_time": "2021-12-02T10:26:38.698Z"
   },
   {
    "duration": 9,
    "start_time": "2021-12-02T10:26:42.047Z"
   },
   {
    "duration": 11,
    "start_time": "2021-12-02T10:26:59.133Z"
   },
   {
    "duration": 2253,
    "start_time": "2021-12-02T10:28:22.044Z"
   },
   {
    "duration": 318,
    "start_time": "2021-12-02T10:28:37.019Z"
   },
   {
    "duration": 1164,
    "start_time": "2021-12-02T10:28:44.069Z"
   },
   {
    "duration": 3,
    "start_time": "2021-12-02T10:28:46.763Z"
   },
   {
    "duration": 37,
    "start_time": "2021-12-02T10:28:50.177Z"
   },
   {
    "duration": 40,
    "start_time": "2021-12-02T10:28:53.832Z"
   },
   {
    "duration": 15,
    "start_time": "2021-12-02T10:28:53.873Z"
   },
   {
    "duration": 13,
    "start_time": "2021-12-02T10:28:53.890Z"
   },
   {
    "duration": 14,
    "start_time": "2021-12-02T10:28:53.904Z"
   },
   {
    "duration": 12,
    "start_time": "2021-12-02T10:28:53.920Z"
   },
   {
    "duration": 450,
    "start_time": "2021-12-02T10:28:53.933Z"
   },
   {
    "duration": 23,
    "start_time": "2021-12-02T10:28:54.384Z"
   },
   {
    "duration": 22,
    "start_time": "2021-12-02T10:28:54.409Z"
   },
   {
    "duration": 3,
    "start_time": "2021-12-02T10:28:54.433Z"
   },
   {
    "duration": 18,
    "start_time": "2021-12-02T10:28:54.437Z"
   },
   {
    "duration": 6,
    "start_time": "2021-12-02T10:28:54.456Z"
   },
   {
    "duration": 26,
    "start_time": "2021-12-02T10:28:54.463Z"
   },
   {
    "duration": 22,
    "start_time": "2021-12-02T10:28:54.490Z"
   },
   {
    "duration": 6,
    "start_time": "2021-12-02T10:28:54.514Z"
   },
   {
    "duration": 7,
    "start_time": "2021-12-02T10:28:54.521Z"
   },
   {
    "duration": 18,
    "start_time": "2021-12-02T10:28:54.529Z"
   },
   {
    "duration": 39,
    "start_time": "2021-12-02T10:28:54.549Z"
   },
   {
    "duration": 4,
    "start_time": "2021-12-02T10:28:54.589Z"
   },
   {
    "duration": 13,
    "start_time": "2021-12-02T10:28:54.595Z"
   },
   {
    "duration": 13,
    "start_time": "2021-12-02T10:28:54.610Z"
   },
   {
    "duration": 23,
    "start_time": "2021-12-02T10:28:54.625Z"
   },
   {
    "duration": 47,
    "start_time": "2021-12-02T10:28:54.649Z"
   },
   {
    "duration": 13,
    "start_time": "2021-12-02T10:28:54.699Z"
   },
   {
    "duration": 344,
    "start_time": "2021-12-02T10:28:54.714Z"
   },
   {
    "duration": 11,
    "start_time": "2021-12-02T10:28:55.059Z"
   },
   {
    "duration": 22,
    "start_time": "2021-12-02T10:28:55.072Z"
   },
   {
    "duration": 23,
    "start_time": "2021-12-02T10:28:55.096Z"
   },
   {
    "duration": 278,
    "start_time": "2021-12-02T10:28:55.120Z"
   },
   {
    "duration": 98,
    "start_time": "2021-12-02T10:28:55.399Z"
   },
   {
    "duration": 447,
    "start_time": "2021-12-02T10:28:55.499Z"
   },
   {
    "duration": 19,
    "start_time": "2021-12-02T10:28:55.948Z"
   },
   {
    "duration": 32,
    "start_time": "2021-12-02T10:28:55.969Z"
   },
   {
    "duration": 14,
    "start_time": "2021-12-02T10:28:56.003Z"
   },
   {
    "duration": 371,
    "start_time": "2021-12-02T10:28:56.019Z"
   },
   {
    "duration": 14,
    "start_time": "2021-12-02T10:28:56.392Z"
   },
   {
    "duration": 10,
    "start_time": "2021-12-02T10:28:56.408Z"
   },
   {
    "duration": 435,
    "start_time": "2021-12-02T10:28:56.420Z"
   },
   {
    "duration": 31,
    "start_time": "2021-12-02T10:28:56.857Z"
   },
   {
    "duration": 371,
    "start_time": "2021-12-02T10:28:56.890Z"
   },
   {
    "duration": 369,
    "start_time": "2021-12-02T10:28:57.263Z"
   },
   {
    "duration": 11,
    "start_time": "2021-12-02T10:28:57.634Z"
   },
   {
    "duration": 8,
    "start_time": "2021-12-02T10:28:57.647Z"
   },
   {
    "duration": 613,
    "start_time": "2021-12-02T10:28:57.656Z"
   },
   {
    "duration": 609,
    "start_time": "2021-12-02T10:28:58.271Z"
   },
   {
    "duration": 594,
    "start_time": "2021-12-02T10:28:58.881Z"
   },
   {
    "duration": 793,
    "start_time": "2021-12-02T10:28:59.477Z"
   },
   {
    "duration": 607,
    "start_time": "2021-12-02T10:29:00.272Z"
   },
   {
    "duration": 18,
    "start_time": "2021-12-02T10:29:00.881Z"
   },
   {
    "duration": 14,
    "start_time": "2021-12-02T10:29:00.900Z"
   },
   {
    "duration": 11,
    "start_time": "2021-12-02T10:29:00.915Z"
   },
   {
    "duration": 294,
    "start_time": "2021-12-02T10:29:00.928Z"
   },
   {
    "duration": 278,
    "start_time": "2021-12-02T10:29:01.224Z"
   },
   {
    "duration": 9,
    "start_time": "2021-12-02T10:29:01.504Z"
   },
   {
    "duration": 298,
    "start_time": "2021-12-02T10:29:25.642Z"
   },
   {
    "duration": 88,
    "start_time": "2021-12-02T10:29:34.548Z"
   },
   {
    "duration": 86,
    "start_time": "2021-12-02T10:29:38.568Z"
   },
   {
    "duration": 242,
    "start_time": "2021-12-02T10:29:42.037Z"
   },
   {
    "duration": 7,
    "start_time": "2021-12-02T10:29:52.941Z"
   },
   {
    "duration": 10,
    "start_time": "2021-12-02T10:31:32.819Z"
   },
   {
    "duration": 9,
    "start_time": "2021-12-02T10:31:48.883Z"
   },
   {
    "duration": 10,
    "start_time": "2021-12-02T10:32:00.939Z"
   },
   {
    "duration": 10,
    "start_time": "2021-12-02T10:33:29.887Z"
   },
   {
    "duration": 9,
    "start_time": "2021-12-02T10:33:42.497Z"
   },
   {
    "duration": 6,
    "start_time": "2021-12-02T10:34:43.918Z"
   },
   {
    "duration": 10,
    "start_time": "2021-12-02T10:34:49.773Z"
   },
   {
    "duration": 286,
    "start_time": "2021-12-02T10:47:41.929Z"
   },
   {
    "duration": 229,
    "start_time": "2021-12-02T10:47:48.770Z"
   },
   {
    "duration": 15,
    "start_time": "2021-12-02T10:48:41.765Z"
   },
   {
    "duration": 14,
    "start_time": "2021-12-02T10:48:49.457Z"
   },
   {
    "duration": 234,
    "start_time": "2021-12-02T10:49:14.245Z"
   },
   {
    "duration": 14,
    "start_time": "2021-12-02T10:49:21.889Z"
   },
   {
    "duration": 10,
    "start_time": "2021-12-02T10:49:51.267Z"
   },
   {
    "duration": 10,
    "start_time": "2021-12-02T10:50:22.924Z"
   },
   {
    "duration": 10,
    "start_time": "2021-12-02T10:50:28.250Z"
   },
   {
    "duration": 5,
    "start_time": "2021-12-02T11:09:00.888Z"
   },
   {
    "duration": 10,
    "start_time": "2021-12-02T11:09:08.261Z"
   },
   {
    "duration": 9,
    "start_time": "2021-12-02T11:09:52.124Z"
   },
   {
    "duration": 9,
    "start_time": "2021-12-02T11:10:20.399Z"
   },
   {
    "duration": 11,
    "start_time": "2021-12-02T11:10:21.970Z"
   },
   {
    "duration": 266,
    "start_time": "2021-12-02T12:51:34.527Z"
   },
   {
    "duration": 9,
    "start_time": "2021-12-02T12:51:45.781Z"
   },
   {
    "duration": 8,
    "start_time": "2021-12-02T12:51:52.855Z"
   },
   {
    "duration": 8,
    "start_time": "2021-12-02T12:52:22.061Z"
   },
   {
    "duration": 249,
    "start_time": "2021-12-02T12:52:35.903Z"
   },
   {
    "duration": 11,
    "start_time": "2021-12-02T12:52:47.680Z"
   },
   {
    "duration": 10,
    "start_time": "2021-12-02T12:53:08.643Z"
   },
   {
    "duration": 11,
    "start_time": "2021-12-02T12:53:44.908Z"
   },
   {
    "duration": 4,
    "start_time": "2021-12-02T12:54:27.747Z"
   },
   {
    "duration": 18,
    "start_time": "2021-12-02T12:54:50.121Z"
   },
   {
    "duration": 3,
    "start_time": "2021-12-02T12:56:01.466Z"
   },
   {
    "duration": 21,
    "start_time": "2021-12-02T12:56:16.830Z"
   },
   {
    "duration": 6,
    "start_time": "2021-12-02T12:56:44.057Z"
   },
   {
    "duration": 6,
    "start_time": "2021-12-02T12:56:50.353Z"
   },
   {
    "duration": 24,
    "start_time": "2021-12-02T12:56:55.843Z"
   },
   {
    "duration": 20,
    "start_time": "2021-12-02T12:57:03.316Z"
   },
   {
    "duration": 247,
    "start_time": "2021-12-02T12:58:22.765Z"
   },
   {
    "duration": 6,
    "start_time": "2021-12-02T12:58:26.169Z"
   },
   {
    "duration": 22,
    "start_time": "2021-12-02T12:58:31.172Z"
   },
   {
    "duration": 21,
    "start_time": "2021-12-02T12:58:46.623Z"
   },
   {
    "duration": 5,
    "start_time": "2021-12-02T12:59:20.540Z"
   },
   {
    "duration": 2,
    "start_time": "2021-12-02T12:59:41.362Z"
   },
   {
    "duration": 240,
    "start_time": "2021-12-02T12:59:47.918Z"
   },
   {
    "duration": 297,
    "start_time": "2021-12-02T13:00:06.428Z"
   },
   {
    "duration": 243,
    "start_time": "2021-12-02T13:00:10.678Z"
   },
   {
    "duration": 22,
    "start_time": "2021-12-02T13:00:14.977Z"
   },
   {
    "duration": 6,
    "start_time": "2021-12-02T13:00:17.620Z"
   },
   {
    "duration": 7,
    "start_time": "2021-12-02T13:02:23.910Z"
   },
   {
    "duration": 7,
    "start_time": "2021-12-02T13:03:27.639Z"
   },
   {
    "duration": 7,
    "start_time": "2021-12-02T13:03:54.875Z"
   },
   {
    "duration": 3,
    "start_time": "2021-12-02T13:04:18.843Z"
   },
   {
    "duration": 476,
    "start_time": "2021-12-02T13:04:42.542Z"
   },
   {
    "duration": 3,
    "start_time": "2021-12-02T13:05:22.772Z"
   },
   {
    "duration": 4,
    "start_time": "2021-12-02T13:05:28.751Z"
   },
   {
    "duration": 4,
    "start_time": "2021-12-02T13:09:40.854Z"
   },
   {
    "duration": 4,
    "start_time": "2021-12-02T13:09:42.087Z"
   },
   {
    "duration": 3,
    "start_time": "2021-12-02T13:09:47.809Z"
   },
   {
    "duration": 3,
    "start_time": "2021-12-02T13:09:48.919Z"
   },
   {
    "duration": 3,
    "start_time": "2021-12-02T13:17:48.657Z"
   },
   {
    "duration": 4,
    "start_time": "2021-12-02T13:17:52.231Z"
   },
   {
    "duration": 8,
    "start_time": "2021-12-02T13:31:27.500Z"
   },
   {
    "duration": 9,
    "start_time": "2021-12-02T13:32:05.389Z"
   },
   {
    "duration": 7,
    "start_time": "2021-12-02T13:32:08.778Z"
   },
   {
    "duration": 4,
    "start_time": "2021-12-02T13:32:37.335Z"
   },
   {
    "duration": 3,
    "start_time": "2021-12-02T13:33:10.843Z"
   },
   {
    "duration": 4,
    "start_time": "2021-12-02T13:33:13.086Z"
   },
   {
    "duration": 3,
    "start_time": "2021-12-02T13:33:23.350Z"
   },
   {
    "duration": 4,
    "start_time": "2021-12-02T13:33:26.815Z"
   },
   {
    "duration": 2375,
    "start_time": "2021-12-02T14:04:56.340Z"
   },
   {
    "duration": 1167,
    "start_time": "2021-12-02T14:04:58.718Z"
   },
   {
    "duration": 40,
    "start_time": "2021-12-02T14:04:59.888Z"
   },
   {
    "duration": 15,
    "start_time": "2021-12-02T14:04:59.930Z"
   },
   {
    "duration": 11,
    "start_time": "2021-12-02T14:04:59.947Z"
   },
   {
    "duration": 16,
    "start_time": "2021-12-02T14:04:59.960Z"
   },
   {
    "duration": 14,
    "start_time": "2021-12-02T14:04:59.988Z"
   },
   {
    "duration": 480,
    "start_time": "2021-12-02T14:05:00.004Z"
   },
   {
    "duration": 26,
    "start_time": "2021-12-02T14:05:00.486Z"
   },
   {
    "duration": 25,
    "start_time": "2021-12-02T14:05:00.513Z"
   },
   {
    "duration": 3,
    "start_time": "2021-12-02T14:05:00.540Z"
   },
   {
    "duration": 46,
    "start_time": "2021-12-02T14:05:00.544Z"
   },
   {
    "duration": 6,
    "start_time": "2021-12-02T14:05:00.591Z"
   },
   {
    "duration": 6,
    "start_time": "2021-12-02T14:05:00.599Z"
   },
   {
    "duration": 22,
    "start_time": "2021-12-02T14:05:00.606Z"
   },
   {
    "duration": 6,
    "start_time": "2021-12-02T14:05:00.630Z"
   },
   {
    "duration": 14,
    "start_time": "2021-12-02T14:05:00.638Z"
   },
   {
    "duration": 39,
    "start_time": "2021-12-02T14:05:00.653Z"
   },
   {
    "duration": 10,
    "start_time": "2021-12-02T14:05:00.694Z"
   },
   {
    "duration": 4,
    "start_time": "2021-12-02T14:05:00.706Z"
   },
   {
    "duration": 21,
    "start_time": "2021-12-02T14:05:00.711Z"
   },
   {
    "duration": 13,
    "start_time": "2021-12-02T14:05:00.734Z"
   },
   {
    "duration": 56,
    "start_time": "2021-12-02T14:05:00.751Z"
   },
   {
    "duration": 18,
    "start_time": "2021-12-02T14:05:00.810Z"
   },
   {
    "duration": 20,
    "start_time": "2021-12-02T14:05:00.830Z"
   },
   {
    "duration": 425,
    "start_time": "2021-12-02T14:05:00.852Z"
   },
   {
    "duration": 19,
    "start_time": "2021-12-02T14:05:01.278Z"
   },
   {
    "duration": 9,
    "start_time": "2021-12-02T14:05:01.299Z"
   },
   {
    "duration": 12,
    "start_time": "2021-12-02T14:05:01.310Z"
   },
   {
    "duration": 339,
    "start_time": "2021-12-02T14:05:01.324Z"
   },
   {
    "duration": 90,
    "start_time": "2021-12-02T14:05:01.665Z"
   },
   {
    "duration": 397,
    "start_time": "2021-12-02T14:05:01.757Z"
   },
   {
    "duration": 32,
    "start_time": "2021-12-02T14:05:02.156Z"
   },
   {
    "duration": 22,
    "start_time": "2021-12-02T14:05:02.189Z"
   },
   {
    "duration": 13,
    "start_time": "2021-12-02T14:05:02.212Z"
   },
   {
    "duration": 403,
    "start_time": "2021-12-02T14:05:02.227Z"
   },
   {
    "duration": 13,
    "start_time": "2021-12-02T14:05:02.633Z"
   },
   {
    "duration": 10,
    "start_time": "2021-12-02T14:05:02.648Z"
   },
   {
    "duration": 537,
    "start_time": "2021-12-02T14:05:02.659Z"
   },
   {
    "duration": 19,
    "start_time": "2021-12-02T14:05:03.198Z"
   },
   {
    "duration": 359,
    "start_time": "2021-12-02T14:05:03.218Z"
   },
   {
    "duration": 351,
    "start_time": "2021-12-02T14:05:03.579Z"
   },
   {
    "duration": 14,
    "start_time": "2021-12-02T14:05:03.932Z"
   },
   {
    "duration": 5,
    "start_time": "2021-12-02T14:05:03.948Z"
   },
   {
    "duration": 735,
    "start_time": "2021-12-02T14:05:03.954Z"
   },
   {
    "duration": 665,
    "start_time": "2021-12-02T14:05:04.690Z"
   },
   {
    "duration": 617,
    "start_time": "2021-12-02T14:05:05.357Z"
   },
   {
    "duration": 789,
    "start_time": "2021-12-02T14:05:05.976Z"
   },
   {
    "duration": 862,
    "start_time": "2021-12-02T14:05:06.767Z"
   },
   {
    "duration": 14,
    "start_time": "2021-12-02T14:05:07.631Z"
   },
   {
    "duration": 16,
    "start_time": "2021-12-02T14:05:07.647Z"
   },
   {
    "duration": 31,
    "start_time": "2021-12-02T14:05:07.664Z"
   },
   {
    "duration": 276,
    "start_time": "2021-12-02T14:05:07.696Z"
   },
   {
    "duration": 272,
    "start_time": "2021-12-02T14:05:07.974Z"
   },
   {
    "duration": 9,
    "start_time": "2021-12-02T14:05:08.248Z"
   },
   {
    "duration": 12,
    "start_time": "2021-12-02T14:05:08.259Z"
   },
   {
    "duration": 22,
    "start_time": "2021-12-02T14:05:08.273Z"
   },
   {
    "duration": 10,
    "start_time": "2021-12-02T14:05:08.296Z"
   },
   {
    "duration": 10,
    "start_time": "2021-12-02T14:05:08.307Z"
   },
   {
    "duration": 10,
    "start_time": "2021-12-02T14:05:08.318Z"
   },
   {
    "duration": 4,
    "start_time": "2021-12-02T14:05:08.329Z"
   },
   {
    "duration": 23,
    "start_time": "2021-12-02T14:05:08.334Z"
   },
   {
    "duration": 34,
    "start_time": "2021-12-02T14:05:08.359Z"
   },
   {
    "duration": 7,
    "start_time": "2021-12-02T14:05:08.395Z"
   },
   {
    "duration": 3,
    "start_time": "2021-12-02T14:05:08.403Z"
   },
   {
    "duration": 5,
    "start_time": "2021-12-02T14:05:08.408Z"
   },
   {
    "duration": 7,
    "start_time": "2021-12-02T14:05:08.414Z"
   },
   {
    "duration": 4,
    "start_time": "2021-12-02T14:05:08.425Z"
   },
   {
    "duration": 134312,
    "start_time": "2021-12-02T17:50:10.985Z"
   },
   {
    "duration": 1709,
    "start_time": "2021-12-02T17:52:25.300Z"
   },
   {
    "duration": 49,
    "start_time": "2021-12-02T17:52:27.012Z"
   },
   {
    "duration": 24,
    "start_time": "2021-12-02T17:52:27.064Z"
   },
   {
    "duration": 44,
    "start_time": "2021-12-02T17:52:27.090Z"
   },
   {
    "duration": 25,
    "start_time": "2021-12-02T17:52:27.136Z"
   },
   {
    "duration": 66,
    "start_time": "2021-12-02T17:52:27.163Z"
   },
   {
    "duration": 89887,
    "start_time": "2021-12-02T17:52:27.233Z"
   },
   {
    "duration": 43,
    "start_time": "2021-12-02T17:53:57.123Z"
   },
   {
    "duration": 44,
    "start_time": "2021-12-02T17:53:57.168Z"
   },
   {
    "duration": 4,
    "start_time": "2021-12-02T17:53:57.214Z"
   },
   {
    "duration": 31,
    "start_time": "2021-12-02T17:53:57.229Z"
   },
   {
    "duration": 8,
    "start_time": "2021-12-02T17:53:57.264Z"
   },
   {
    "duration": 18,
    "start_time": "2021-12-02T17:53:57.275Z"
   },
   {
    "duration": 70,
    "start_time": "2021-12-02T17:53:57.297Z"
   },
   {
    "duration": 15,
    "start_time": "2021-12-02T17:53:57.371Z"
   },
   {
    "duration": 17,
    "start_time": "2021-12-02T17:53:57.390Z"
   },
   {
    "duration": 60,
    "start_time": "2021-12-02T17:53:57.411Z"
   },
   {
    "duration": 26,
    "start_time": "2021-12-02T17:53:57.474Z"
   },
   {
    "duration": 9,
    "start_time": "2021-12-02T17:53:57.504Z"
   },
   {
    "duration": 25,
    "start_time": "2021-12-02T17:53:57.533Z"
   },
   {
    "duration": 20,
    "start_time": "2021-12-02T17:53:57.560Z"
   },
   {
    "duration": 48,
    "start_time": "2021-12-02T17:53:57.587Z"
   },
   {
    "duration": 34,
    "start_time": "2021-12-02T17:53:57.639Z"
   },
   {
    "duration": 86,
    "start_time": "2021-12-02T17:53:57.675Z"
   },
   {
    "duration": 1372,
    "start_time": "2021-12-02T17:53:57.764Z"
   },
   {
    "duration": 18,
    "start_time": "2021-12-02T17:53:59.139Z"
   },
   {
    "duration": 15,
    "start_time": "2021-12-02T17:53:59.159Z"
   },
   {
    "duration": 52,
    "start_time": "2021-12-02T17:53:59.177Z"
   },
   {
    "duration": 485,
    "start_time": "2021-12-02T17:53:59.232Z"
   },
   {
    "duration": 129,
    "start_time": "2021-12-02T17:53:59.719Z"
   },
   {
    "duration": 722,
    "start_time": "2021-12-02T17:53:59.851Z"
   },
   {
    "duration": 58,
    "start_time": "2021-12-02T17:54:00.576Z"
   },
   {
    "duration": 40,
    "start_time": "2021-12-02T17:54:00.637Z"
   },
   {
    "duration": 54,
    "start_time": "2021-12-02T17:54:00.680Z"
   },
   {
    "duration": 1024,
    "start_time": "2021-12-02T17:54:00.737Z"
   },
   {
    "duration": 38,
    "start_time": "2021-12-02T17:54:01.765Z"
   },
   {
    "duration": 48,
    "start_time": "2021-12-02T17:54:01.807Z"
   },
   {
    "duration": 778,
    "start_time": "2021-12-02T17:54:01.857Z"
   },
   {
    "duration": 34,
    "start_time": "2021-12-02T17:54:02.638Z"
   },
   {
    "duration": 582,
    "start_time": "2021-12-02T17:54:02.674Z"
   },
   {
    "duration": 514,
    "start_time": "2021-12-02T17:54:03.259Z"
   },
   {
    "duration": 17,
    "start_time": "2021-12-02T17:54:03.776Z"
   },
   {
    "duration": 8,
    "start_time": "2021-12-02T17:54:03.795Z"
   },
   {
    "duration": 1062,
    "start_time": "2021-12-02T17:54:03.806Z"
   },
   {
    "duration": 1112,
    "start_time": "2021-12-02T17:54:04.871Z"
   },
   {
    "duration": 1067,
    "start_time": "2021-12-02T17:54:05.986Z"
   },
   {
    "duration": 1187,
    "start_time": "2021-12-02T17:54:07.056Z"
   },
   {
    "duration": 1123,
    "start_time": "2021-12-02T17:54:08.246Z"
   },
   {
    "duration": 22,
    "start_time": "2021-12-02T17:54:09.372Z"
   },
   {
    "duration": 53,
    "start_time": "2021-12-02T17:54:09.398Z"
   },
   {
    "duration": 27,
    "start_time": "2021-12-02T17:54:09.455Z"
   },
   {
    "duration": 528,
    "start_time": "2021-12-02T17:54:09.485Z"
   },
   {
    "duration": 490,
    "start_time": "2021-12-02T17:54:10.028Z"
   },
   {
    "duration": 22,
    "start_time": "2021-12-02T17:54:10.521Z"
   },
   {
    "duration": 20,
    "start_time": "2021-12-02T17:54:10.546Z"
   },
   {
    "duration": 15,
    "start_time": "2021-12-02T17:54:10.569Z"
   },
   {
    "duration": 54,
    "start_time": "2021-12-02T17:54:10.587Z"
   },
   {
    "duration": 24,
    "start_time": "2021-12-02T17:54:10.644Z"
   },
   {
    "duration": 17,
    "start_time": "2021-12-02T17:54:10.670Z"
   },
   {
    "duration": 4,
    "start_time": "2021-12-02T17:54:10.689Z"
   },
   {
    "duration": 64,
    "start_time": "2021-12-02T17:54:10.696Z"
   },
   {
    "duration": 7,
    "start_time": "2021-12-02T17:54:10.763Z"
   },
   {
    "duration": 22,
    "start_time": "2021-12-02T17:54:10.772Z"
   },
   {
    "duration": 19,
    "start_time": "2021-12-02T17:54:10.796Z"
   },
   {
    "duration": 7,
    "start_time": "2021-12-02T17:54:10.830Z"
   },
   {
    "duration": 17,
    "start_time": "2021-12-02T17:54:10.840Z"
   },
   {
    "duration": 5,
    "start_time": "2021-12-02T17:54:10.865Z"
   },
   {
    "duration": 7749,
    "start_time": "2021-12-03T15:08:48.813Z"
   },
   {
    "duration": 1308,
    "start_time": "2021-12-03T15:09:00.131Z"
   },
   {
    "duration": 3,
    "start_time": "2021-12-03T15:09:04.327Z"
   },
   {
    "duration": 39,
    "start_time": "2021-12-03T15:09:08.493Z"
   },
   {
    "duration": 39,
    "start_time": "2021-12-03T15:09:14.871Z"
   },
   {
    "duration": 16,
    "start_time": "2021-12-03T15:09:14.913Z"
   },
   {
    "duration": 12,
    "start_time": "2021-12-03T15:09:14.931Z"
   },
   {
    "duration": 35,
    "start_time": "2021-12-03T15:09:14.945Z"
   },
   {
    "duration": 14,
    "start_time": "2021-12-03T15:09:14.982Z"
   },
   {
    "duration": 498,
    "start_time": "2021-12-03T15:09:14.998Z"
   },
   {
    "duration": 28,
    "start_time": "2021-12-03T15:09:15.499Z"
   },
   {
    "duration": 47,
    "start_time": "2021-12-03T15:09:15.531Z"
   },
   {
    "duration": 3,
    "start_time": "2021-12-03T15:09:15.581Z"
   },
   {
    "duration": 25,
    "start_time": "2021-12-03T15:09:15.586Z"
   },
   {
    "duration": 5,
    "start_time": "2021-12-03T15:09:15.613Z"
   },
   {
    "duration": 14,
    "start_time": "2021-12-03T15:09:15.620Z"
   },
   {
    "duration": 44,
    "start_time": "2021-12-03T15:09:15.636Z"
   },
   {
    "duration": 7,
    "start_time": "2021-12-03T15:09:15.682Z"
   },
   {
    "duration": 10,
    "start_time": "2021-12-03T15:09:15.690Z"
   },
   {
    "duration": 20,
    "start_time": "2021-12-03T15:09:15.702Z"
   },
   {
    "duration": 12,
    "start_time": "2021-12-03T15:09:15.724Z"
   },
   {
    "duration": 30,
    "start_time": "2021-12-03T15:09:15.737Z"
   },
   {
    "duration": 16,
    "start_time": "2021-12-03T15:09:15.769Z"
   },
   {
    "duration": 15,
    "start_time": "2021-12-03T15:09:15.787Z"
   },
   {
    "duration": 28,
    "start_time": "2021-12-03T15:09:15.804Z"
   },
   {
    "duration": 46,
    "start_time": "2021-12-03T15:09:15.834Z"
   },
   {
    "duration": 15,
    "start_time": "2021-12-03T15:09:15.884Z"
   },
   {
    "duration": 392,
    "start_time": "2021-12-03T15:09:15.902Z"
   },
   {
    "duration": 13,
    "start_time": "2021-12-03T15:09:16.295Z"
   },
   {
    "duration": 11,
    "start_time": "2021-12-03T15:09:16.310Z"
   },
   {
    "duration": 13,
    "start_time": "2021-12-03T15:09:16.323Z"
   },
   {
    "duration": 444,
    "start_time": "2021-12-03T15:09:16.338Z"
   },
   {
    "duration": 146,
    "start_time": "2021-12-03T15:09:16.785Z"
   },
   {
    "duration": 660,
    "start_time": "2021-12-03T15:09:16.934Z"
   },
   {
    "duration": 34,
    "start_time": "2021-12-03T15:09:17.597Z"
   },
   {
    "duration": 59,
    "start_time": "2021-12-03T15:09:17.633Z"
   },
   {
    "duration": 23,
    "start_time": "2021-12-03T15:09:17.694Z"
   },
   {
    "duration": 458,
    "start_time": "2021-12-03T15:09:17.719Z"
   },
   {
    "duration": 16,
    "start_time": "2021-12-03T15:09:18.179Z"
   },
   {
    "duration": 13,
    "start_time": "2021-12-03T15:09:18.196Z"
   },
   {
    "duration": 715,
    "start_time": "2021-12-03T15:09:18.211Z"
   },
   {
    "duration": 43,
    "start_time": "2021-12-03T15:09:18.928Z"
   },
   {
    "duration": 415,
    "start_time": "2021-12-03T15:09:18.973Z"
   },
   {
    "duration": 367,
    "start_time": "2021-12-03T15:09:19.390Z"
   },
   {
    "duration": 12,
    "start_time": "2021-12-03T15:09:19.763Z"
   },
   {
    "duration": 16,
    "start_time": "2021-12-03T15:09:19.777Z"
   },
   {
    "duration": 822,
    "start_time": "2021-12-03T15:09:19.795Z"
   },
   {
    "duration": 730,
    "start_time": "2021-12-03T15:09:20.620Z"
   },
   {
    "duration": 773,
    "start_time": "2021-12-03T15:09:21.353Z"
   },
   {
    "duration": 1026,
    "start_time": "2021-12-03T15:09:22.128Z"
   },
   {
    "duration": 873,
    "start_time": "2021-12-03T15:09:23.164Z"
   },
   {
    "duration": 25,
    "start_time": "2021-12-03T15:09:24.039Z"
   },
   {
    "duration": 36,
    "start_time": "2021-12-03T15:09:24.067Z"
   },
   {
    "duration": 23,
    "start_time": "2021-12-03T15:09:24.106Z"
   },
   {
    "duration": 343,
    "start_time": "2021-12-03T15:09:24.132Z"
   },
   {
    "duration": 351,
    "start_time": "2021-12-03T15:09:24.477Z"
   },
   {
    "duration": 11,
    "start_time": "2021-12-03T15:09:24.830Z"
   },
   {
    "duration": 25,
    "start_time": "2021-12-03T15:09:24.843Z"
   },
   {
    "duration": 13,
    "start_time": "2021-12-03T15:09:24.870Z"
   },
   {
    "duration": 10,
    "start_time": "2021-12-03T15:09:24.885Z"
   },
   {
    "duration": 12,
    "start_time": "2021-12-03T15:09:24.897Z"
   },
   {
    "duration": 15,
    "start_time": "2021-12-03T15:09:24.911Z"
   },
   {
    "duration": 3,
    "start_time": "2021-12-03T15:09:24.927Z"
   },
   {
    "duration": 58,
    "start_time": "2021-12-03T15:09:24.932Z"
   },
   {
    "duration": 7,
    "start_time": "2021-12-03T15:09:24.993Z"
   },
   {
    "duration": 23,
    "start_time": "2021-12-03T15:09:25.002Z"
   },
   {
    "duration": 7,
    "start_time": "2021-12-03T15:09:25.027Z"
   },
   {
    "duration": 10,
    "start_time": "2021-12-03T15:09:25.035Z"
   },
   {
    "duration": 20,
    "start_time": "2021-12-03T15:09:25.047Z"
   },
   {
    "duration": 4,
    "start_time": "2021-12-03T15:09:25.068Z"
   },
   {
    "duration": 22,
    "start_time": "2021-12-03T18:32:16.198Z"
   },
   {
    "duration": 20,
    "start_time": "2021-12-03T18:32:25.729Z"
   },
   {
    "duration": 10,
    "start_time": "2021-12-03T18:32:29.901Z"
   },
   {
    "duration": 375,
    "start_time": "2021-12-03T18:32:32.632Z"
   },
   {
    "duration": 22,
    "start_time": "2021-12-03T18:33:04.218Z"
   },
   {
    "duration": 21,
    "start_time": "2021-12-03T18:33:08.909Z"
   },
   {
    "duration": 13,
    "start_time": "2021-12-03T18:33:12.250Z"
   },
   {
    "duration": 368,
    "start_time": "2021-12-03T18:33:15.411Z"
   },
   {
    "duration": 17,
    "start_time": "2021-12-03T18:35:14.645Z"
   },
   {
    "duration": 12,
    "start_time": "2021-12-03T18:35:17.999Z"
   },
   {
    "duration": 392,
    "start_time": "2021-12-03T18:35:20.118Z"
   },
   {
    "duration": 23,
    "start_time": "2021-12-03T18:39:57.933Z"
   },
   {
    "duration": 371,
    "start_time": "2021-12-03T18:40:10.156Z"
   },
   {
    "duration": 345,
    "start_time": "2021-12-03T18:40:19.993Z"
   },
   {
    "duration": 8,
    "start_time": "2021-12-03T19:04:11.523Z"
   },
   {
    "duration": 5,
    "start_time": "2021-12-03T19:04:13.303Z"
   },
   {
    "duration": 819,
    "start_time": "2021-12-03T19:04:18.163Z"
   },
   {
    "duration": 763,
    "start_time": "2021-12-03T19:04:24.100Z"
   },
   {
    "duration": 706,
    "start_time": "2021-12-03T19:04:34.919Z"
   },
   {
    "duration": 17,
    "start_time": "2021-12-03T19:05:25.138Z"
   },
   {
    "duration": 13,
    "start_time": "2021-12-03T19:05:27.319Z"
   },
   {
    "duration": 11,
    "start_time": "2021-12-03T19:05:29.143Z"
   },
   {
    "duration": 299,
    "start_time": "2021-12-03T19:05:31.420Z"
   },
   {
    "duration": 280,
    "start_time": "2021-12-03T19:05:34.125Z"
   },
   {
    "duration": 15,
    "start_time": "2021-12-03T19:07:47.065Z"
   },
   {
    "duration": 293,
    "start_time": "2021-12-03T19:09:29.681Z"
   },
   {
    "duration": 283,
    "start_time": "2021-12-03T19:09:32.916Z"
   },
   {
    "duration": 10,
    "start_time": "2021-12-03T19:15:32.271Z"
   },
   {
    "duration": 11,
    "start_time": "2021-12-03T19:15:35.951Z"
   },
   {
    "duration": 10,
    "start_time": "2021-12-03T19:15:42.457Z"
   },
   {
    "duration": 11,
    "start_time": "2021-12-03T19:15:46.642Z"
   },
   {
    "duration": 11,
    "start_time": "2021-12-03T19:15:49.425Z"
   },
   {
    "duration": 11,
    "start_time": "2021-12-03T19:15:52.686Z"
   },
   {
    "duration": 3,
    "start_time": "2021-12-03T19:17:11.505Z"
   },
   {
    "duration": 4,
    "start_time": "2021-12-03T19:17:14.435Z"
   },
   {
    "duration": 4,
    "start_time": "2021-12-03T19:17:21.203Z"
   },
   {
    "duration": 4,
    "start_time": "2021-12-03T19:17:55.759Z"
   },
   {
    "duration": 4,
    "start_time": "2021-12-03T19:17:57.700Z"
   },
   {
    "duration": 4,
    "start_time": "2021-12-03T19:18:00.257Z"
   },
   {
    "duration": 115,
    "start_time": "2021-12-03T19:18:59.708Z"
   },
   {
    "duration": 10,
    "start_time": "2021-12-03T19:19:06.798Z"
   },
   {
    "duration": 10,
    "start_time": "2021-12-03T19:19:12.881Z"
   },
   {
    "duration": 11,
    "start_time": "2021-12-03T19:19:16.805Z"
   },
   {
    "duration": 10,
    "start_time": "2021-12-03T19:19:19.491Z"
   },
   {
    "duration": 11,
    "start_time": "2021-12-03T19:19:21.705Z"
   },
   {
    "duration": 14,
    "start_time": "2021-12-03T19:51:41.110Z"
   },
   {
    "duration": 10,
    "start_time": "2021-12-03T19:51:45.229Z"
   },
   {
    "duration": 10,
    "start_time": "2021-12-03T19:51:49.647Z"
   },
   {
    "duration": 10,
    "start_time": "2021-12-03T19:51:52.843Z"
   },
   {
    "duration": 11,
    "start_time": "2021-12-03T19:52:15.726Z"
   },
   {
    "duration": 10,
    "start_time": "2021-12-03T19:52:20.074Z"
   },
   {
    "duration": 12,
    "start_time": "2021-12-03T20:10:37.657Z"
   },
   {
    "duration": 11,
    "start_time": "2021-12-03T20:10:40.898Z"
   },
   {
    "duration": 12,
    "start_time": "2021-12-03T20:10:45.668Z"
   },
   {
    "duration": 347,
    "start_time": "2021-12-03T20:15:35.381Z"
   },
   {
    "duration": 433,
    "start_time": "2021-12-03T20:17:55.062Z"
   },
   {
    "duration": 391,
    "start_time": "2021-12-03T20:18:02.555Z"
   },
   {
    "duration": 1054,
    "start_time": "2021-12-03T20:20:49.090Z"
   },
   {
    "duration": 407,
    "start_time": "2021-12-03T20:21:35.735Z"
   },
   {
    "duration": 413,
    "start_time": "2021-12-03T20:29:56.879Z"
   },
   {
    "duration": 5,
    "start_time": "2021-12-03T20:45:26.106Z"
   },
   {
    "duration": 4,
    "start_time": "2021-12-03T20:47:09.317Z"
   },
   {
    "duration": 23,
    "start_time": "2021-12-03T20:47:59.811Z"
   },
   {
    "duration": 244,
    "start_time": "2021-12-03T20:49:10.138Z"
   },
   {
    "duration": 36,
    "start_time": "2021-12-03T20:49:14.866Z"
   },
   {
    "duration": 6,
    "start_time": "2021-12-03T20:49:28.525Z"
   },
   {
    "duration": 22,
    "start_time": "2021-12-03T20:49:34.392Z"
   },
   {
    "duration": 2808,
    "start_time": "2021-12-03T20:49:51.034Z"
   },
   {
    "duration": 1340,
    "start_time": "2021-12-03T20:49:53.844Z"
   },
   {
    "duration": 41,
    "start_time": "2021-12-03T20:49:55.186Z"
   },
   {
    "duration": 16,
    "start_time": "2021-12-03T20:49:55.229Z"
   },
   {
    "duration": 25,
    "start_time": "2021-12-03T20:49:55.247Z"
   },
   {
    "duration": 38,
    "start_time": "2021-12-03T20:49:55.274Z"
   },
   {
    "duration": 24,
    "start_time": "2021-12-03T20:49:55.314Z"
   },
   {
    "duration": 563,
    "start_time": "2021-12-03T20:49:55.342Z"
   },
   {
    "duration": 26,
    "start_time": "2021-12-03T20:49:55.907Z"
   },
   {
    "duration": 32,
    "start_time": "2021-12-03T20:49:55.935Z"
   },
   {
    "duration": 3,
    "start_time": "2021-12-03T20:49:55.969Z"
   },
   {
    "duration": 27,
    "start_time": "2021-12-03T20:49:55.974Z"
   },
   {
    "duration": 17,
    "start_time": "2021-12-03T20:49:56.003Z"
   },
   {
    "duration": 32,
    "start_time": "2021-12-03T20:49:56.022Z"
   },
   {
    "duration": 40,
    "start_time": "2021-12-03T20:49:56.056Z"
   },
   {
    "duration": 19,
    "start_time": "2021-12-03T20:49:56.098Z"
   },
   {
    "duration": 26,
    "start_time": "2021-12-03T20:49:56.119Z"
   },
   {
    "duration": 45,
    "start_time": "2021-12-03T20:49:56.147Z"
   },
   {
    "duration": 17,
    "start_time": "2021-12-03T20:49:56.194Z"
   },
   {
    "duration": 13,
    "start_time": "2021-12-03T20:49:56.212Z"
   },
   {
    "duration": 41,
    "start_time": "2021-12-03T20:49:56.227Z"
   },
   {
    "duration": 19,
    "start_time": "2021-12-03T20:49:56.270Z"
   },
   {
    "duration": 47,
    "start_time": "2021-12-03T20:49:56.293Z"
   },
   {
    "duration": 19,
    "start_time": "2021-12-03T20:49:56.343Z"
   },
   {
    "duration": 26,
    "start_time": "2021-12-03T20:49:56.363Z"
   },
   {
    "duration": 356,
    "start_time": "2021-12-03T20:49:56.391Z"
   },
   {
    "duration": 23,
    "start_time": "2021-12-03T20:49:56.749Z"
   },
   {
    "duration": 9,
    "start_time": "2021-12-03T20:49:56.774Z"
   },
   {
    "duration": 30,
    "start_time": "2021-12-03T20:49:56.785Z"
   },
   {
    "duration": 419,
    "start_time": "2021-12-03T20:49:56.817Z"
   },
   {
    "duration": 145,
    "start_time": "2021-12-03T20:49:57.238Z"
   },
   {
    "duration": 502,
    "start_time": "2021-12-03T20:49:57.385Z"
   },
   {
    "duration": 21,
    "start_time": "2021-12-03T20:49:57.888Z"
   },
   {
    "duration": 17,
    "start_time": "2021-12-03T20:49:57.911Z"
   },
   {
    "duration": 34,
    "start_time": "2021-12-03T20:49:57.930Z"
   },
   {
    "duration": 403,
    "start_time": "2021-12-03T20:49:57.966Z"
   },
   {
    "duration": 14,
    "start_time": "2021-12-03T20:49:58.371Z"
   },
   {
    "duration": 10,
    "start_time": "2021-12-03T20:49:58.386Z"
   },
   {
    "duration": 410,
    "start_time": "2021-12-03T20:49:58.398Z"
   },
   {
    "duration": 24,
    "start_time": "2021-12-03T20:49:58.810Z"
   },
   {
    "duration": 416,
    "start_time": "2021-12-03T20:49:58.836Z"
   },
   {
    "duration": 415,
    "start_time": "2021-12-03T20:49:59.253Z"
   },
   {
    "duration": 8,
    "start_time": "2021-12-03T20:49:59.670Z"
   },
   {
    "duration": 6,
    "start_time": "2021-12-03T20:49:59.679Z"
   },
   {
    "duration": 815,
    "start_time": "2021-12-03T20:49:59.687Z"
   },
   {
    "duration": 767,
    "start_time": "2021-12-03T20:50:00.504Z"
   },
   {
    "duration": 732,
    "start_time": "2021-12-03T20:50:01.273Z"
   },
   {
    "duration": 17,
    "start_time": "2021-12-03T20:50:02.007Z"
   },
   {
    "duration": 36,
    "start_time": "2021-12-03T20:50:02.025Z"
   },
   {
    "duration": 22,
    "start_time": "2021-12-03T20:50:02.063Z"
   },
   {
    "duration": 31,
    "start_time": "2021-12-03T20:50:02.087Z"
   },
   {
    "duration": 497,
    "start_time": "2021-12-03T20:50:02.120Z"
   },
   {
    "duration": 451,
    "start_time": "2021-12-03T20:50:02.619Z"
   },
   {
    "duration": 397,
    "start_time": "2021-12-03T20:50:03.073Z"
   },
   {
    "duration": 12,
    "start_time": "2021-12-03T20:50:03.472Z"
   },
   {
    "duration": 14,
    "start_time": "2021-12-03T20:50:03.486Z"
   },
   {
    "duration": 11,
    "start_time": "2021-12-03T20:50:03.502Z"
   },
   {
    "duration": 10,
    "start_time": "2021-12-03T20:50:03.515Z"
   },
   {
    "duration": 43,
    "start_time": "2021-12-03T20:50:03.527Z"
   },
   {
    "duration": 24,
    "start_time": "2021-12-03T20:50:03.572Z"
   },
   {
    "duration": 20,
    "start_time": "2021-12-03T20:50:03.598Z"
   },
   {
    "duration": 27,
    "start_time": "2021-12-03T20:50:03.620Z"
   },
   {
    "duration": 31,
    "start_time": "2021-12-03T20:50:03.649Z"
   },
   {
    "duration": 397,
    "start_time": "2021-12-03T20:50:03.681Z"
   },
   {
    "duration": 4,
    "start_time": "2021-12-03T20:50:04.080Z"
   },
   {
    "duration": 6,
    "start_time": "2021-12-03T20:50:04.086Z"
   },
   {
    "duration": 31,
    "start_time": "2021-12-03T20:50:04.094Z"
   },
   {
    "duration": 6,
    "start_time": "2021-12-03T20:50:04.130Z"
   },
   {
    "duration": 30,
    "start_time": "2021-12-03T20:50:04.137Z"
   },
   {
    "duration": 8,
    "start_time": "2021-12-03T20:50:04.169Z"
   },
   {
    "duration": 18,
    "start_time": "2021-12-03T20:50:04.179Z"
   },
   {
    "duration": 21,
    "start_time": "2021-12-03T20:50:04.199Z"
   },
   {
    "duration": 9,
    "start_time": "2021-12-03T20:50:04.221Z"
   },
   {
    "duration": 5,
    "start_time": "2021-12-03T20:53:37.965Z"
   },
   {
    "duration": 4,
    "start_time": "2021-12-03T20:53:39.941Z"
   },
   {
    "duration": 24,
    "start_time": "2021-12-03T20:55:24.103Z"
   },
   {
    "duration": 21,
    "start_time": "2021-12-03T20:55:30.728Z"
   },
   {
    "duration": 11,
    "start_time": "2021-12-03T20:55:33.370Z"
   },
   {
    "duration": 343,
    "start_time": "2021-12-03T20:55:34.490Z"
   },
   {
    "duration": 15,
    "start_time": "2021-12-03T20:55:51.031Z"
   },
   {
    "duration": 12,
    "start_time": "2021-12-03T20:55:52.769Z"
   },
   {
    "duration": 393,
    "start_time": "2021-12-03T20:55:54.647Z"
   },
   {
    "duration": 22,
    "start_time": "2021-12-03T20:56:02.924Z"
   },
   {
    "duration": 358,
    "start_time": "2021-12-03T20:56:08.299Z"
   },
   {
    "duration": 340,
    "start_time": "2021-12-03T20:56:10.611Z"
   },
   {
    "duration": 8,
    "start_time": "2021-12-03T20:56:15.276Z"
   },
   {
    "duration": 4,
    "start_time": "2021-12-03T20:56:17.757Z"
   },
   {
    "duration": 729,
    "start_time": "2021-12-03T20:56:23.479Z"
   },
   {
    "duration": 796,
    "start_time": "2021-12-03T20:56:37.174Z"
   },
   {
    "duration": 956,
    "start_time": "2021-12-03T20:56:42.644Z"
   },
   {
    "duration": 16,
    "start_time": "2021-12-03T20:56:50.123Z"
   },
   {
    "duration": 20,
    "start_time": "2021-12-03T20:56:56.421Z"
   },
   {
    "duration": 15,
    "start_time": "2021-12-03T20:56:58.636Z"
   },
   {
    "duration": 12,
    "start_time": "2021-12-03T20:57:01.418Z"
   },
   {
    "duration": 292,
    "start_time": "2021-12-03T20:57:04.114Z"
   },
   {
    "duration": 305,
    "start_time": "2021-12-03T20:57:07.165Z"
   },
   {
    "duration": 295,
    "start_time": "2021-12-03T20:57:10.233Z"
   },
   {
    "duration": 15,
    "start_time": "2021-12-03T20:57:16.568Z"
   },
   {
    "duration": 12,
    "start_time": "2021-12-03T20:57:20.538Z"
   },
   {
    "duration": 13,
    "start_time": "2021-12-03T20:57:21.544Z"
   },
   {
    "duration": 11,
    "start_time": "2021-12-03T20:57:31.540Z"
   },
   {
    "duration": 11,
    "start_time": "2021-12-03T20:57:35.129Z"
   },
   {
    "duration": 11,
    "start_time": "2021-12-03T20:57:38.501Z"
   },
   {
    "duration": 7,
    "start_time": "2021-12-03T20:57:42.841Z"
   },
   {
    "duration": 3,
    "start_time": "2021-12-03T20:57:44.834Z"
   },
   {
    "duration": 32,
    "start_time": "2021-12-03T20:57:50.104Z"
   },
   {
    "duration": 477,
    "start_time": "2021-12-03T20:58:29.522Z"
   },
   {
    "duration": 562,
    "start_time": "2021-12-03T20:59:27.194Z"
   },
   {
    "duration": 313,
    "start_time": "2021-12-03T21:00:00.515Z"
   },
   {
    "duration": 5,
    "start_time": "2021-12-03T21:04:27.837Z"
   },
   {
    "duration": 5,
    "start_time": "2021-12-03T21:04:30.447Z"
   },
   {
    "duration": 4,
    "start_time": "2021-12-03T21:10:22.135Z"
   },
   {
    "duration": 23,
    "start_time": "2021-12-03T21:10:24.550Z"
   },
   {
    "duration": 409,
    "start_time": "2021-12-03T21:10:26.997Z"
   },
   {
    "duration": 304,
    "start_time": "2021-12-03T21:10:57.035Z"
   },
   {
    "duration": 3,
    "start_time": "2021-12-03T21:14:23.502Z"
   },
   {
    "duration": 350,
    "start_time": "2021-12-03T21:14:42.403Z"
   },
   {
    "duration": 314,
    "start_time": "2021-12-03T21:15:14.140Z"
   },
   {
    "duration": 326,
    "start_time": "2021-12-03T21:15:39.966Z"
   },
   {
    "duration": 282,
    "start_time": "2021-12-03T21:17:48.150Z"
   },
   {
    "duration": 27,
    "start_time": "2021-12-03T21:18:00.188Z"
   },
   {
    "duration": 7,
    "start_time": "2021-12-03T21:18:10.197Z"
   },
   {
    "duration": 7,
    "start_time": "2021-12-03T21:18:11.799Z"
   },
   {
    "duration": 4,
    "start_time": "2021-12-03T21:18:16.909Z"
   },
   {
    "duration": 4,
    "start_time": "2021-12-03T21:18:20.883Z"
   },
   {
    "duration": 456,
    "start_time": "2021-12-03T21:20:11.930Z"
   },
   {
    "duration": 391,
    "start_time": "2021-12-03T21:20:24.100Z"
   },
   {
    "duration": 733,
    "start_time": "2021-12-03T21:20:44.767Z"
   },
   {
    "duration": 308,
    "start_time": "2021-12-03T21:20:56.155Z"
   },
   {
    "duration": 179717,
    "start_time": "2021-12-04T08:22:32.716Z"
   },
   {
    "duration": 1666,
    "start_time": "2021-12-04T08:25:32.436Z"
   },
   {
    "duration": 54,
    "start_time": "2021-12-04T08:25:34.105Z"
   },
   {
    "duration": 25,
    "start_time": "2021-12-04T08:25:34.161Z"
   },
   {
    "duration": 41,
    "start_time": "2021-12-04T08:25:34.188Z"
   },
   {
    "duration": 24,
    "start_time": "2021-12-04T08:25:34.232Z"
   },
   {
    "duration": 30,
    "start_time": "2021-12-04T08:25:34.258Z"
   },
   {
    "duration": 100618,
    "start_time": "2021-12-04T08:25:34.292Z"
   },
   {
    "duration": 42,
    "start_time": "2021-12-04T08:27:14.913Z"
   },
   {
    "duration": 37,
    "start_time": "2021-12-04T08:27:14.958Z"
   },
   {
    "duration": 5,
    "start_time": "2021-12-04T08:27:14.997Z"
   },
   {
    "duration": 49,
    "start_time": "2021-12-04T08:27:15.005Z"
   },
   {
    "duration": 11,
    "start_time": "2021-12-04T08:27:15.057Z"
   },
   {
    "duration": 10,
    "start_time": "2021-12-04T08:27:15.070Z"
   },
   {
    "duration": 63,
    "start_time": "2021-12-04T08:27:15.082Z"
   },
   {
    "duration": 10,
    "start_time": "2021-12-04T08:27:15.147Z"
   },
   {
    "duration": 12,
    "start_time": "2021-12-04T08:27:15.160Z"
   },
   {
    "duration": 68,
    "start_time": "2021-12-04T08:27:15.174Z"
   },
   {
    "duration": 17,
    "start_time": "2021-12-04T08:27:15.245Z"
   },
   {
    "duration": 7,
    "start_time": "2021-12-04T08:27:15.264Z"
   },
   {
    "duration": 55,
    "start_time": "2021-12-04T08:27:15.274Z"
   },
   {
    "duration": 20,
    "start_time": "2021-12-04T08:27:15.332Z"
   },
   {
    "duration": 40,
    "start_time": "2021-12-04T08:27:15.358Z"
   },
   {
    "duration": 56,
    "start_time": "2021-12-04T08:27:15.402Z"
   },
   {
    "duration": 20,
    "start_time": "2021-12-04T08:27:15.461Z"
   },
   {
    "duration": 980,
    "start_time": "2021-12-04T08:27:15.484Z"
   },
   {
    "duration": 25,
    "start_time": "2021-12-04T08:27:16.467Z"
   },
   {
    "duration": 43,
    "start_time": "2021-12-04T08:27:16.496Z"
   },
   {
    "duration": 25,
    "start_time": "2021-12-04T08:27:16.542Z"
   },
   {
    "duration": 710,
    "start_time": "2021-12-04T08:27:16.570Z"
   },
   {
    "duration": 129,
    "start_time": "2021-12-04T08:27:17.283Z"
   },
   {
    "duration": 686,
    "start_time": "2021-12-04T08:27:17.415Z"
   },
   {
    "duration": 51,
    "start_time": "2021-12-04T08:27:18.104Z"
   },
   {
    "duration": 33,
    "start_time": "2021-12-04T08:27:18.158Z"
   },
   {
    "duration": 36,
    "start_time": "2021-12-04T08:27:18.194Z"
   },
   {
    "duration": 525,
    "start_time": "2021-12-04T08:27:18.233Z"
   },
   {
    "duration": 21,
    "start_time": "2021-12-04T08:27:18.760Z"
   },
   {
    "duration": 17,
    "start_time": "2021-12-04T08:27:18.783Z"
   },
   {
    "duration": 703,
    "start_time": "2021-12-04T08:27:18.803Z"
   },
   {
    "duration": 42,
    "start_time": "2021-12-04T08:27:19.508Z"
   },
   {
    "duration": 545,
    "start_time": "2021-12-04T08:27:19.553Z"
   },
   {
    "duration": 591,
    "start_time": "2021-12-04T08:27:20.101Z"
   },
   {
    "duration": 13,
    "start_time": "2021-12-04T08:27:20.695Z"
   },
   {
    "duration": 24,
    "start_time": "2021-12-04T08:27:20.711Z"
   },
   {
    "duration": 1151,
    "start_time": "2021-12-04T08:27:20.737Z"
   },
   {
    "duration": 1043,
    "start_time": "2021-12-04T08:27:21.890Z"
   },
   {
    "duration": 1310,
    "start_time": "2021-12-04T08:27:22.936Z"
   },
   {
    "duration": 32,
    "start_time": "2021-12-04T08:27:24.249Z"
   },
   {
    "duration": 54,
    "start_time": "2021-12-04T08:27:24.284Z"
   },
   {
    "duration": 25,
    "start_time": "2021-12-04T08:27:24.341Z"
   },
   {
    "duration": 16,
    "start_time": "2021-12-04T08:27:24.369Z"
   },
   {
    "duration": 554,
    "start_time": "2021-12-04T08:27:24.388Z"
   },
   {
    "duration": 589,
    "start_time": "2021-12-04T08:27:24.945Z"
   },
   {
    "duration": 594,
    "start_time": "2021-12-04T08:27:25.537Z"
   },
   {
    "duration": 13,
    "start_time": "2021-12-04T08:27:26.134Z"
   },
   {
    "duration": 18,
    "start_time": "2021-12-04T08:27:26.150Z"
   },
   {
    "duration": 15,
    "start_time": "2021-12-04T08:27:26.170Z"
   },
   {
    "duration": 49,
    "start_time": "2021-12-04T08:27:26.187Z"
   },
   {
    "duration": 18,
    "start_time": "2021-12-04T08:27:26.238Z"
   },
   {
    "duration": 15,
    "start_time": "2021-12-04T08:27:26.258Z"
   },
   {
    "duration": 4,
    "start_time": "2021-12-04T08:27:26.276Z"
   },
   {
    "duration": 74,
    "start_time": "2021-12-04T08:27:26.282Z"
   },
   {
    "duration": 550,
    "start_time": "2021-12-04T08:27:26.359Z"
   },
   {
    "duration": 541,
    "start_time": "2021-12-04T08:27:26.911Z"
   },
   {
    "duration": 545,
    "start_time": "2021-12-04T08:27:27.454Z"
   },
   {
    "duration": 4,
    "start_time": "2021-12-04T08:27:28.001Z"
   },
   {
    "duration": 56,
    "start_time": "2021-12-04T08:27:28.007Z"
   },
   {
    "duration": 9,
    "start_time": "2021-12-04T08:27:28.070Z"
   },
   {
    "duration": 17,
    "start_time": "2021-12-04T08:27:28.082Z"
   },
   {
    "duration": 27,
    "start_time": "2021-12-04T08:27:28.102Z"
   },
   {
    "duration": 6,
    "start_time": "2021-12-04T08:27:28.132Z"
   },
   {
    "duration": 11,
    "start_time": "2021-12-04T08:27:28.141Z"
   },
   {
    "duration": 7,
    "start_time": "2021-12-04T08:27:28.155Z"
   }
  ],
  "kernelspec": {
   "display_name": "Python 3 (ipykernel)",
   "language": "python",
   "name": "python3"
  },
  "language_info": {
   "codemirror_mode": {
    "name": "ipython",
    "version": 3
   },
   "file_extension": ".py",
   "mimetype": "text/x-python",
   "name": "python",
   "nbconvert_exporter": "python",
   "pygments_lexer": "ipython3",
   "version": "3.7.10"
  },
  "toc": {
   "base_numbering": 1,
   "nav_menu": {
    "height": "173px",
    "width": "434px"
   },
   "number_sections": true,
   "sideBar": true,
   "skip_h1_title": true,
   "title_cell": "Table of Contents",
   "title_sidebar": "Contents",
   "toc_cell": false,
   "toc_position": {},
   "toc_section_display": true,
   "toc_window_display": false
  }
 },
 "nbformat": 4,
 "nbformat_minor": 2
}
